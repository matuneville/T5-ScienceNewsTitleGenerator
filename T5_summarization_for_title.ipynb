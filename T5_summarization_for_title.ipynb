{
 "cells": [
  {
   "metadata": {},
   "cell_type": "markdown",
   "source": "## Getting Data",
   "id": "fc221bf7ea6050bf"
  },
  {
   "cell_type": "code",
   "id": "initial_id",
   "metadata": {
    "collapsed": true,
    "ExecuteTime": {
     "end_time": "2025-01-19T19:42:09.526369Z",
     "start_time": "2025-01-19T19:42:09.029338Z"
    }
   },
   "source": [
    "import pandas as pd\n",
    "import random"
   ],
   "outputs": [],
   "execution_count": 1
  },
  {
   "metadata": {
    "ExecuteTime": {
     "end_time": "2025-01-19T19:42:10.238076Z",
     "start_time": "2025-01-19T19:42:09.534730Z"
    }
   },
   "cell_type": "code",
   "source": [
    "# Dataset source: https://huggingface.co/datasets/ronaldahmed/scitechnews\n",
    "df = pd.read_json('data/train.json', lines=True)\n",
    "df"
   ],
   "id": "8ec881a4dc6ad8c8",
   "outputs": [
    {
     "data": {
      "text/plain": [
       "          id                                           pr-title  \\\n",
       "0          0  New York City's Vaccine Passport Plan Renews O...   \n",
       "1          1  Facebook Disables Accounts Tied to NYU Researc...   \n",
       "2          2  Teenage Girls in Northern Nigeria 'Open Their ...   \n",
       "3          3  3D 'Heat Map' Animation Shows How Seizures Spr...   \n",
       "4          4  Endlessly Changing Playground Teaches AIs to M...   \n",
       "...      ...                                                ...   \n",
       "26633  29065  Young People Get Their Knowledge of Tech From ...   \n",
       "26634  29067  TUM Team ASIC Implements Post-Quantum Cryptogr...   \n",
       "26635  29070  3D Concrete Printing Robots Cut Rail Construct...   \n",
       "26636   6496  'Listening' Drone Helps Find Victims Needing R...   \n",
       "26637  29072  Kaseya Ransomware Attack Sets Off Race to Hack...   \n",
       "\n",
       "                                              pr-article  \\\n",
       "0      When New York City announced on Tuesday that i...   \n",
       "1      Facebook Inc. has disabled the personal accoun...   \n",
       "2      KANO, Nigeria, Aug 2 (Reuters) - Teenage girls...   \n",
       "3      For 29 years, from the time she was 12, Rashet...   \n",
       "4      What did they learn? Some of DeepMind's XLand ...   \n",
       "...                                                  ...   \n",
       "26633                                                      \n",
       "26634                                                      \n",
       "26635                                                      \n",
       "26636  As part of the ImPACT Tough Robotics Challenge...   \n",
       "26637                                                      \n",
       "\n",
       "                                              pr-summary sc-title sc-abstract  \\\n",
       "0      New York's City's mandate that people must sho...                        \n",
       "1      Facebook has disabled the personal accounts of...                        \n",
       "2      The Kabara non-governmental organization (NGO)...                        \n",
       "3      University of California, San Francisco (UCSF)...                        \n",
       "4      Alphabet's DeepMind Technologies has developed...                        \n",
       "...                                                  ...      ...         ...   \n",
       "26633  A survey of 1,000 16- to 21-year-olds in the U...                        \n",
       "26634  A team of researchers at Germany's Technical U...                        \n",
       "26635  Britain will employ robotic three-dimensionall...                        \n",
       "26636  Researchers in Japan say they have developed t...                        \n",
       "26637  Cybersecurity experts warn that July's ransomw...                        \n",
       "\n",
       "      sc-section_names sc-sections sc-article sc-authors  \n",
       "0                   []          []                    []  \n",
       "1                   []          []                    []  \n",
       "2                   []          []                    []  \n",
       "3                   []          []                    []  \n",
       "4                   []          []                    []  \n",
       "...                ...         ...        ...        ...  \n",
       "26633               []          []                    []  \n",
       "26634               []          []                    []  \n",
       "26635               []          []                    []  \n",
       "26636               []          []                    []  \n",
       "26637               []          []                    []  \n",
       "\n",
       "[26638 rows x 10 columns]"
      ],
      "text/html": [
       "<div>\n",
       "<style scoped>\n",
       "    .dataframe tbody tr th:only-of-type {\n",
       "        vertical-align: middle;\n",
       "    }\n",
       "\n",
       "    .dataframe tbody tr th {\n",
       "        vertical-align: top;\n",
       "    }\n",
       "\n",
       "    .dataframe thead th {\n",
       "        text-align: right;\n",
       "    }\n",
       "</style>\n",
       "<table border=\"1\" class=\"dataframe\">\n",
       "  <thead>\n",
       "    <tr style=\"text-align: right;\">\n",
       "      <th></th>\n",
       "      <th>id</th>\n",
       "      <th>pr-title</th>\n",
       "      <th>pr-article</th>\n",
       "      <th>pr-summary</th>\n",
       "      <th>sc-title</th>\n",
       "      <th>sc-abstract</th>\n",
       "      <th>sc-section_names</th>\n",
       "      <th>sc-sections</th>\n",
       "      <th>sc-article</th>\n",
       "      <th>sc-authors</th>\n",
       "    </tr>\n",
       "  </thead>\n",
       "  <tbody>\n",
       "    <tr>\n",
       "      <th>0</th>\n",
       "      <td>0</td>\n",
       "      <td>New York City's Vaccine Passport Plan Renews O...</td>\n",
       "      <td>When New York City announced on Tuesday that i...</td>\n",
       "      <td>New York's City's mandate that people must sho...</td>\n",
       "      <td></td>\n",
       "      <td></td>\n",
       "      <td>[]</td>\n",
       "      <td>[]</td>\n",
       "      <td></td>\n",
       "      <td>[]</td>\n",
       "    </tr>\n",
       "    <tr>\n",
       "      <th>1</th>\n",
       "      <td>1</td>\n",
       "      <td>Facebook Disables Accounts Tied to NYU Researc...</td>\n",
       "      <td>Facebook Inc. has disabled the personal accoun...</td>\n",
       "      <td>Facebook has disabled the personal accounts of...</td>\n",
       "      <td></td>\n",
       "      <td></td>\n",
       "      <td>[]</td>\n",
       "      <td>[]</td>\n",
       "      <td></td>\n",
       "      <td>[]</td>\n",
       "    </tr>\n",
       "    <tr>\n",
       "      <th>2</th>\n",
       "      <td>2</td>\n",
       "      <td>Teenage Girls in Northern Nigeria 'Open Their ...</td>\n",
       "      <td>KANO, Nigeria, Aug 2 (Reuters) - Teenage girls...</td>\n",
       "      <td>The Kabara non-governmental organization (NGO)...</td>\n",
       "      <td></td>\n",
       "      <td></td>\n",
       "      <td>[]</td>\n",
       "      <td>[]</td>\n",
       "      <td></td>\n",
       "      <td>[]</td>\n",
       "    </tr>\n",
       "    <tr>\n",
       "      <th>3</th>\n",
       "      <td>3</td>\n",
       "      <td>3D 'Heat Map' Animation Shows How Seizures Spr...</td>\n",
       "      <td>For 29 years, from the time she was 12, Rashet...</td>\n",
       "      <td>University of California, San Francisco (UCSF)...</td>\n",
       "      <td></td>\n",
       "      <td></td>\n",
       "      <td>[]</td>\n",
       "      <td>[]</td>\n",
       "      <td></td>\n",
       "      <td>[]</td>\n",
       "    </tr>\n",
       "    <tr>\n",
       "      <th>4</th>\n",
       "      <td>4</td>\n",
       "      <td>Endlessly Changing Playground Teaches AIs to M...</td>\n",
       "      <td>What did they learn? Some of DeepMind's XLand ...</td>\n",
       "      <td>Alphabet's DeepMind Technologies has developed...</td>\n",
       "      <td></td>\n",
       "      <td></td>\n",
       "      <td>[]</td>\n",
       "      <td>[]</td>\n",
       "      <td></td>\n",
       "      <td>[]</td>\n",
       "    </tr>\n",
       "    <tr>\n",
       "      <th>...</th>\n",
       "      <td>...</td>\n",
       "      <td>...</td>\n",
       "      <td>...</td>\n",
       "      <td>...</td>\n",
       "      <td>...</td>\n",
       "      <td>...</td>\n",
       "      <td>...</td>\n",
       "      <td>...</td>\n",
       "      <td>...</td>\n",
       "      <td>...</td>\n",
       "    </tr>\n",
       "    <tr>\n",
       "      <th>26633</th>\n",
       "      <td>29065</td>\n",
       "      <td>Young People Get Their Knowledge of Tech From ...</td>\n",
       "      <td></td>\n",
       "      <td>A survey of 1,000 16- to 21-year-olds in the U...</td>\n",
       "      <td></td>\n",
       "      <td></td>\n",
       "      <td>[]</td>\n",
       "      <td>[]</td>\n",
       "      <td></td>\n",
       "      <td>[]</td>\n",
       "    </tr>\n",
       "    <tr>\n",
       "      <th>26634</th>\n",
       "      <td>29067</td>\n",
       "      <td>TUM Team ASIC Implements Post-Quantum Cryptogr...</td>\n",
       "      <td></td>\n",
       "      <td>A team of researchers at Germany's Technical U...</td>\n",
       "      <td></td>\n",
       "      <td></td>\n",
       "      <td>[]</td>\n",
       "      <td>[]</td>\n",
       "      <td></td>\n",
       "      <td>[]</td>\n",
       "    </tr>\n",
       "    <tr>\n",
       "      <th>26635</th>\n",
       "      <td>29070</td>\n",
       "      <td>3D Concrete Printing Robots Cut Rail Construct...</td>\n",
       "      <td></td>\n",
       "      <td>Britain will employ robotic three-dimensionall...</td>\n",
       "      <td></td>\n",
       "      <td></td>\n",
       "      <td>[]</td>\n",
       "      <td>[]</td>\n",
       "      <td></td>\n",
       "      <td>[]</td>\n",
       "    </tr>\n",
       "    <tr>\n",
       "      <th>26636</th>\n",
       "      <td>6496</td>\n",
       "      <td>'Listening' Drone Helps Find Victims Needing R...</td>\n",
       "      <td>As part of the ImPACT Tough Robotics Challenge...</td>\n",
       "      <td>Researchers in Japan say they have developed t...</td>\n",
       "      <td></td>\n",
       "      <td></td>\n",
       "      <td>[]</td>\n",
       "      <td>[]</td>\n",
       "      <td></td>\n",
       "      <td>[]</td>\n",
       "    </tr>\n",
       "    <tr>\n",
       "      <th>26637</th>\n",
       "      <td>29072</td>\n",
       "      <td>Kaseya Ransomware Attack Sets Off Race to Hack...</td>\n",
       "      <td></td>\n",
       "      <td>Cybersecurity experts warn that July's ransomw...</td>\n",
       "      <td></td>\n",
       "      <td></td>\n",
       "      <td>[]</td>\n",
       "      <td>[]</td>\n",
       "      <td></td>\n",
       "      <td>[]</td>\n",
       "    </tr>\n",
       "  </tbody>\n",
       "</table>\n",
       "<p>26638 rows × 10 columns</p>\n",
       "</div>"
      ]
     },
     "execution_count": 2,
     "metadata": {},
     "output_type": "execute_result"
    }
   ],
   "execution_count": 2
  },
  {
   "metadata": {
    "ExecuteTime": {
     "end_time": "2025-01-19T19:42:10.432890Z",
     "start_time": "2025-01-19T19:42:10.422677Z"
    }
   },
   "cell_type": "code",
   "source": [
    "df = df[['pr-title', 'pr-article']]\n",
    "df"
   ],
   "id": "f0cc4555a283f467",
   "outputs": [
    {
     "data": {
      "text/plain": [
       "                                                pr-title  \\\n",
       "0      New York City's Vaccine Passport Plan Renews O...   \n",
       "1      Facebook Disables Accounts Tied to NYU Researc...   \n",
       "2      Teenage Girls in Northern Nigeria 'Open Their ...   \n",
       "3      3D 'Heat Map' Animation Shows How Seizures Spr...   \n",
       "4      Endlessly Changing Playground Teaches AIs to M...   \n",
       "...                                                  ...   \n",
       "26633  Young People Get Their Knowledge of Tech From ...   \n",
       "26634  TUM Team ASIC Implements Post-Quantum Cryptogr...   \n",
       "26635  3D Concrete Printing Robots Cut Rail Construct...   \n",
       "26636  'Listening' Drone Helps Find Victims Needing R...   \n",
       "26637  Kaseya Ransomware Attack Sets Off Race to Hack...   \n",
       "\n",
       "                                              pr-article  \n",
       "0      When New York City announced on Tuesday that i...  \n",
       "1      Facebook Inc. has disabled the personal accoun...  \n",
       "2      KANO, Nigeria, Aug 2 (Reuters) - Teenage girls...  \n",
       "3      For 29 years, from the time she was 12, Rashet...  \n",
       "4      What did they learn? Some of DeepMind's XLand ...  \n",
       "...                                                  ...  \n",
       "26633                                                     \n",
       "26634                                                     \n",
       "26635                                                     \n",
       "26636  As part of the ImPACT Tough Robotics Challenge...  \n",
       "26637                                                     \n",
       "\n",
       "[26638 rows x 2 columns]"
      ],
      "text/html": [
       "<div>\n",
       "<style scoped>\n",
       "    .dataframe tbody tr th:only-of-type {\n",
       "        vertical-align: middle;\n",
       "    }\n",
       "\n",
       "    .dataframe tbody tr th {\n",
       "        vertical-align: top;\n",
       "    }\n",
       "\n",
       "    .dataframe thead th {\n",
       "        text-align: right;\n",
       "    }\n",
       "</style>\n",
       "<table border=\"1\" class=\"dataframe\">\n",
       "  <thead>\n",
       "    <tr style=\"text-align: right;\">\n",
       "      <th></th>\n",
       "      <th>pr-title</th>\n",
       "      <th>pr-article</th>\n",
       "    </tr>\n",
       "  </thead>\n",
       "  <tbody>\n",
       "    <tr>\n",
       "      <th>0</th>\n",
       "      <td>New York City's Vaccine Passport Plan Renews O...</td>\n",
       "      <td>When New York City announced on Tuesday that i...</td>\n",
       "    </tr>\n",
       "    <tr>\n",
       "      <th>1</th>\n",
       "      <td>Facebook Disables Accounts Tied to NYU Researc...</td>\n",
       "      <td>Facebook Inc. has disabled the personal accoun...</td>\n",
       "    </tr>\n",
       "    <tr>\n",
       "      <th>2</th>\n",
       "      <td>Teenage Girls in Northern Nigeria 'Open Their ...</td>\n",
       "      <td>KANO, Nigeria, Aug 2 (Reuters) - Teenage girls...</td>\n",
       "    </tr>\n",
       "    <tr>\n",
       "      <th>3</th>\n",
       "      <td>3D 'Heat Map' Animation Shows How Seizures Spr...</td>\n",
       "      <td>For 29 years, from the time she was 12, Rashet...</td>\n",
       "    </tr>\n",
       "    <tr>\n",
       "      <th>4</th>\n",
       "      <td>Endlessly Changing Playground Teaches AIs to M...</td>\n",
       "      <td>What did they learn? Some of DeepMind's XLand ...</td>\n",
       "    </tr>\n",
       "    <tr>\n",
       "      <th>...</th>\n",
       "      <td>...</td>\n",
       "      <td>...</td>\n",
       "    </tr>\n",
       "    <tr>\n",
       "      <th>26633</th>\n",
       "      <td>Young People Get Their Knowledge of Tech From ...</td>\n",
       "      <td></td>\n",
       "    </tr>\n",
       "    <tr>\n",
       "      <th>26634</th>\n",
       "      <td>TUM Team ASIC Implements Post-Quantum Cryptogr...</td>\n",
       "      <td></td>\n",
       "    </tr>\n",
       "    <tr>\n",
       "      <th>26635</th>\n",
       "      <td>3D Concrete Printing Robots Cut Rail Construct...</td>\n",
       "      <td></td>\n",
       "    </tr>\n",
       "    <tr>\n",
       "      <th>26636</th>\n",
       "      <td>'Listening' Drone Helps Find Victims Needing R...</td>\n",
       "      <td>As part of the ImPACT Tough Robotics Challenge...</td>\n",
       "    </tr>\n",
       "    <tr>\n",
       "      <th>26637</th>\n",
       "      <td>Kaseya Ransomware Attack Sets Off Race to Hack...</td>\n",
       "      <td></td>\n",
       "    </tr>\n",
       "  </tbody>\n",
       "</table>\n",
       "<p>26638 rows × 2 columns</p>\n",
       "</div>"
      ]
     },
     "execution_count": 3,
     "metadata": {},
     "output_type": "execute_result"
    }
   ],
   "execution_count": 3
  },
  {
   "metadata": {
    "ExecuteTime": {
     "end_time": "2025-01-19T19:42:10.615935Z",
     "start_time": "2025-01-19T19:42:10.506857Z"
    }
   },
   "cell_type": "code",
   "source": "df.info()",
   "id": "cf7c0b9d942124b4",
   "outputs": [
    {
     "name": "stdout",
     "output_type": "stream",
     "text": [
      "<class 'pandas.core.frame.DataFrame'>\n",
      "RangeIndex: 26638 entries, 0 to 26637\n",
      "Data columns (total 2 columns):\n",
      " #   Column      Non-Null Count  Dtype \n",
      "---  ------      --------------  ----- \n",
      " 0   pr-title    26638 non-null  object\n",
      " 1   pr-article  26638 non-null  object\n",
      "dtypes: object(2)\n",
      "memory usage: 416.3+ KB\n"
     ]
    }
   ],
   "execution_count": 4
  },
  {
   "metadata": {
    "ExecuteTime": {
     "end_time": "2025-01-19T19:42:10.777422Z",
     "start_time": "2025-01-19T19:42:10.768807Z"
    }
   },
   "cell_type": "code",
   "source": [
    "df = df[df['pr-article'] != '']\n",
    "print('Train dataframe size without blanks: ', len(df))"
   ],
   "id": "7250fd432b47632c",
   "outputs": [
    {
     "name": "stdout",
     "output_type": "stream",
     "text": [
      "Train dataframe size without blanks:  12735\n"
     ]
    }
   ],
   "execution_count": 5
  },
  {
   "metadata": {
    "ExecuteTime": {
     "end_time": "2025-01-19T19:42:10.940088Z",
     "start_time": "2025-01-19T19:42:10.934830Z"
    }
   },
   "cell_type": "code",
   "source": [
    "random_article_idx = random.randint(0, len(df))\n",
    "row = df.iloc[random_article_idx]\n",
    "print('News example: ', random_article_idx)\n",
    "print('Title:    \\n', row['pr-title'])\n",
    "print('Article:  \\n', row['pr-article'])"
   ],
   "id": "6c60383bcbdf922f",
   "outputs": [
    {
     "name": "stdout",
     "output_type": "stream",
     "text": [
      "News example:  8675\n",
      "Title:    \n",
      " I School 'Drone Lab' Reimagines Drones' Possibilities\n",
      "Article:  \n",
      " Don't be surprised if you hear a buzzing sound in the hallways of South Hall this semester; it's the sound of the future, in the form of small student-piloted unmanned aerial vehicles, or drones.\n",
      "This semester, a small team of School of Information students is experimenting with drones: becoming familiar with drones' capabilities and imagining their future applications. The eight students, who call their group the \"Drone Lab,\" are working together in a South Hall classroom to develop open-source software for their drones and then testing them in the classroom, in the building's atrium, and (occasionally) on the South Hall lawn.\n",
      "\"Drones have a pretty bad reputation,\" admitted Dave Lester, a second-year MIMS student; when most people hear the word \"drone,\" they imagine high-tech killing machines or government surveillance. \"We're trying to do something a little different in Drone Lab,\" said Lester, who was formerly the assistant director of the Maryland Institute for Technology in the Humanities at the University of Maryland. \"We're interested in the technical capabilities of drones, but also thinking through the socially good things that we can use drones for.\"\n",
      "\"It's a terrible, awful shame that many people only think of drones as flying objects that deliver weapons to targets,\" said associate professor Coye Cheshire , Drone Lab's faculty sponsor. \"Just like airplanes, rockets, cars, and boats - you can tie a weapon on to any of those things, or you can do something interesting and maybe even helpful or good with them.\"\n",
      "The students' drones wouldn't be capable of high-altitude surveillance, even if they were interested in it, since its range is limited to a couple hundred feet. The students are working with the Parrot AR.Drone 2.0 , a consumer-grade drone priced at about $300 that's a step above a model airplane, but many steps below military or civilian surveillance drones. The AR.Drone is a quadcopter - a small helicopter with four rotors - and it comes equipped with a high-definition 720p forward-facing camera, a downward-facing camera, an accelerometer, a gyroscope, a magnetometer, a pair of ultrasound altimeters, a rechargeable battery, and a 1GHz 32-bit processor running the Linux operating system. Parrot makes a few accessories, like a GPS sensor and a longer-lasting battery, and some hackers have figured out ways to attach additional devices, like environmental sensors.\n",
      "Out of the box, the AR.Drone can be controlled by a smartphone app and piloted like a remote-controlled plane - but the real power is the ability to install your own software on the drone itself, allowing it to fly autonomously. When the students upload a specific set of instructions to the drone, it can fly off and perform specialized tasks on its own, reacting to what is sees and senses. \"These are basically computers that can fly,\" explained Lester.\n",
      "The students started by installing node.js , a new software platform designed for building fast, scalable network applications in JavaScript, along with the node-ar-drone module . There is a growing community of developers writing and sharing open-source software modules for AR.drones; the I School Drone Lab is building on this foundation and sharing their own software modules with the community.\n",
      "Working with drones first-hand has sparked the students' imaginations for the non-military possibilities presented by drones. For several of them, the starting point was the March 2012 \"launch\" of TacoCopter.com, a drone-based service that purported to deliver fresh tacos to patrons who had ordered from their GPS-enabled smartphone. Although TacoCopter turned out be a hoax, automated food delivery is really just the tip of the iceberg.\n",
      "\"Our students are finding new and innovative ways to use the devices to do interesting things,\" said professor Cheshire. \"For example, can you get a quadcopter to pick up and deliver objects on demand? Can you program the device to recognize hand gestures and other motions, and then respond in various ways?\"\n",
      "\"There are lots of uses for drones that people may not typically think of when they hear the term,\" said Lester. His teammate Elliot Nahman, also a second-year MIMS student, agreed. \"I'm particularly interested in strapping sensors to it,\" said Nahman. \"Maybe you can use it in building science, to gather temperature profiles across a very tall space. Or there's the potential for pollution monitoring: you can fly around the city and gather pollution data that would otherwise be difficult to collect.\"\n",
      "This week, India announced an effort to protect the rare one-horned rhino from poachers by using drones to patrol the borders of the vast Kaziranga National Park. In additon, a recent TIME Magazine article listed dozens of socially beneficial applications of drones:\n",
      "\"In Costa Rica they're used to study volcanoes. In Japan drones dust crops and track schools of tuna; emergency workers used one to survey the damage at Fukushima.... Farmers are already using drones to monitor their crops; a weekly overhead picture of a field can give them the information they need to use less chemicals and water on the plants, saving money and the environment. Scientists use drones for wildlife conservation, mapping the nests of endangered species without disturbing them. And energy companies use drones to monitor electric pylons and gas pipelines.\"\n",
      "\"So far the list of applicants for permission to fly drones [in the U.S.] consists mostly of universities, public agencies and drone manufacturers,\" reports TIME Magazine. \"According to its FAA application, Washington State's department of transportation wants to try using drones for avalanche control. The U.S. Department of Energy plans to use a helicopter drone to take air samples. The Forest Service wants drones to help fight fires.\" In addition, delivery companies like FedEx have been salivating for years over the possibility of employing drones.\n",
      "The spread of drones has raised a number of new regulatory and policy questions, led by widespread concerns about privacy. The Drone Lab team is studying the legal and social implications of drones and thinking about policies that could balance the benefits of the technology with its potential dark side.\n",
      "\"Drones are likely to have a profound impact on the future, but right now they exist in a sort of legal gray zone,\" said Dave Lester. Our current laws were mostly designed for a previous generation's technology, and it's not always clear how they apply to technological innovations.\n",
      "\"As a society, it's important that we figure out how to deal with flying devices with cameras,\" said professor Cheshire, whose research focuses on the social impacts of information technologies. \"I'm pushing the students to think through the privacy implications of autonomous flying cameras, while also looking for more helpful and useful applications for them - such as wildlife management, event photography, and more.\"\n",
      "Regulation of drones is also concerned with the safety of the airways. Currently, the Federal Aviation Administration (FAA) forbids the commercial use of drones without specific authorization, although the FAA is working on new regulations to allow commercial drone flights by 2015.\n",
      "The widespread availability of a drone that can be purchased - and programmed - by everyday people is a very recent breakthrough. At the moment, they're primarily a high-end toy, \"but the implications are potentially profound, in terms of how we interact with our environment, with other people, and with the world,\" observed Dave Lester.\n",
      "\"Flying the drone lets me see the world from a new perspective, and hacking on it helps me understand how this technology can be a platform for creativity,\" he said. \"So many interesting applications are possible; it's a very liberating personal technology.\"\n"
     ]
    }
   ],
   "execution_count": 6
  },
  {
   "metadata": {
    "ExecuteTime": {
     "end_time": "2025-01-19T19:42:11.579341Z",
     "start_time": "2025-01-19T19:42:11.112863Z"
    }
   },
   "cell_type": "code",
   "source": "import matplotlib.pyplot as plt",
   "id": "41520539a4a08e56",
   "outputs": [],
   "execution_count": 7
  },
  {
   "metadata": {
    "ExecuteTime": {
     "end_time": "2025-01-19T19:42:11.966840Z",
     "start_time": "2025-01-19T19:42:11.585413Z"
    }
   },
   "cell_type": "code",
   "source": [
    "article_lengths = df['pr-article'].str.len()\n",
    "\n",
    "plt.figure(figsize=(10, 5))\n",
    "plt.hist(article_lengths, bins=150, color='orange')\n",
    "plt.xlim(0, 15000)\n",
    "plt.xlabel('Article length')\n",
    "plt.ylabel('Counts')"
   ],
   "id": "22f6642e855b0e05",
   "outputs": [
    {
     "data": {
      "text/plain": [
       "Text(0, 0.5, 'Counts')"
      ]
     },
     "execution_count": 8,
     "metadata": {},
     "output_type": "execute_result"
    },
    {
     "data": {
      "text/plain": [
       "<Figure size 1000x500 with 1 Axes>"
      ],
      "image/png": "[encoded data removed]"
     },
     "metadata": {},
     "output_type": "display_data"
    }
   ],
   "execution_count": 8
  },
  {
   "metadata": {},
   "cell_type": "markdown",
   "source": "## Predicting Science articles titles with T5 Summarization",
   "id": "a0f03704c1747e37"
  },
  {
   "metadata": {
    "ExecuteTime": {
     "end_time": "2025-01-19T19:42:15.817391Z",
     "start_time": "2025-01-19T19:42:11.977348Z"
    }
   },
   "cell_type": "code",
   "source": [
    "from transformers import T5Tokenizer, T5ForConditionalGeneration, T5Config\n",
    "import torch\n",
    "\n",
    "display_model_info = 1\n",
    "\n",
    "model_name = \"t5-large\"\n",
    "\n",
    "device = torch.device(\"cuda\" if torch.cuda.is_available() else \"cpu\")\n",
    "print(device)"
   ],
   "id": "484dd196ffd22276",
   "outputs": [
    {
     "name": "stdout",
     "output_type": "stream",
     "text": [
      "cuda\n"
     ]
    }
   ],
   "execution_count": 9
  },
  {
   "metadata": {
    "ExecuteTime": {
     "end_time": "2025-01-19T19:42:29.641290Z",
     "start_time": "2025-01-19T19:42:15.829119Z"
    }
   },
   "cell_type": "code",
   "source": [
    "model = T5ForConditionalGeneration.from_pretrained(model_name).to(device)\n",
    "model.eval()\n",
    "tokenizer = T5Tokenizer.from_pretrained(model_name)"
   ],
   "id": "433d1b38b46cea97",
   "outputs": [
    {
     "name": "stderr",
     "output_type": "stream",
     "text": [
      "You are using the default legacy behaviour of the <class 'transformers.models.t5.tokenization_t5.T5Tokenizer'>. This is expected, and simply means that the `legacy` (previous) behavior will be used so nothing changes for you. If you want to use the new behaviour, set `legacy=False`. This should only be set if you understand what it means, and thoroughly read the reason why this was added as explained in https://github.com/huggingface/transformers/pull/24565\n"
     ]
    }
   ],
   "execution_count": 10
  },
  {
   "metadata": {
    "ExecuteTime": {
     "end_time": "2025-01-19T19:42:29.661767Z",
     "start_time": "2025-01-19T19:42:29.654917Z"
    }
   },
   "cell_type": "code",
   "source": [
    "if display_model_info:\n",
    "    print(model)"
   ],
   "id": "b797aaae2451b50e",
   "outputs": [
    {
     "name": "stdout",
     "output_type": "stream",
     "text": [
      "T5ForConditionalGeneration(\n",
      "  (shared): Embedding(32128, 1024)\n",
      "  (encoder): T5Stack(\n",
      "    (embed_tokens): Embedding(32128, 1024)\n",
      "    (block): ModuleList(\n",
      "      (0): T5Block(\n",
      "        (layer): ModuleList(\n",
      "          (0): T5LayerSelfAttention(\n",
      "            (SelfAttention): T5Attention(\n",
      "              (q): Linear(in_features=1024, out_features=1024, bias=False)\n",
      "              (k): Linear(in_features=1024, out_features=1024, bias=False)\n",
      "              (v): Linear(in_features=1024, out_features=1024, bias=False)\n",
      "              (o): Linear(in_features=1024, out_features=1024, bias=False)\n",
      "              (relative_attention_bias): Embedding(32, 16)\n",
      "            )\n",
      "            (layer_norm): T5LayerNorm()\n",
      "            (dropout): Dropout(p=0.1, inplace=False)\n",
      "          )\n",
      "          (1): T5LayerFF(\n",
      "            (DenseReluDense): T5DenseActDense(\n",
      "              (wi): Linear(in_features=1024, out_features=4096, bias=False)\n",
      "              (wo): Linear(in_features=4096, out_features=1024, bias=False)\n",
      "              (dropout): Dropout(p=0.1, inplace=False)\n",
      "              (act): ReLU()\n",
      "            )\n",
      "            (layer_norm): T5LayerNorm()\n",
      "            (dropout): Dropout(p=0.1, inplace=False)\n",
      "          )\n",
      "        )\n",
      "      )\n",
      "      (1-23): 23 x T5Block(\n",
      "        (layer): ModuleList(\n",
      "          (0): T5LayerSelfAttention(\n",
      "            (SelfAttention): T5Attention(\n",
      "              (q): Linear(in_features=1024, out_features=1024, bias=False)\n",
      "              (k): Linear(in_features=1024, out_features=1024, bias=False)\n",
      "              (v): Linear(in_features=1024, out_features=1024, bias=False)\n",
      "              (o): Linear(in_features=1024, out_features=1024, bias=False)\n",
      "            )\n",
      "            (layer_norm): T5LayerNorm()\n",
      "            (dropout): Dropout(p=0.1, inplace=False)\n",
      "          )\n",
      "          (1): T5LayerFF(\n",
      "            (DenseReluDense): T5DenseActDense(\n",
      "              (wi): Linear(in_features=1024, out_features=4096, bias=False)\n",
      "              (wo): Linear(in_features=4096, out_features=1024, bias=False)\n",
      "              (dropout): Dropout(p=0.1, inplace=False)\n",
      "              (act): ReLU()\n",
      "            )\n",
      "            (layer_norm): T5LayerNorm()\n",
      "            (dropout): Dropout(p=0.1, inplace=False)\n",
      "          )\n",
      "        )\n",
      "      )\n",
      "    )\n",
      "    (final_layer_norm): T5LayerNorm()\n",
      "    (dropout): Dropout(p=0.1, inplace=False)\n",
      "  )\n",
      "  (decoder): T5Stack(\n",
      "    (embed_tokens): Embedding(32128, 1024)\n",
      "    (block): ModuleList(\n",
      "      (0): T5Block(\n",
      "        (layer): ModuleList(\n",
      "          (0): T5LayerSelfAttention(\n",
      "            (SelfAttention): T5Attention(\n",
      "              (q): Linear(in_features=1024, out_features=1024, bias=False)\n",
      "              (k): Linear(in_features=1024, out_features=1024, bias=False)\n",
      "              (v): Linear(in_features=1024, out_features=1024, bias=False)\n",
      "              (o): Linear(in_features=1024, out_features=1024, bias=False)\n",
      "              (relative_attention_bias): Embedding(32, 16)\n",
      "            )\n",
      "            (layer_norm): T5LayerNorm()\n",
      "            (dropout): Dropout(p=0.1, inplace=False)\n",
      "          )\n",
      "          (1): T5LayerCrossAttention(\n",
      "            (EncDecAttention): T5Attention(\n",
      "              (q): Linear(in_features=1024, out_features=1024, bias=False)\n",
      "              (k): Linear(in_features=1024, out_features=1024, bias=False)\n",
      "              (v): Linear(in_features=1024, out_features=1024, bias=False)\n",
      "              (o): Linear(in_features=1024, out_features=1024, bias=False)\n",
      "            )\n",
      "            (layer_norm): T5LayerNorm()\n",
      "            (dropout): Dropout(p=0.1, inplace=False)\n",
      "          )\n",
      "          (2): T5LayerFF(\n",
      "            (DenseReluDense): T5DenseActDense(\n",
      "              (wi): Linear(in_features=1024, out_features=4096, bias=False)\n",
      "              (wo): Linear(in_features=4096, out_features=1024, bias=False)\n",
      "              (dropout): Dropout(p=0.1, inplace=False)\n",
      "              (act): ReLU()\n",
      "            )\n",
      "            (layer_norm): T5LayerNorm()\n",
      "            (dropout): Dropout(p=0.1, inplace=False)\n",
      "          )\n",
      "        )\n",
      "      )\n",
      "      (1-23): 23 x T5Block(\n",
      "        (layer): ModuleList(\n",
      "          (0): T5LayerSelfAttention(\n",
      "            (SelfAttention): T5Attention(\n",
      "              (q): Linear(in_features=1024, out_features=1024, bias=False)\n",
      "              (k): Linear(in_features=1024, out_features=1024, bias=False)\n",
      "              (v): Linear(in_features=1024, out_features=1024, bias=False)\n",
      "              (o): Linear(in_features=1024, out_features=1024, bias=False)\n",
      "            )\n",
      "            (layer_norm): T5LayerNorm()\n",
      "            (dropout): Dropout(p=0.1, inplace=False)\n",
      "          )\n",
      "          (1): T5LayerCrossAttention(\n",
      "            (EncDecAttention): T5Attention(\n",
      "              (q): Linear(in_features=1024, out_features=1024, bias=False)\n",
      "              (k): Linear(in_features=1024, out_features=1024, bias=False)\n",
      "              (v): Linear(in_features=1024, out_features=1024, bias=False)\n",
      "              (o): Linear(in_features=1024, out_features=1024, bias=False)\n",
      "            )\n",
      "            (layer_norm): T5LayerNorm()\n",
      "            (dropout): Dropout(p=0.1, inplace=False)\n",
      "          )\n",
      "          (2): T5LayerFF(\n",
      "            (DenseReluDense): T5DenseActDense(\n",
      "              (wi): Linear(in_features=1024, out_features=4096, bias=False)\n",
      "              (wo): Linear(in_features=4096, out_features=1024, bias=False)\n",
      "              (dropout): Dropout(p=0.1, inplace=False)\n",
      "              (act): ReLU()\n",
      "            )\n",
      "            (layer_norm): T5LayerNorm()\n",
      "            (dropout): Dropout(p=0.1, inplace=False)\n",
      "          )\n",
      "        )\n",
      "      )\n",
      "    )\n",
      "    (final_layer_norm): T5LayerNorm()\n",
      "    (dropout): Dropout(p=0.1, inplace=False)\n",
      "  )\n",
      "  (lm_head): Linear(in_features=1024, out_features=32128, bias=False)\n",
      ")\n"
     ]
    }
   ],
   "execution_count": 11
  },
  {
   "metadata": {},
   "cell_type": "markdown",
   "source": "Model presents 24x Encoder blocks and 24x Decoder blocks.",
   "id": "aec9d2f79fd221a1"
  },
  {
   "metadata": {
    "ExecuteTime": {
     "end_time": "2025-01-19T19:42:29.784957Z",
     "start_time": "2025-01-19T19:42:29.703004Z"
    }
   },
   "cell_type": "code",
   "source": [
    "if display_model_info:\n",
    "    print(model.config)"
   ],
   "id": "b46b4c15c7baa76",
   "outputs": [
    {
     "name": "stdout",
     "output_type": "stream",
     "text": [
      "T5Config {\n",
      "  \"_attn_implementation_autoset\": true,\n",
      "  \"_name_or_path\": \"t5-large\",\n",
      "  \"architectures\": [\n",
      "    \"T5ForConditionalGeneration\"\n",
      "  ],\n",
      "  \"classifier_dropout\": 0.0,\n",
      "  \"d_ff\": 4096,\n",
      "  \"d_kv\": 64,\n",
      "  \"d_model\": 1024,\n",
      "  \"decoder_start_token_id\": 0,\n",
      "  \"dense_act_fn\": \"relu\",\n",
      "  \"dropout_rate\": 0.1,\n",
      "  \"eos_token_id\": 1,\n",
      "  \"feed_forward_proj\": \"relu\",\n",
      "  \"initializer_factor\": 1.0,\n",
      "  \"is_encoder_decoder\": true,\n",
      "  \"is_gated_act\": false,\n",
      "  \"layer_norm_epsilon\": 1e-06,\n",
      "  \"model_type\": \"t5\",\n",
      "  \"n_positions\": 512,\n",
      "  \"num_decoder_layers\": 24,\n",
      "  \"num_heads\": 16,\n",
      "  \"num_layers\": 24,\n",
      "  \"output_past\": true,\n",
      "  \"pad_token_id\": 0,\n",
      "  \"relative_attention_max_distance\": 128,\n",
      "  \"relative_attention_num_buckets\": 32,\n",
      "  \"task_specific_params\": {\n",
      "    \"summarization\": {\n",
      "      \"early_stopping\": true,\n",
      "      \"length_penalty\": 2.0,\n",
      "      \"max_length\": 200,\n",
      "      \"min_length\": 30,\n",
      "      \"no_repeat_ngram_size\": 3,\n",
      "      \"num_beams\": 4,\n",
      "      \"prefix\": \"summarize: \"\n",
      "    },\n",
      "    \"translation_en_to_de\": {\n",
      "      \"early_stopping\": true,\n",
      "      \"max_length\": 300,\n",
      "      \"num_beams\": 4,\n",
      "      \"prefix\": \"translate English to German: \"\n",
      "    },\n",
      "    \"translation_en_to_fr\": {\n",
      "      \"early_stopping\": true,\n",
      "      \"max_length\": 300,\n",
      "      \"num_beams\": 4,\n",
      "      \"prefix\": \"translate English to French: \"\n",
      "    },\n",
      "    \"translation_en_to_ro\": {\n",
      "      \"early_stopping\": true,\n",
      "      \"max_length\": 300,\n",
      "      \"num_beams\": 4,\n",
      "      \"prefix\": \"translate English to Romanian: \"\n",
      "    }\n",
      "  },\n",
      "  \"transformers_version\": \"4.47.1\",\n",
      "  \"use_cache\": true,\n",
      "  \"vocab_size\": 32128\n",
      "}\n",
      "\n"
     ]
    }
   ],
   "execution_count": 12
  },
  {
   "metadata": {
    "ExecuteTime": {
     "end_time": "2025-01-19T19:42:29.882912Z",
     "start_time": "2025-01-19T19:42:29.799586Z"
    }
   },
   "cell_type": "code",
   "source": [
    "special_tokens = tokenizer.special_tokens_map\n",
    "special_tokens.pop('additional_special_tokens')\n",
    "print(special_tokens)"
   ],
   "id": "6924cba6dc7cf286",
   "outputs": [
    {
     "name": "stdout",
     "output_type": "stream",
     "text": [
      "{'eos_token': '</s>', 'unk_token': '<unk>', 'pad_token': '<pad>'}\n"
     ]
    }
   ],
   "execution_count": 13
  },
  {
   "metadata": {
    "ExecuteTime": {
     "end_time": "2025-01-19T19:42:29.980965Z",
     "start_time": "2025-01-19T19:42:29.897749Z"
    }
   },
   "cell_type": "code",
   "source": "import textwrap",
   "id": "65fd6650576496bd",
   "outputs": [],
   "execution_count": 14
  },
  {
   "metadata": {
    "ExecuteTime": {
     "end_time": "2025-01-19T19:42:30.079689Z",
     "start_time": "2025-01-19T19:42:29.994115Z"
    }
   },
   "cell_type": "code",
   "source": [
    "def get_title_for_news(article, max_length=30, min_length=5, trim_period=True):\n",
    "    t5_input = \"summarize: \" + article# + \" </s>\"\n",
    "    tokenized_t5_input = tokenizer.encode(t5_input,\n",
    "                                          return_tensors=\"pt\",\n",
    "                                          truncation=True,\n",
    "                                          max_length=model.config.n_positions\n",
    "                                          ).to(device)\n",
    "    title_ids = model.generate(tokenized_t5_input,\n",
    "                               max_length=max_length,\n",
    "                               min_length=min_length,\n",
    "                               num_beams=4,\n",
    "                               early_stopping=True)\n",
    "    title = tokenizer.decode(title_ids[0], skip_special_tokens=True)\n",
    "    if trim_period:\n",
    "        titles = title.split('.')\n",
    "        title = titles[0]\n",
    "    return title"
   ],
   "id": "793f86d9ebbfd4f",
   "outputs": [],
   "execution_count": 15
  },
  {
   "metadata": {
    "ExecuteTime": {
     "end_time": "2025-01-19T19:42:30.178103Z",
     "start_time": "2025-01-19T19:42:30.095571Z"
    }
   },
   "cell_type": "code",
   "source": [
    "def print_article_titles(article_idx):\n",
    "    article = df['pr-article'].iloc[article_idx]\n",
    "    official_title = df['pr-title'].iloc[article_idx]\n",
    "\n",
    "    print('Article:')\n",
    "    print(textwrap.fill(article, 120, initial_indent='    ', subsequent_indent='    '))\n",
    "    print('\\nOfficial title:')\n",
    "    print(textwrap.fill(official_title, 120, initial_indent='    ', subsequent_indent='    '))\n",
    "\n",
    "    model_title = get_title_for_news(article,\n",
    "                                     min_length=5,\n",
    "                                     max_length=30)\n",
    "\n",
    "    print('\\nModel title:')\n",
    "    print(textwrap.fill(model_title, 120, initial_indent='    ', subsequent_indent='    '))\n"
   ],
   "id": "e3caebb9018c3e69",
   "outputs": [],
   "execution_count": 16
  },
  {
   "metadata": {
    "ExecuteTime": {
     "end_time": "2025-01-19T19:42:32.588014Z",
     "start_time": "2025-01-19T19:42:30.193118Z"
    }
   },
   "cell_type": "code",
   "source": "print_article_titles(500)",
   "id": "77144e1dd38bf4de",
   "outputs": [
    {
     "name": "stdout",
     "output_type": "stream",
     "text": [
      "Article:\n",
      "    More than half of IT workers in the UK and Ireland say their companies are trying to tackle gender diversity in IT\n",
      "    departments, according to research by Computer Weekly. The annual Computer Weekly/TechTarget IT salary survey asked\n",
      "    IT workers which topics related to diversity their IT departments were working to address in 2020 and found 67% said\n",
      "    their firms were working on gender diversity . But only 29% said their company had a plan in place to help improve\n",
      "    the balance of men and women in their tech teams. Ruth Blanco, communications director for WISE, the campaign for\n",
      "    greater gender balance in science, technology, engineering and mathematics (STEM), which has resources available to\n",
      "    help companies address diversity better, said: \"While it is reassuring that the majority of IT workers say gender\n",
      "    diversity is something their workplace is addressing, it is telling that only 29% say there is a plan in place. We\n",
      "    know that diversity and inclusion should have a plan, just like any other business project.\" Recent research by BCS\n",
      "    found a lack of diversity in the UK's tech sector , with women accounting for 17% of IT specialists in the region,\n",
      "    about 8% of IT specialists are of Indian ethnicity, 2% from a black, African, Caribbean or black British background,\n",
      "    and 2% from a Pakistani or Bangladeshi background. Computer Weekly's own research found women accounted for an\n",
      "    average of 22% of IT staff. Almost 60% of IT workers questioned in the Computer Weekly/TechTarget IT salary survey\n",
      "    said ethnicity was a topic their IT teams were currently working to address, 34% said their IT department was\n",
      "    currently addressing the topic of sexuality, 34% of tech departments were working on addressing disability-related\n",
      "    diversity issues, and 48% were looking into age discrepancies. But diversity isn't something that happens by itself\n",
      "    in businesses - experts have agreed in the past that if firms cannot find diverse talent, it is likely that they\n",
      "    have hiring and culture issues , and others have claimed that a push for diversity should come from the top of an\n",
      "    organisation . When it comes to addressing the lack of women in tech, almost 40% of IT staff said there was no plan\n",
      "    in place to address the gender balance in their IT teams. Less than 30% of IT workers said men and women with\n",
      "    similar qualifications received the same pay in their firm - there is a significant gender pay gap in the UK's tech\n",
      "    sector, with research finding that women made about 9% less than their male counterparts in 2016 . Russ Shaw,\n",
      "    founder of Global Tech Advocates and Tech London Advocates, encouraged the sector to \"reset\" its thinking and work\n",
      "    towards making tech workplaces more diverse and inclusive to promote industry growth. \"These figures show that a\n",
      "    lack of diversity stubbornly remains a serious problem for the UK tech sector,\" he said. \"While there is a growing\n",
      "    awareness of the scale of this challenge and an increasing number of tech companies are taking action, this research\n",
      "    shows that more needs to be done and that change needs to happen faster. \"In 2021, it is simply unacceptable that\n",
      "    two-thirds of tech companies are not actively addressing the gender pay gap or equal gender representation. On the\n",
      "    one hand, we have tech companies desperate for talent and on the other hand, growing unemployment as a result of the\n",
      "    pandemic.\" Some have claimed that addressing diversity in organisations could help tackle skills shortages because\n",
      "    it widens the pool in which businesses look for talent . But Computer Weekly's research has found there are\n",
      "    differences in opinion when it comes to recruiting women into tech teams. In the UK and Ireland in 2020, 37% if IT\n",
      "    workers believed recruiting more women into their IT departments would reduce skills shortages, but the same\n",
      "    percentage thought skills shortages would not be affected by recruiting more women. Only about a quarter of IT\n",
      "    workers said women in their company had similar opportunities to men, with 38% saying that wasn't true at all, and\n",
      "    42% didn't think men needed to be more involved in helping women integrate into IT departments, despite 40% saying\n",
      "    this was important. \"Solving the lack of diversity and equality is too often left to be the responsibility of under-\n",
      "    represented groups, and this is a big challenge that slows down progress across the board,\" said Debbie Forster, CEO\n",
      "    of industry collaborative Tech Talent Charter. \"This data, showing that 42% didn't think men needed to be more\n",
      "    involved in helping women integrate into IT departments, shows how pervasive this kind of thinking is. \"Ultimately,\n",
      "    diversity benefits everyone, so should be seen as everyone's responsibility. With men usually in the majority and\n",
      "    often in positions of power, it is easy to see how this point of view prevents progress being made. Only when people\n",
      "    work together can real solutions be found.\"\n",
      "\n",
      "Official title:\n",
      "    Almost 70% of IT Staff Say Firms Working on Tech Gender Diversity\n",
      "\n",
      "Model title:\n",
      "    67% of IT workers said their firms were working on gender diversity\n"
     ]
    }
   ],
   "execution_count": 17
  },
  {
   "metadata": {
    "ExecuteTime": {
     "end_time": "2025-01-19T19:42:33.899931Z",
     "start_time": "2025-01-19T19:42:32.607643Z"
    }
   },
   "cell_type": "code",
   "source": "print_article_titles(1310)",
   "id": "e388660b39f7c977",
   "outputs": [
    {
     "name": "stdout",
     "output_type": "stream",
     "text": [
      "Article:\n",
      "    \"Pre-pandemic, people might have thought we were automating too much,\" said Richard Pak, a professor at Clemson\n",
      "    University who researches the psychological factors around automation. \"This event is going to push people to think\n",
      "    what more should be automated.\" The grocery industry is leaning more on automation to free up employees to deal with\n",
      "    the crush of demand during the pandemic. Brain Corp, a San Diego company that makes software used in automated floor\n",
      "    cleaners, said retailers were using the cleaners 13 percent more than they were just two months ago. The \"autonomous\n",
      "    floor care robots\" are doing about 8,000 hours of daily work \"that otherwise would have been done by an essential\n",
      "    worker,\" the company said.\n",
      "\n",
      "Official title:\n",
      "    Robots Welcome to Take Over, as Pandemic Accelerates Automation\n",
      "\n",
      "Model title:\n",
      "    \"pre-pandemic, people might have thought we were automating too much,\" professor says\n"
     ]
    }
   ],
   "execution_count": 18
  },
  {
   "metadata": {
    "ExecuteTime": {
     "end_time": "2025-01-19T19:42:35.737798Z",
     "start_time": "2025-01-19T19:42:33.914249Z"
    }
   },
   "cell_type": "code",
   "source": "print_article_titles(1106)",
   "id": "829a9ffdbc1ec476",
   "outputs": [
    {
     "name": "stdout",
     "output_type": "stream",
     "text": [
      "Article:\n",
      "    As people age, cognitive decline can happen in subtle ways that are not always immediately obvious to family members\n",
      "    or friends. One solution for better detecting these subtle changes, however, could already be in the homes of many\n",
      "    people, in the form of a smart home device. In a recent study , researchers demonstrate that it's possible to use\n",
      "    data from smart home devices to detect behavioral differences between people who are experiencing cognitive decline\n",
      "    and healthy individuals. The results, which could have broader implications for the monitoring of many different\n",
      "    health conditions, were published 3 June in IEEE Journal of Biomedical and Health Informatics . Gina Sprint, an\n",
      "    Assistant Professor of Computer Science at Gonzaga University, is one of the researchers involved in the study.\n",
      "    Sprint and her collaborators at Washington State University developed a novel algorithm for analyzing data from\n",
      "    smart home devices; it's called Behavior Change Detection for Groups (BCD-G). In particular, the algorithm analyzes\n",
      "    behavioral patterns of residents across time. In the study, 14 volunteers were monitored continuously in their homes\n",
      "    for one month. Seven of these volunteers were living with dementia, while the other seven comprised a healthy\n",
      "    control group of similar age and educational background. BCD-G was then used to assess the volunteers as they\n",
      "    engaged in 16 types of activities, such as bathing, cooking, sleeping, working, and taking medications. Using BCD-G\n",
      "    to compare the two groups revealed some intriguing differences in behavior. \"First, the in-home walk speed of the\n",
      "    cognitively impaired group was about half as fast as the age-matched healthy control group,\" says Sprint. \"Also, the\n",
      "    cognitively impaired group had a greater variance in the duration of the activities they performed and what time\n",
      "    they started the activities. They slept more during the day and at night, and lastly, they exhibited large\n",
      "    behavioral differences related to how often and when they would leave their home, take their medications, and get\n",
      "    dressed.\" While BCD-G proved useful for uncovering the behavioral patterns of people with dementia in this study,\n",
      "    Sprint notes that the algorithm can be applied to a number of other health conditions. For example, BCD-G could be\n",
      "    used to monitor patients recovering from a stroke or traumatic brain injury. \"Because BCD-G looks at changes across\n",
      "    time points, it has potential to help with almost any condition where a clinician would want to know if someone is\n",
      "    improving or declining,\" explains Sprint. Moving forward, her team plans to consult with clinicians to gather their\n",
      "    feedback on BCD-G and further expand upon the tool. \"Involving clinicians with frontline experience when creating\n",
      "    algorithms like BCD-G is key to making machine learning applicable in the real-world,\" she says. \"Successful\n",
      "    applications can assist clinicians in treatment planning and ultimately improve patients' health.\"\n",
      "\n",
      "Official title:\n",
      "    Smart Home Devices Can Reveal Behaviors Associated With Dementia\n",
      "\n",
      "Model title:\n",
      "    researchers demonstrate that it's possible to use data from smart home devices to detect behavioral differences\n",
      "    between people who are experiencing cognitive decline and healthy individuals\n"
     ]
    }
   ],
   "execution_count": 19
  },
  {
   "metadata": {},
   "cell_type": "markdown",
   "source": "Down here the models predicts something wrong until the first period:",
   "id": "84f999bf1f8b3ccc"
  },
  {
   "metadata": {
    "ExecuteTime": {
     "end_time": "2025-01-19T19:42:37.519547Z",
     "start_time": "2025-01-19T19:42:35.754593Z"
    }
   },
   "cell_type": "code",
   "source": "print_article_titles(2002)",
   "id": "4aa22355a2d454de",
   "outputs": [
    {
     "name": "stdout",
     "output_type": "stream",
     "text": [
      "Article:\n",
      "    Advocates for closing the gender gap in computer science say part of the solution isn't necessarily increasing the\n",
      "    number of classes that K-12 schools offer - it's getting districts to report who's taking them. The nonprofit Girls\n",
      "    Who Code is working with Sen. Jacky Rosen (D-Nev.) on legislation that would require schools receiving federal\n",
      "    funding for computer science programs to disclose to the Department of Education the number and percentage of\n",
      "    students who participate in computer science courses, as well as their gender, race and other demographic\n",
      "    information. With that transparency, it becomes more clear who's signing up for classes that lay the groundwork for\n",
      "    careers in technology - and whether federal grant programs are making a difference. The broader aim is to help girls\n",
      "    think of themselves as smart at science and tech, defying preconceived notions. \"We have open jobs. If we don't work\n",
      "    harder to include women in tech ... there's no way we can possibly fill that gap,\" said Anna Hughes, spokesperson\n",
      "    for Software.org: the BSA Foundation, a Girls Who Code partner whose aim is to create a more diverse workforce.\n",
      "    \"Typically, if you think of a coder, it's a white male. We're trying to make the tech community look like America.\"\n",
      "    Rosen's forthcoming bill will also call for the reported demographic breakdown to include ethnicity, English learner\n",
      "    status, eligibility for free and reduced lunch, special education status and grade level. Several states have passed\n",
      "    legislation requiring K-12 schools to track and report some of this data already, according to Rosen's office. \"When\n",
      "    we're able to identify disparities in education, we can better determine whether federal grant programs are\n",
      "    effectively reaching our students, allowing us to improve how to distribute and implement these funds across\n",
      "    communities,\" Rosen, a former computer programmer, told POLITICO in a statement. \"The legislation I am developing\n",
      "    with Girls Who Code will help us find and close existing gaps in disparities, while ensuring we are being good\n",
      "    stewards of taxpayer dollars.\" In April, the Nation's Report Card found that girls continued to outperform boys on a\n",
      "    technology and engineering literacy assessment, and that they benefit greatly from taking a class related to science\n",
      "    or engineering. Girls who took a class scored 10 points higher than those who didn't, compared to a 5-point gap for\n",
      "    boys. But a higher percentage of male students reported taking at least one related class: 61 percent of boys\n",
      "    compared to 53 percent of girls. Not surprisingly, fewer than 1 in 5 computer science graduates are women and only\n",
      "    24 percent of computer scientists in 2017 were women, according to Girls Who Code. The policy-setting board for the\n",
      "    Nation's Report Card recently announced that eighth graders will be assessed on technology and engineering literacy\n",
      "    for the first time at the state level - but in 2027. That's too long to wait, said Corinne Roller, director of\n",
      "    advocacy and public policy at GWC. The group has been working with states on legislation to encourage data tracking\n",
      "    for K-12 computer science. \"States and districts and schools are expanding computer science programs by the day and\n",
      "    by 2027 we need to be in a place where our classrooms have reached gender parity,\" Roller said. \"That shouldn't be\n",
      "    our starting point for just looking at this data.\" A report Girls Who Code released in July, looking at available\n",
      "    data from 12 states over the 2016-17 to 2017-18 school years, found that policies aimed at increasing the number of\n",
      "    computer science classrooms had little impact on girls' participation rates, which in some cases declined. Along\n",
      "    with tracking data on computer science participation, the group recommends policies that increase girls' exposure to\n",
      "    women and other underrepresented minorities in tech, funding gender inclusion training for teachers and expanding\n",
      "    computer science courses to all middle schools to expose girls to the program at younger ages. While Rosen's data-\n",
      "    tracking bill is still in the works, Girls Who Code is also backing other legislation, including Rosen's bipartisan\n",
      "    Building Blocks of STEM Act, S. 737 (116), to create new research grants to increase girls' participation in\n",
      "    computer science. A version passed the House last month. The group is also supporting a bill by Democratic\n",
      "    presidential candidate Sen. Kamala Harris, (D-Calif.) - the 21st Century STEM for Girls and Underrepresented\n",
      "    Minorities Act - to encourage STEM education for girls, students of color, LGBTQ students and students with\n",
      "    disabilities. Roller said she is also watching the bipartisan Teacher Education for Computer Science Act that would\n",
      "    establish \"Centers of Excellence\" for teacher education programs in computer science. Given that the teaching\n",
      "    profession is predominantly made up of women, training more teachers would automatically increase female role models\n",
      "    for girls in tech, Roller said. \"You can't be what you can't see,\" she said. \"So much of our work focuses really on\n",
      "    the culture change and making sure that girls have diverse female role models to look up to. So increasing the\n",
      "    teacher pipeline will hopefully automatically and organically do that.\" The Bureau of Labor Statistics projects\n",
      "    there will be more than 500,000 new jobs in computer and information technology by 2026 as the emphasis on cloud\n",
      "    computing, the collection and storage of big data and information security increases. This summer, the Software.org\n",
      "    foundation sponsored a Girls Who Code summer immersion program in D.C., where high school girls from the area spent\n",
      "    seven weeks learning coding and web development. They even programmed a robot to dance. \"[The robot] could do one\n",
      "    verse of the Cha-Cha Slide ,\" said Grace McGuire, 16, of Bethesda, Md. Grace and her classmate, Sarah Ahmed, 16,\n",
      "    from Chantilly, Va., worked together to create an app called \"Teengage,\" allowing teens to find petitions, protests\n",
      "    and volunteer opportunities. Sarah said the program was a \"bonding experience.\" Both said they've had the feeling of\n",
      "    being outnumbered as girls in advanced math classes, and they saw themselves in other majors before taking the\n",
      "    immersion program. In fact, half of the girls in the class raised their hands when asked if they could see\n",
      "    themselves pursuing computer science as a major. \"It's crazy,\" Grace said. \"Now I know how to code. I'm good at it.\n",
      "    I feel confident.\"\n",
      "\n",
      "Official title:\n",
      "    'Typically, If You Think of a Coder, It's a White Male'\n",
      "\n",
      "Model title:\n",
      "    girls who code and sen\n"
     ]
    }
   ],
   "execution_count": 20
  },
  {
   "metadata": {
    "ExecuteTime": {
     "end_time": "2025-01-19T19:42:39.207885Z",
     "start_time": "2025-01-19T19:42:37.537874Z"
    }
   },
   "cell_type": "code",
   "source": "print_article_titles(2004)",
   "id": "23a9b3336d11d21c",
   "outputs": [
    {
     "name": "stdout",
     "output_type": "stream",
     "text": [
      "Article:\n",
      "    Annie Slattery's start-up ConX connects contractors in the construction industry online and enables them to find\n",
      "    work. Annie Slattery, an entrepreneur who is originally from Clontarf in north Dublin, has received a top award in\n",
      "    Australia for women in tech start-ups. Slattery was presented with the award at Hopper Down Under, which was held in\n",
      "    Australia for the first time last week. The event is part of the Grace Hopper Celebration , which is named after\n",
      "    computer scientist Grace Hopper and is the world's largest gathering of women in computing and tech. Slattery\n",
      "    received the award for her start-up ConX, which connects contractors in the construction industry online, with the\n",
      "    aim of changing how construction contractors can find and win work. Siliconrepublic.com spoke to ConX's former CIO ,\n",
      "    David Stenson, about the technology behind the start-up in September 2015. The award was part of a pitch\n",
      "    competition, which saw more than 100 women pitching ideas in Brisbane on 2 August for a share in more than $100,000\n",
      "    in business support services, and the potential for further venture capital funding to grow their global businesses.\n",
      "    The business services will be provided by companies such as IBM and Alibaba Cloud, with mentoring opportunities from\n",
      "    Main Sequence Ventures, manager of the Commonwealth Scientific and Industrial Research Organisation Innovation Fund.\n",
      "    Eleven entrants made it to the final, which was hosted by the Australian Government's lead agency for international\n",
      "    trade promotion and investment attraction, Austrade. Austrade's CEO, Dr Stephanie Fahey, said that the agency is\n",
      "    committed to driving higher representation of women in international business: \"Elevating women entrepreneurs and\n",
      "    innovators is critical to Australia's ability to compete in international markets, creating new opportunities for\n",
      "    industries and supporting high standards of living.\" Slattery said that following this award, she hopes to secure\n",
      "    funding to make ConX a success in other parts of the world. \"This prize represents a fantastic opportunity for ConX\n",
      "    to expand into global markets, with the United States top of our list in terms of the size of the market and the\n",
      "    potential for digitisation in the construction sector,\" she said. \"Keith Moore - my husband - and I settled in\n",
      "    Australia by chance some 10 years ago. I was originally working in corporate finance and Keith had his own carpet\n",
      "    business. We quickly identified an opening in the market for a 'tradies' recruitment site, dedicated to SME\n",
      "    contractors. Now we have expanded into specialist services across a range of areas including online tendering. \"The\n",
      "    market is now ripe for transformation and ConX is at the forefront, which was recognised by judges this week.\" The\n",
      "    start-up's core team consists entirely of Irish-born individuals. Apart from co-founders Slattery and Moore, the\n",
      "    team's CTO Jonathan Clarke hails from Kerry, while its digital marketing director Jonathan Slattery is also Irish.\n",
      "    The company employs 12 people from its head office in Sydney. ConX has now expanded its range of services to include\n",
      "    tender management and automated take-offs, targeted at SME building contractors in Australia, but the company is\n",
      "    also setting its sights on the US, with south-east Asia and China serving as follow-on markets. There are also a\n",
      "    number of Irish SME customers using the company's software.\n",
      "\n",
      "Official title:\n",
      "    Dubliner Wins Australia's Top Award for Women in Tech Start-Ups\n",
      "\n",
      "Model title:\n",
      "    Annie Slattery has received a top award in australia for women in tech start-ups\n"
     ]
    }
   ],
   "execution_count": 21
  },
  {
   "metadata": {
    "ExecuteTime": {
     "end_time": "2025-01-19T19:42:39.261325Z",
     "start_time": "2025-01-19T19:42:39.252775Z"
    }
   },
   "cell_type": "code",
   "source": [
    "new_row = {'pr-article': \"\"\"\n",
    "                Before dinosaurs walked the Earth and tens of millions of years before the first mammals appeared, distant mammal relatives with long, serrated canine teeth were the dominant carnivores on land. Called gorgonopsians, the earliest animals in this lineage have long been missing from the fossil record. But the discovery of a newly identified gorgonopsian — the oldest saber-toothed animal ever found — is filling a longstanding blank space in the group’s history.\n",
    "\n",
    "These slender predators are known mostly from bones that are less than 270 million years old, but the recent fossil find is thought to be an unprecedented 280 million to 270 million years old.\n",
    "\n",
    "The frozen mummy of <em>Homotherium latidens</em> (Owen, 1846), specimen DMF AS RS, no. Met-20-1, Russia, Republic of Sakha (Yakutia), Indigirka River basin, Badyarikha River; Upper Pleistocene: (A) external appearance; (B) skeleton, CT-scan, dorsal view.\n",
    "Related article\n",
    "Baby saber-toothed cat mummy found in Siberia with intact skin, fur and toes is ‘mind-blowing,’ scientists say\n",
    "\n",
    "The newfound gorgonopsian adds to one of the earliest branches of the therapsid family tree — the Therapsida order includes not only gorgonopsians but also the ancestors of modern mammals and other nonmammalian groups that are now extinct.\n",
    "\n",
    "The finding is a notable puzzle piece that could help shed light on the earliest forebears of mammals, experts said.\n",
    "\n",
    "What is a gorgonopsian? It’s not a ‘lizard-dog’\n",
    "Gorgonopsians vanished around 252 million years ago, and their lineage died with them. All gorgonopsians had daggerlike canine teeth, and species ranged widely in size. Some were as small as cats, while others were as big as polar bears.\n",
    "\n",
    "Fossils of the newly described gorgonopsian included its knifelike canines; parts of its jaw; some vertebrae, ribs, tailbones and toe bones; and most of the bones from a hind limb, researchers reported Tuesday in the journal Nature Communications.\n",
    "\n",
    "The specimen’s blunt-snouted skull was incomplete but is estimated to measure about 7 inches (18 centimeters) long, and the animal would have been as tall as a medium-size dog and weighed roughly 66 to 88 pounds (30 to 40 kilograms), according to study coauthor Ken Angielczyk, MacArthur Curator of Paleomammalogy at Chicago’s Field Museum of Natural History.\n",
    "\n",
    "An illustration of the newly described gorgonopsian shows the fossils that were found: knifelike canines; parts of its jaw; some vertebrae, ribs, tailbones and toe bones; and most of the bones from a hind limb.\n",
    "An illustration of the newly described gorgonopsian shows the fossils that were found: knifelike canines; parts of its jaw; some vertebrae, ribs, tailbones and toe bones; and most of the bones from a hind limb. Matamales-Andreu et al, illustration by Eudald Mujal/SMNS/Field Museum\n",
    "Other than being four-legged and having a long tail, the gorgonopsian wouldn’t have looked very doglike, Angielczyk said. Similar to reptiles, gorgonopsians didn’t have fur or visible ears, he said. But although the animal physically resembled lizards in some ways, please don’t call it a “lizard-dog,” he told CNN.\n",
    "\n",
    "“Lizards are a kind of reptile, and nonmammalian therapsids like gorgonopsians are part of a completely different evolutionary lineage, part of the lineage that includes mammals,” Angielczyk said. “While mammals and reptiles share a common ancestor that lived about 320 million years ago, they are separate lines of descent.”\n",
    "\n",
    "Coprolites from the Early Jurassic of Soltykow, Poland: Coprolites of herbivorous dinosaurs with numerous plant remains.\n",
    "Related article\n",
    "Fossilized poop reveals secrets of how dinosaurs came to dominate Earth\n",
    "\n",
    "Gorgonopsians do share some traits with their mammal cousins. One of those is having teeth of different shapes and sizes, “with those teeth providing different roles in the feeding system,” Angielczyk said. “That’s something that’s very common in mammals today.”\n",
    "\n",
    "Unlike mammals, gorgonopsians seemingly replaced their teeth — including their long canines — repeatedly throughout their lifetime. “Mammals today, for the most part, just have one replacement cycle of teeth,” Angielczyk said. “Whereas gorgonopsians and other therapsids generally were more like a crocodile today, where they have teeth that are erupting continuously.”\n",
    "\n",
    "Oldest of its kind\n",
    "Paleontologists discovered bones of the newfound gorgonopsian in Mallorca, a Mediterranean island that’s part of Spain, during expeditions in 2019 and 2021, said senior study author Josep Fortuny, leader of the computational biomechanics and evolution of life history research group at the Miquel Crusafont Catalan Institute of Paleontology in Spain.\n",
    "\n",
    "“The most interesting thing about the specific specimen that we describe is its age. It is pretty certainly the oldest known gorgonopsian” as well as the oldest known therapsid to date, Fortuny told CNN in an email.\n",
    "\n",
    "A cast of the gorgonopsian's ribs (upper left), leg (right) and foot bones is seen.\n",
    "A cast of the gorgonopsian's ribs (upper left), leg (right) and foot bones is seen. Anna Solé/Institut Català de Paleontologia Miquel Crusafont\n",
    "“There is a big time gap in the fossil record of therapsids, between when they are predicted to have evolved based on our knowledge of relationships of synapsids (a larger vertebrate group that includes therapsids) and when they actually show up in the fossil record,” Fortuny said.\n",
    "\n",
    "Scientists have previously calculated that therapsid fossils should start showing up in rocks that are about 300 million years old, “and we don’t actually see them, up until now, until about 270 million years ago,” Angielczyk said. The new specimen, which dates back at least to that point in time and is likely even older, aligns with that gap, helping researchers to clarify when therapsids evolved.\n",
    "\n",
    "The search for early therapsids\n",
    "Fine-tuning the evolution of therapsids during the early part of the Permian Period (299 million to 252 million years ago) is particularly important for tracing the ancestry of mammals, said Roger Benson, Macaulay Curator of Dinosaur Paleobiology at the American Museum of Natural History in New York City.\n",
    "\n",
    "“Everything from the early Permian on the mammal line is outside of this group Therapsida, and all our knowledge of therapsids comes from the middle Permian and later,” said Benson, who was not involved in the research. “But paleontologists have long suspected there were therapsids before the middle Permian — we just didn’t find their fossils yet. This fossil is the most promising candidate for an early Permian therapsid so far.”\n",
    "\n",
    "The location of the find was also unusual. Gorgonopsid fossils were previously known only from arid, high-latitude sites in South Africa and Russia, the study authors reported. During the Permian, Mallorca was smack in the middle of the supercontinent Pangea, which existed from 335 million to 200 million years ago. In this equatorial zone, what’s now Mallorca would have experienced very wet and very dry seasons.\n",
    "\n",
    "Terror-bird_11_6.jpg\n",
    "Related article\n",
    "Ancient ‘terror birds’ were giant apex predators. Suspected new species is among the largest ever known\n",
    "\n",
    "“One of the things people have wondered is if maybe important events in mammal ancestry took place in the tropics, and we’ve been missing fossils of these types of animals at the right age to know about that,” Benson said.\n",
    "\n",
    "“That’s one of the intriguing implications of this fossil, is the potential that important events in mammal ancestry occurred at lower latitudes in environments that we haven’t sampled so much in the fossil record.”\n",
    "\n",
    "Finding the oldest documented gorgonopsian in Mallorca hints that the earliest therapsid fossils are yet to be discovered in places where paleontologists previously didn’t look for them, Angielczyk said.\n",
    "\n",
    "“It’s long been thought that the big temporal gap in the therapsid fossil record might correspond to more geographic sampling,” he said. “The fact that Mallorca is a new place for finding therapsids helps to support that idea that we’re not necessarily looking in the right places to find the first therapsids.”\n",
    "                \"\"\",\n",
    "\n",
    "               'pr-title': \"Ancient saber-toothed predator found in Spain is the oldest of its kind\"}\n",
    "\n",
    "df = pd.concat([df, pd.DataFrame([new_row])], ignore_index=True)"
   ],
   "id": "c6043d10bb55a54e",
   "outputs": [],
   "execution_count": 22
  },
  {
   "metadata": {
    "ExecuteTime": {
     "end_time": "2025-01-19T19:42:41.145323Z",
     "start_time": "2025-01-19T19:42:39.300409Z"
    }
   },
   "cell_type": "code",
   "source": "print_article_titles(len(df) - 1)",
   "id": "86406a2ed53fa546",
   "outputs": [
    {
     "name": "stdout",
     "output_type": "stream",
     "text": [
      "Article:\n",
      "                     Before dinosaurs walked the Earth and tens of millions of years before the first mammals appeared,\n",
      "    distant mammal relatives with long, serrated canine teeth were the dominant carnivores on land. Called\n",
      "    gorgonopsians, the earliest animals in this lineage have long been missing from the fossil record. But the discovery\n",
      "    of a newly identified gorgonopsian — the oldest saber-toothed animal ever found — is filling a longstanding blank\n",
      "    space in the group’s history.  These slender predators are known mostly from bones that are less than 270 million\n",
      "    years old, but the recent fossil find is thought to be an unprecedented 280 million to 270 million years old.  The\n",
      "    frozen mummy of <em>Homotherium latidens</em> (Owen, 1846), specimen DMF AS RS, no. Met-20-1, Russia, Republic of\n",
      "    Sakha (Yakutia), Indigirka River basin, Badyarikha River; Upper Pleistocene: (A) external appearance; (B) skeleton,\n",
      "    CT-scan, dorsal view. Related article Baby saber-toothed cat mummy found in Siberia with intact skin, fur and toes\n",
      "    is ‘mind-blowing,’ scientists say  The newfound gorgonopsian adds to one of the earliest branches of the therapsid\n",
      "    family tree — the Therapsida order includes not only gorgonopsians but also the ancestors of modern mammals and\n",
      "    other nonmammalian groups that are now extinct.  The finding is a notable puzzle piece that could help shed light on\n",
      "    the earliest forebears of mammals, experts said.  What is a gorgonopsian? It’s not a ‘lizard-dog’ Gorgonopsians\n",
      "    vanished around 252 million years ago, and their lineage died with them. All gorgonopsians had daggerlike canine\n",
      "    teeth, and species ranged widely in size. Some were as small as cats, while others were as big as polar bears.\n",
      "    Fossils of the newly described gorgonopsian included its knifelike canines; parts of its jaw; some vertebrae, ribs,\n",
      "    tailbones and toe bones; and most of the bones from a hind limb, researchers reported Tuesday in the journal Nature\n",
      "    Communications.  The specimen’s blunt-snouted skull was incomplete but is estimated to measure about 7 inches (18\n",
      "    centimeters) long, and the animal would have been as tall as a medium-size dog and weighed roughly 66 to 88 pounds\n",
      "    (30 to 40 kilograms), according to study coauthor Ken Angielczyk, MacArthur Curator of Paleomammalogy at Chicago’s\n",
      "    Field Museum of Natural History.  An illustration of the newly described gorgonopsian shows the fossils that were\n",
      "    found: knifelike canines; parts of its jaw; some vertebrae, ribs, tailbones and toe bones; and most of the bones\n",
      "    from a hind limb. An illustration of the newly described gorgonopsian shows the fossils that were found: knifelike\n",
      "    canines; parts of its jaw; some vertebrae, ribs, tailbones and toe bones; and most of the bones from a hind limb.\n",
      "    Matamales-Andreu et al, illustration by Eudald Mujal/SMNS/Field Museum Other than being four-legged and having a\n",
      "    long tail, the gorgonopsian wouldn’t have looked very doglike, Angielczyk said. Similar to reptiles, gorgonopsians\n",
      "    didn’t have fur or visible ears, he said. But although the animal physically resembled lizards in some ways, please\n",
      "    don’t call it a “lizard-dog,” he told CNN.  “Lizards are a kind of reptile, and nonmammalian therapsids like\n",
      "    gorgonopsians are part of a completely different evolutionary lineage, part of the lineage that includes mammals,”\n",
      "    Angielczyk said. “While mammals and reptiles share a common ancestor that lived about 320 million years ago, they\n",
      "    are separate lines of descent.”  Coprolites from the Early Jurassic of Soltykow, Poland: Coprolites of herbivorous\n",
      "    dinosaurs with numerous plant remains. Related article Fossilized poop reveals secrets of how dinosaurs came to\n",
      "    dominate Earth  Gorgonopsians do share some traits with their mammal cousins. One of those is having teeth of\n",
      "    different shapes and sizes, “with those teeth providing different roles in the feeding system,” Angielczyk said.\n",
      "    “That’s something that’s very common in mammals today.”  Unlike mammals, gorgonopsians seemingly replaced their\n",
      "    teeth — including their long canines — repeatedly throughout their lifetime. “Mammals today, for the most part, just\n",
      "    have one replacement cycle of teeth,” Angielczyk said. “Whereas gorgonopsians and other therapsids generally were\n",
      "    more like a crocodile today, where they have teeth that are erupting continuously.”  Oldest of its kind\n",
      "    Paleontologists discovered bones of the newfound gorgonopsian in Mallorca, a Mediterranean island that’s part of\n",
      "    Spain, during expeditions in 2019 and 2021, said senior study author Josep Fortuny, leader of the computational\n",
      "    biomechanics and evolution of life history research group at the Miquel Crusafont Catalan Institute of Paleontology\n",
      "    in Spain.  “The most interesting thing about the specific specimen that we describe is its age. It is pretty\n",
      "    certainly the oldest known gorgonopsian” as well as the oldest known therapsid to date, Fortuny told CNN in an\n",
      "    email.  A cast of the gorgonopsian's ribs (upper left), leg (right) and foot bones is seen. A cast of the\n",
      "    gorgonopsian's ribs (upper left), leg (right) and foot bones is seen. Anna Solé/Institut Català de Paleontologia\n",
      "    Miquel Crusafont “There is a big time gap in the fossil record of therapsids, between when they are predicted to\n",
      "    have evolved based on our knowledge of relationships of synapsids (a larger vertebrate group that includes\n",
      "    therapsids) and when they actually show up in the fossil record,” Fortuny said.  Scientists have previously\n",
      "    calculated that therapsid fossils should start showing up in rocks that are about 300 million years old, “and we\n",
      "    don’t actually see them, up until now, until about 270 million years ago,” Angielczyk said. The new specimen, which\n",
      "    dates back at least to that point in time and is likely even older, aligns with that gap, helping researchers to\n",
      "    clarify when therapsids evolved.  The search for early therapsids Fine-tuning the evolution of therapsids during the\n",
      "    early part of the Permian Period (299 million to 252 million years ago) is particularly important for tracing the\n",
      "    ancestry of mammals, said Roger Benson, Macaulay Curator of Dinosaur Paleobiology at the American Museum of Natural\n",
      "    History in New York City.  “Everything from the early Permian on the mammal line is outside of this group\n",
      "    Therapsida, and all our knowledge of therapsids comes from the middle Permian and later,” said Benson, who was not\n",
      "    involved in the research. “But paleontologists have long suspected there were therapsids before the middle Permian —\n",
      "    we just didn’t find their fossils yet. This fossil is the most promising candidate for an early Permian therapsid so\n",
      "    far.”  The location of the find was also unusual. Gorgonopsid fossils were previously known only from arid, high-\n",
      "    latitude sites in South Africa and Russia, the study authors reported. During the Permian, Mallorca was smack in the\n",
      "    middle of the supercontinent Pangea, which existed from 335 million to 200 million years ago. In this equatorial\n",
      "    zone, what’s now Mallorca would have experienced very wet and very dry seasons.  Terror-bird_11_6.jpg Related\n",
      "    article Ancient ‘terror birds’ were giant apex predators. Suspected new species is among the largest ever known\n",
      "    “One of the things people have wondered is if maybe important events in mammal ancestry took place in the tropics,\n",
      "    and we’ve been missing fossils of these types of animals at the right age to know about that,” Benson said.  “That’s\n",
      "    one of the intriguing implications of this fossil, is the potential that important events in mammal ancestry\n",
      "    occurred at lower latitudes in environments that we haven’t sampled so much in the fossil record.”  Finding the\n",
      "    oldest documented gorgonopsian in Mallorca hints that the earliest therapsid fossils are yet to be discovered in\n",
      "    places where paleontologists previously didn’t look for them, Angielczyk said.  “It’s long been thought that the big\n",
      "    temporal gap in the therapsid fossil record might correspond to more geographic sampling,” he said. “The fact that\n",
      "    Mallorca is a new place for finding therapsids helps to support that idea that we’re not necessarily looking in the\n",
      "    right places to find the first therapsids.”\n",
      "\n",
      "Official title:\n",
      "    Ancient saber-toothed predator found in Spain is the oldest of its kind\n",
      "\n",
      "Model title:\n",
      "    gorgonopsians were the dominant carnivores on land tens of millions of years before the first mammals appeared\n"
     ]
    }
   ],
   "execution_count": 23
  },
  {
   "metadata": {
    "ExecuteTime": {
     "end_time": "2025-01-19T19:42:41.178837Z",
     "start_time": "2025-01-19T19:42:41.159622Z"
    }
   },
   "cell_type": "code",
   "source": "torch.cuda.empty_cache()",
   "id": "4a6703cc99cacc3",
   "outputs": [],
   "execution_count": 24
  },
  {
   "metadata": {
    "ExecuteTime": {
     "end_time": "2025-01-19T19:42:41.206687Z",
     "start_time": "2025-01-19T19:42:41.204313Z"
    }
   },
   "cell_type": "code",
   "source": "",
   "id": "a67f9bdd55549451",
   "outputs": [],
   "execution_count": null
  }
 ],
 "metadata": {
  "kernelspec": {
   "display_name": "Python 3",
   "language": "python",
   "name": "python3"
  },
  "language_info": {
   "codemirror_mode": {
    "name": "ipython",
    "version": 2
   },
   "file_extension": ".py",
   "mimetype": "text/x-python",
   "name": "python",
   "nbconvert_exporter": "python",
   "pygments_lexer": "ipython2",
   "version": "2.7.6"
  }
 },
 "nbformat": 4,
 "nbformat_minor": 5
}
