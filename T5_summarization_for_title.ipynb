{
 "cells": [
  {
   "metadata": {},
   "cell_type": "markdown",
   "source": "## Getting Data",
   "id": "fc221bf7ea6050bf"
  },
  {
   "cell_type": "code",
   "id": "initial_id",
   "metadata": {
    "collapsed": true,
    "ExecuteTime": {
     "end_time": "2025-01-19T19:22:34.501075Z",
     "start_time": "2025-01-19T19:22:33.936562Z"
    }
   },
   "source": [
    "import pandas as pd\n",
    "import random"
   ],
   "outputs": [],
   "execution_count": 1
  },
  {
   "metadata": {
    "ExecuteTime": {
     "end_time": "2025-01-19T19:22:35.408914Z",
     "start_time": "2025-01-19T19:22:34.511799Z"
    }
   },
   "cell_type": "code",
   "source": [
    "# Dataset source: https://huggingface.co/datasets/ronaldahmed/scitechnews\n",
    "df_train = pd.read_json('data/train.json', lines=True)\n",
    "df_train"
   ],
   "id": "8ec881a4dc6ad8c8",
   "outputs": [
    {
     "data": {
      "text/plain": [
       "          id                                           pr-title  \\\n",
       "0          0  New York City's Vaccine Passport Plan Renews O...   \n",
       "1          1  Facebook Disables Accounts Tied to NYU Researc...   \n",
       "2          2  Teenage Girls in Northern Nigeria 'Open Their ...   \n",
       "3          3  3D 'Heat Map' Animation Shows How Seizures Spr...   \n",
       "4          4  Endlessly Changing Playground Teaches AIs to M...   \n",
       "...      ...                                                ...   \n",
       "26633  29065  Young People Get Their Knowledge of Tech From ...   \n",
       "26634  29067  TUM Team ASIC Implements Post-Quantum Cryptogr...   \n",
       "26635  29070  3D Concrete Printing Robots Cut Rail Construct...   \n",
       "26636   6496  'Listening' Drone Helps Find Victims Needing R...   \n",
       "26637  29072  Kaseya Ransomware Attack Sets Off Race to Hack...   \n",
       "\n",
       "                                              pr-article  \\\n",
       "0      When New York City announced on Tuesday that i...   \n",
       "1      Facebook Inc. has disabled the personal accoun...   \n",
       "2      KANO, Nigeria, Aug 2 (Reuters) - Teenage girls...   \n",
       "3      For 29 years, from the time she was 12, Rashet...   \n",
       "4      What did they learn? Some of DeepMind's XLand ...   \n",
       "...                                                  ...   \n",
       "26633                                                      \n",
       "26634                                                      \n",
       "26635                                                      \n",
       "26636  As part of the ImPACT Tough Robotics Challenge...   \n",
       "26637                                                      \n",
       "\n",
       "                                              pr-summary sc-title sc-abstract  \\\n",
       "0      New York's City's mandate that people must sho...                        \n",
       "1      Facebook has disabled the personal accounts of...                        \n",
       "2      The Kabara non-governmental organization (NGO)...                        \n",
       "3      University of California, San Francisco (UCSF)...                        \n",
       "4      Alphabet's DeepMind Technologies has developed...                        \n",
       "...                                                  ...      ...         ...   \n",
       "26633  A survey of 1,000 16- to 21-year-olds in the U...                        \n",
       "26634  A team of researchers at Germany's Technical U...                        \n",
       "26635  Britain will employ robotic three-dimensionall...                        \n",
       "26636  Researchers in Japan say they have developed t...                        \n",
       "26637  Cybersecurity experts warn that July's ransomw...                        \n",
       "\n",
       "      sc-section_names sc-sections sc-article sc-authors  \n",
       "0                   []          []                    []  \n",
       "1                   []          []                    []  \n",
       "2                   []          []                    []  \n",
       "3                   []          []                    []  \n",
       "4                   []          []                    []  \n",
       "...                ...         ...        ...        ...  \n",
       "26633               []          []                    []  \n",
       "26634               []          []                    []  \n",
       "26635               []          []                    []  \n",
       "26636               []          []                    []  \n",
       "26637               []          []                    []  \n",
       "\n",
       "[26638 rows x 10 columns]"
      ],
      "text/html": [
       "<div>\n",
       "<style scoped>\n",
       "    .dataframe tbody tr th:only-of-type {\n",
       "        vertical-align: middle;\n",
       "    }\n",
       "\n",
       "    .dataframe tbody tr th {\n",
       "        vertical-align: top;\n",
       "    }\n",
       "\n",
       "    .dataframe thead th {\n",
       "        text-align: right;\n",
       "    }\n",
       "</style>\n",
       "<table border=\"1\" class=\"dataframe\">\n",
       "  <thead>\n",
       "    <tr style=\"text-align: right;\">\n",
       "      <th></th>\n",
       "      <th>id</th>\n",
       "      <th>pr-title</th>\n",
       "      <th>pr-article</th>\n",
       "      <th>pr-summary</th>\n",
       "      <th>sc-title</th>\n",
       "      <th>sc-abstract</th>\n",
       "      <th>sc-section_names</th>\n",
       "      <th>sc-sections</th>\n",
       "      <th>sc-article</th>\n",
       "      <th>sc-authors</th>\n",
       "    </tr>\n",
       "  </thead>\n",
       "  <tbody>\n",
       "    <tr>\n",
       "      <th>0</th>\n",
       "      <td>0</td>\n",
       "      <td>New York City's Vaccine Passport Plan Renews O...</td>\n",
       "      <td>When New York City announced on Tuesday that i...</td>\n",
       "      <td>New York's City's mandate that people must sho...</td>\n",
       "      <td></td>\n",
       "      <td></td>\n",
       "      <td>[]</td>\n",
       "      <td>[]</td>\n",
       "      <td></td>\n",
       "      <td>[]</td>\n",
       "    </tr>\n",
       "    <tr>\n",
       "      <th>1</th>\n",
       "      <td>1</td>\n",
       "      <td>Facebook Disables Accounts Tied to NYU Researc...</td>\n",
       "      <td>Facebook Inc. has disabled the personal accoun...</td>\n",
       "      <td>Facebook has disabled the personal accounts of...</td>\n",
       "      <td></td>\n",
       "      <td></td>\n",
       "      <td>[]</td>\n",
       "      <td>[]</td>\n",
       "      <td></td>\n",
       "      <td>[]</td>\n",
       "    </tr>\n",
       "    <tr>\n",
       "      <th>2</th>\n",
       "      <td>2</td>\n",
       "      <td>Teenage Girls in Northern Nigeria 'Open Their ...</td>\n",
       "      <td>KANO, Nigeria, Aug 2 (Reuters) - Teenage girls...</td>\n",
       "      <td>The Kabara non-governmental organization (NGO)...</td>\n",
       "      <td></td>\n",
       "      <td></td>\n",
       "      <td>[]</td>\n",
       "      <td>[]</td>\n",
       "      <td></td>\n",
       "      <td>[]</td>\n",
       "    </tr>\n",
       "    <tr>\n",
       "      <th>3</th>\n",
       "      <td>3</td>\n",
       "      <td>3D 'Heat Map' Animation Shows How Seizures Spr...</td>\n",
       "      <td>For 29 years, from the time she was 12, Rashet...</td>\n",
       "      <td>University of California, San Francisco (UCSF)...</td>\n",
       "      <td></td>\n",
       "      <td></td>\n",
       "      <td>[]</td>\n",
       "      <td>[]</td>\n",
       "      <td></td>\n",
       "      <td>[]</td>\n",
       "    </tr>\n",
       "    <tr>\n",
       "      <th>4</th>\n",
       "      <td>4</td>\n",
       "      <td>Endlessly Changing Playground Teaches AIs to M...</td>\n",
       "      <td>What did they learn? Some of DeepMind's XLand ...</td>\n",
       "      <td>Alphabet's DeepMind Technologies has developed...</td>\n",
       "      <td></td>\n",
       "      <td></td>\n",
       "      <td>[]</td>\n",
       "      <td>[]</td>\n",
       "      <td></td>\n",
       "      <td>[]</td>\n",
       "    </tr>\n",
       "    <tr>\n",
       "      <th>...</th>\n",
       "      <td>...</td>\n",
       "      <td>...</td>\n",
       "      <td>...</td>\n",
       "      <td>...</td>\n",
       "      <td>...</td>\n",
       "      <td>...</td>\n",
       "      <td>...</td>\n",
       "      <td>...</td>\n",
       "      <td>...</td>\n",
       "      <td>...</td>\n",
       "    </tr>\n",
       "    <tr>\n",
       "      <th>26633</th>\n",
       "      <td>29065</td>\n",
       "      <td>Young People Get Their Knowledge of Tech From ...</td>\n",
       "      <td></td>\n",
       "      <td>A survey of 1,000 16- to 21-year-olds in the U...</td>\n",
       "      <td></td>\n",
       "      <td></td>\n",
       "      <td>[]</td>\n",
       "      <td>[]</td>\n",
       "      <td></td>\n",
       "      <td>[]</td>\n",
       "    </tr>\n",
       "    <tr>\n",
       "      <th>26634</th>\n",
       "      <td>29067</td>\n",
       "      <td>TUM Team ASIC Implements Post-Quantum Cryptogr...</td>\n",
       "      <td></td>\n",
       "      <td>A team of researchers at Germany's Technical U...</td>\n",
       "      <td></td>\n",
       "      <td></td>\n",
       "      <td>[]</td>\n",
       "      <td>[]</td>\n",
       "      <td></td>\n",
       "      <td>[]</td>\n",
       "    </tr>\n",
       "    <tr>\n",
       "      <th>26635</th>\n",
       "      <td>29070</td>\n",
       "      <td>3D Concrete Printing Robots Cut Rail Construct...</td>\n",
       "      <td></td>\n",
       "      <td>Britain will employ robotic three-dimensionall...</td>\n",
       "      <td></td>\n",
       "      <td></td>\n",
       "      <td>[]</td>\n",
       "      <td>[]</td>\n",
       "      <td></td>\n",
       "      <td>[]</td>\n",
       "    </tr>\n",
       "    <tr>\n",
       "      <th>26636</th>\n",
       "      <td>6496</td>\n",
       "      <td>'Listening' Drone Helps Find Victims Needing R...</td>\n",
       "      <td>As part of the ImPACT Tough Robotics Challenge...</td>\n",
       "      <td>Researchers in Japan say they have developed t...</td>\n",
       "      <td></td>\n",
       "      <td></td>\n",
       "      <td>[]</td>\n",
       "      <td>[]</td>\n",
       "      <td></td>\n",
       "      <td>[]</td>\n",
       "    </tr>\n",
       "    <tr>\n",
       "      <th>26637</th>\n",
       "      <td>29072</td>\n",
       "      <td>Kaseya Ransomware Attack Sets Off Race to Hack...</td>\n",
       "      <td></td>\n",
       "      <td>Cybersecurity experts warn that July's ransomw...</td>\n",
       "      <td></td>\n",
       "      <td></td>\n",
       "      <td>[]</td>\n",
       "      <td>[]</td>\n",
       "      <td></td>\n",
       "      <td>[]</td>\n",
       "    </tr>\n",
       "  </tbody>\n",
       "</table>\n",
       "<p>26638 rows × 10 columns</p>\n",
       "</div>"
      ]
     },
     "execution_count": 2,
     "metadata": {},
     "output_type": "execute_result"
    }
   ],
   "execution_count": 2
  },
  {
   "metadata": {
    "ExecuteTime": {
     "end_time": "2025-01-19T19:22:35.638977Z",
     "start_time": "2025-01-19T19:22:35.627097Z"
    }
   },
   "cell_type": "code",
   "source": [
    "df_train = df_train[['pr-title', 'pr-article']]\n",
    "df_train"
   ],
   "id": "f0cc4555a283f467",
   "outputs": [
    {
     "data": {
      "text/plain": [
       "                                                pr-title  \\\n",
       "0      New York City's Vaccine Passport Plan Renews O...   \n",
       "1      Facebook Disables Accounts Tied to NYU Researc...   \n",
       "2      Teenage Girls in Northern Nigeria 'Open Their ...   \n",
       "3      3D 'Heat Map' Animation Shows How Seizures Spr...   \n",
       "4      Endlessly Changing Playground Teaches AIs to M...   \n",
       "...                                                  ...   \n",
       "26633  Young People Get Their Knowledge of Tech From ...   \n",
       "26634  TUM Team ASIC Implements Post-Quantum Cryptogr...   \n",
       "26635  3D Concrete Printing Robots Cut Rail Construct...   \n",
       "26636  'Listening' Drone Helps Find Victims Needing R...   \n",
       "26637  Kaseya Ransomware Attack Sets Off Race to Hack...   \n",
       "\n",
       "                                              pr-article  \n",
       "0      When New York City announced on Tuesday that i...  \n",
       "1      Facebook Inc. has disabled the personal accoun...  \n",
       "2      KANO, Nigeria, Aug 2 (Reuters) - Teenage girls...  \n",
       "3      For 29 years, from the time she was 12, Rashet...  \n",
       "4      What did they learn? Some of DeepMind's XLand ...  \n",
       "...                                                  ...  \n",
       "26633                                                     \n",
       "26634                                                     \n",
       "26635                                                     \n",
       "26636  As part of the ImPACT Tough Robotics Challenge...  \n",
       "26637                                                     \n",
       "\n",
       "[26638 rows x 2 columns]"
      ],
      "text/html": [
       "<div>\n",
       "<style scoped>\n",
       "    .dataframe tbody tr th:only-of-type {\n",
       "        vertical-align: middle;\n",
       "    }\n",
       "\n",
       "    .dataframe tbody tr th {\n",
       "        vertical-align: top;\n",
       "    }\n",
       "\n",
       "    .dataframe thead th {\n",
       "        text-align: right;\n",
       "    }\n",
       "</style>\n",
       "<table border=\"1\" class=\"dataframe\">\n",
       "  <thead>\n",
       "    <tr style=\"text-align: right;\">\n",
       "      <th></th>\n",
       "      <th>pr-title</th>\n",
       "      <th>pr-article</th>\n",
       "    </tr>\n",
       "  </thead>\n",
       "  <tbody>\n",
       "    <tr>\n",
       "      <th>0</th>\n",
       "      <td>New York City's Vaccine Passport Plan Renews O...</td>\n",
       "      <td>When New York City announced on Tuesday that i...</td>\n",
       "    </tr>\n",
       "    <tr>\n",
       "      <th>1</th>\n",
       "      <td>Facebook Disables Accounts Tied to NYU Researc...</td>\n",
       "      <td>Facebook Inc. has disabled the personal accoun...</td>\n",
       "    </tr>\n",
       "    <tr>\n",
       "      <th>2</th>\n",
       "      <td>Teenage Girls in Northern Nigeria 'Open Their ...</td>\n",
       "      <td>KANO, Nigeria, Aug 2 (Reuters) - Teenage girls...</td>\n",
       "    </tr>\n",
       "    <tr>\n",
       "      <th>3</th>\n",
       "      <td>3D 'Heat Map' Animation Shows How Seizures Spr...</td>\n",
       "      <td>For 29 years, from the time she was 12, Rashet...</td>\n",
       "    </tr>\n",
       "    <tr>\n",
       "      <th>4</th>\n",
       "      <td>Endlessly Changing Playground Teaches AIs to M...</td>\n",
       "      <td>What did they learn? Some of DeepMind's XLand ...</td>\n",
       "    </tr>\n",
       "    <tr>\n",
       "      <th>...</th>\n",
       "      <td>...</td>\n",
       "      <td>...</td>\n",
       "    </tr>\n",
       "    <tr>\n",
       "      <th>26633</th>\n",
       "      <td>Young People Get Their Knowledge of Tech From ...</td>\n",
       "      <td></td>\n",
       "    </tr>\n",
       "    <tr>\n",
       "      <th>26634</th>\n",
       "      <td>TUM Team ASIC Implements Post-Quantum Cryptogr...</td>\n",
       "      <td></td>\n",
       "    </tr>\n",
       "    <tr>\n",
       "      <th>26635</th>\n",
       "      <td>3D Concrete Printing Robots Cut Rail Construct...</td>\n",
       "      <td></td>\n",
       "    </tr>\n",
       "    <tr>\n",
       "      <th>26636</th>\n",
       "      <td>'Listening' Drone Helps Find Victims Needing R...</td>\n",
       "      <td>As part of the ImPACT Tough Robotics Challenge...</td>\n",
       "    </tr>\n",
       "    <tr>\n",
       "      <th>26637</th>\n",
       "      <td>Kaseya Ransomware Attack Sets Off Race to Hack...</td>\n",
       "      <td></td>\n",
       "    </tr>\n",
       "  </tbody>\n",
       "</table>\n",
       "<p>26638 rows × 2 columns</p>\n",
       "</div>"
      ]
     },
     "execution_count": 3,
     "metadata": {},
     "output_type": "execute_result"
    }
   ],
   "execution_count": 3
  },
  {
   "metadata": {
    "ExecuteTime": {
     "end_time": "2025-01-19T19:22:35.901440Z",
     "start_time": "2025-01-19T19:22:35.730714Z"
    }
   },
   "cell_type": "code",
   "source": "df_train.info()",
   "id": "cf7c0b9d942124b4",
   "outputs": [
    {
     "name": "stdout",
     "output_type": "stream",
     "text": [
      "<class 'pandas.core.frame.DataFrame'>\n",
      "RangeIndex: 26638 entries, 0 to 26637\n",
      "Data columns (total 2 columns):\n",
      " #   Column      Non-Null Count  Dtype \n",
      "---  ------      --------------  ----- \n",
      " 0   pr-title    26638 non-null  object\n",
      " 1   pr-article  26638 non-null  object\n",
      "dtypes: object(2)\n",
      "memory usage: 416.3+ KB\n"
     ]
    }
   ],
   "execution_count": 4
  },
  {
   "metadata": {
    "ExecuteTime": {
     "end_time": "2025-01-19T19:22:36.192532Z",
     "start_time": "2025-01-19T19:22:36.175939Z"
    }
   },
   "cell_type": "code",
   "source": [
    "df_train = df_train[df_train['pr-article'] != '']\n",
    "print('Train dataframe size without blanks: ', len(df_train))"
   ],
   "id": "7250fd432b47632c",
   "outputs": [
    {
     "name": "stdout",
     "output_type": "stream",
     "text": [
      "Train dataframe size without blanks:  12735\n"
     ]
    }
   ],
   "execution_count": 5
  },
  {
   "metadata": {
    "ExecuteTime": {
     "end_time": "2025-01-19T19:22:36.333074Z",
     "start_time": "2025-01-19T19:22:36.318870Z"
    }
   },
   "cell_type": "code",
   "source": [
    "random_article_idx = random.randint(0, len(df_train))\n",
    "row = df_train.iloc[random_article_idx]\n",
    "print('News example: ', random_article_idx)\n",
    "print('Title:    \\n', row['pr-title'])\n",
    "print('Article:  \\n', row['pr-article'])"
   ],
   "id": "6c60383bcbdf922f",
   "outputs": [
    {
     "name": "stdout",
     "output_type": "stream",
     "text": [
      "News example:  9955\n",
      "Title:    \n",
      " Creating Ag Extension Agent for Cyber\n",
      "Article:  \n",
      " Eugene Spafford, executive director of Purdue University's Center for Education and Research in Information Assurance and Security, sees Congress' committee structure as a deterrent in getting cybersecurity legislation passed. Various committees in both houses claim jurisdiction over different aspects of IT security, and intra-house squabbling can cause a bill to get lost on its way to becoming law. \"Each one of these committees wants to have jurisdiction of some kind over anything that's done in cybersecurity, and this crosses party lines and has been an impediment in previous years,\" Spafford says in an interview with GovInfoSecurity.com's Eric Chabrow (transcript below). In the current Congress, however, Spafford sees a greater focus in both houses to try and pull members together. Senate Majority Leader Harry Reid, D-Nev., has asked the chairmen of various committees with IT security oversight to come up with a comprehensive cybersecurity bill. In the House, Republican leaders formed a task force to address cybersecurity legislation ( House Creates GOP-Only Cybersec Task Force ). In the interview, Spafford also discusses: Breach notification bills before Congress, and presents his views on what requirements they should include. New ways to spread IT security awareness through the creation of a cyber equivalent of an agricultural extension agency. Effects of the weak economy on funding cybersecurity awareness initiatives. Spafford has served on the Purdue faculty since 1987. He is also a professor of philosophy, communications and electrical and computer engineering. His research interests focus on information security, computer crime investigation and information ethics. He is recognized as one of the senior leaders in the field of computing. IT Security Landscape ERIC CHABROW: Just this year, hackers believed backed by a foreign government likely stole 24,000 files related to U.S. military weapons systems. Hackers broke into the IT systems like security provider RSA and entertainment company Sony . So-called hacktivist groups Anonymous and LulzSec claimed hacks of government and business sites. Is the IT security landscape as rocky as it seems? Are government, businesses and individuals in more danger online than ever before? EUGENE SPAFFORD: It's difficult to say if the danger is greater now, because so many things change so quickly. But it is true that the landscape is, as you say, rocky. Systems are not protected consistently as they should be, and there are a number of elements who are interested in getting into those systems. The environment is not a safe one. CHABROW: This is especially true, at least the perception is, to consumers. In May, you testified before the House Subcommittee on Commerce, Manufacturing and Trade on the threat of data theft of American citizens. We're speaking in late July, and the House Subcommittee just approved a version of a breach notification bill known as the Safe Data Act that would supersede 47 state breach notification laws. What are your thoughts, generally, about the bill? SPAFFORD: The bill has a number of elements to it that are sound, in terms of requiring reporting of information and setting some protection standards for information. The testimony I provided was on behalf of USACM, the U.S. public policy council of ACM. We, as a group, have produced a list of 24 privacy principles that we hoped to see addressed more explicitly in the legislation, although they weren't. But there are some things in the legislation that are positive moving forward. It's not clear at the moment whether or not it will get all the way through Congress unscathed. It does allow the FTC some flexibility in setting rules in investigations. Superseding state laws is probably a good thing for businesses, in particular, because they are able to have a single, consistent set of standards to apply for business everywhere in the United States, although it may not allow states to be a little more proactive and move more quickly as threats occur. It's a complex situation, but it is progress forward, although Congress had passed similar bills several times in previous years, and they either died on the floor of the House or never made it into the agenda of the Senate. Congress & Cybersecurity CHABROW: You follow Congress. The atmosphere seems a bit different this year than in at least the past two years or past couple Congresses, although there isn't much to show for cybersecurity legislation in the past several Congresses. SPAFFORD: The big issue with Congress is how really divided it is - and not by political parties but by committees. The committees have oversight responsibility for certain agencies and areas of the law, and the committees have a certain level of power and seniority based on how much they cover, and they very jealously guard their turf. When bills are introduced, they have to go to the appropriate committee, and if they touch on other areas, very often they are not considered or they're cut up. And this is where we've seen a lot of the fragmentation in cybersecurity, because it touches so many agencies. It touches law enforcement, DHS, defense, intelligence, commerce, privacy issues, law enforcement issues, all kinds of things. Each one of these committees wants to have jurisdiction of some kind over anything that's done in cybersecurity, and this crosses party lines and has been an impediment in previous years. This year, because the problem has gotten worse over the last few years, it has also become more of an administration priority and something that consumers are more concerned with. I think there has been greater focus by the leadership in both of the houses of Congress to try to get the members to pull together. That's why we've seen a little bit more progress, but there are still more than two dozen bills on cybersecurity and privacy that are winding their way through various places in Congress. CHABROW: What would you like to see come out of Congress? What can Congress really do that will help IT security both in government and in the private sector? SPAFFORD: At this point, it's a little difficult to say exactly what should be done legislatively. There's a danger that if too much gets enacted in legislative language, it won't be flexible enough to deal with future issues. But here are some of the key points that really should be addressed. First of all, breach notification and setting minimum standards for personal information really is an important issue. I'd like to see that extended to all government agencies, as well as commercial and private entities. We need to have some more priority and funding given to law enforcement to follow up on issues, misuse of information, breaches and very possibly negligence as well. And this is more than simply the investigative aspect of law enforcement but also the prosecution, the follow through. That's important. A third issue isn't so much a guidance or penalty, but providing a little bit more direction and education on good practices. NIST has done a good job of setting some standards, but they're very technical and detailed and don't translate well for the general public and for small businesses. Having some kind of effort to push cybersecurity education and assistance out, not from a central location out of Washington, but to enable that to spring up around the country, would really be important. The model that I've seen discussed in at least one bill is modeled after the agricultural extension offices that are available in many counties and states around the country. Having a cybersecurity extension service where people could go to get advice on how to protect their systems, how to deal with privacy breaches or break-ins, would be very valuable. I'd like to move it in that direction, but I don't think we will. Cyber-Equivalent Ag Extension Service CHABROW: I'm just curious about that. Would this be an agricultural extension equivalent where it wouldn't necessarily be geographically based but based on how people are using computing? SPAFFORD: It would probably be a combination of both of those. There are some locations, some areas of the country, for instance, where an actual physical presence isn't going to make sense. But having a local presence where people know that they're talking to someone nearby, in a sense of somebody at the state level or their local level, might make general consumers a little bit more likely to be involved. But it does have a physical component in that if someone's PC desktop computer or laptop has a problem, it would certainly be helpful if they can bring it in to have the problem identified and get some ideas on how to solve it, similar to an AG-extension office now. If I discover an odd weed or an unusual bug in the garden, I can take it into the extension agency and they will identify it and give me some suggestions on how to control it or whether or not it's a problem. Right now we have so many people who are falling victim to botnets, viruses, identity theft and they don't really know where to turn. The government has some resources, but they're all available in a centralized location. They aren't well-tailored, they aren't always presented so that people can understand them well and people may not even know where to go for them. We need to do a better job there about pushing education and assistance out locally. CHABROW: Are you concerned at all with the fiscal crisis this nation is facing, that the federal government won't have sufficient funds to do what it should as it relates to IT security, let alone local and state governments that are in more dire straits? SPAFFORD: The economic situation affects lots of things, and cybersecurity-direct funding is certainly part of that, but it also affects many indirect issues having to do with education, businesses being able to afford to put new protections in place or hire new cybersecurity personnel, all kinds of other issues that definitely have indirect impacts on security and privacy. It's not simply the debt. It's the combination of how much is owed, where the priorities are for either putting new money or cutting money and the disagreements over how to proceed, all are having a negative impact. I should also add that another issue here is it's not simply a U.S. issue, but there are economic problems worldwide. What we're seeing going on in Europe, for instance, with several countries having significant financial problems are also affecting what they're going to be doing with security. When we talk about IT security, we have international corporations that are holding data that have important functions, and we also have Internet connectivity. That means what goes on in another country, such as over in India or in Greece, really is somewhat Internet-local to what's going on in Boston, Dallas or Los Angeles. IT Security & Privacy Efforts CHABROW: Do you see anything that gives you hope as it comes to IT security or privacy rights online? SPAFFORD: The increasing level of awareness we have certainly helps. For a long time, we haven't had enough people concerned to put pressure on government and business to try to improve privacy and try to improve security. That we are seeing increasing concern paid here indicates that there is increasing public awareness and concern over this problem. That's a good sign, so long as what is done is effective. I'm also encouraged that several companies, some startups and some long established, are concerned with privacy and talking about it in their offerings. For instance, some of the privacy-supporting features in Google+ are promising. That's not to say information entrusted to Google in general has the best privacy protections, but they're showing concern for it. That's a good thing.\n"
     ]
    }
   ],
   "execution_count": 6
  },
  {
   "metadata": {
    "ExecuteTime": {
     "end_time": "2025-01-19T19:22:38.370376Z",
     "start_time": "2025-01-19T19:22:37.879639Z"
    }
   },
   "cell_type": "code",
   "source": "import matplotlib.pyplot as plt",
   "id": "41520539a4a08e56",
   "outputs": [],
   "execution_count": 9
  },
  {
   "metadata": {
    "ExecuteTime": {
     "end_time": "2025-01-19T19:22:38.666815Z",
     "start_time": "2025-01-19T19:22:38.384361Z"
    }
   },
   "cell_type": "code",
   "source": [
    "article_lengths = df_train['pr-article'].str.len()\n",
    "\n",
    "plt.figure(figsize=(10, 5))\n",
    "plt.hist(article_lengths, bins=150, color='orange')\n",
    "plt.xlim(0, 15000)\n",
    "plt.xlabel('Article length')\n",
    "plt.ylabel('Counts')"
   ],
   "id": "22f6642e855b0e05",
   "outputs": [
    {
     "data": {
      "text/plain": [
       "Text(0, 0.5, 'Counts')"
      ]
     },
     "execution_count": 10,
     "metadata": {},
     "output_type": "execute_result"
    },
    {
     "data": {
      "text/plain": [
       "<Figure size 1000x500 with 1 Axes>"
      ],
      "image/png": "[encoded data removed]"
     },
     "metadata": {},
     "output_type": "display_data"
    }
   ],
   "execution_count": 10
  },
  {
   "metadata": {},
   "cell_type": "markdown",
   "source": "## Tokenizing and preprocessing data",
   "id": "a0f03704c1747e37"
  },
  {
   "metadata": {
    "ExecuteTime": {
     "end_time": "2025-01-19T19:22:42.784592Z",
     "start_time": "2025-01-19T19:22:38.879763Z"
    }
   },
   "cell_type": "code",
   "source": [
    "from transformers import T5Tokenizer, T5ForConditionalGeneration, T5Config\n",
    "import torch\n",
    "\n",
    "display_model_info = 1\n",
    "\n",
    "model_name = \"t5-large\"\n",
    "\n",
    "device = torch.device(\"cuda\" if torch.cuda.is_available() else \"cpu\")\n",
    "print(device)"
   ],
   "id": "484dd196ffd22276",
   "outputs": [
    {
     "name": "stdout",
     "output_type": "stream",
     "text": [
      "cuda\n"
     ]
    }
   ],
   "execution_count": 12
  },
  {
   "metadata": {
    "ExecuteTime": {
     "end_time": "2025-01-19T19:22:45.299146Z",
     "start_time": "2025-01-19T19:22:42.800990Z"
    }
   },
   "cell_type": "code",
   "source": [
    "model = T5ForConditionalGeneration.from_pretrained(model_name).to(device)\n",
    "model.eval()\n",
    "tokenizer = T5Tokenizer.from_pretrained(model_name)"
   ],
   "id": "433d1b38b46cea97",
   "outputs": [
    {
     "name": "stderr",
     "output_type": "stream",
     "text": [
      "You are using the default legacy behaviour of the <class 'transformers.models.t5.tokenization_t5.T5Tokenizer'>. This is expected, and simply means that the `legacy` (previous) behavior will be used so nothing changes for you. If you want to use the new behaviour, set `legacy=False`. This should only be set if you understand what it means, and thoroughly read the reason why this was added as explained in https://github.com/huggingface/transformers/pull/24565\n"
     ]
    }
   ],
   "execution_count": 13
  },
  {
   "metadata": {
    "ExecuteTime": {
     "end_time": "2025-01-19T19:22:45.322910Z",
     "start_time": "2025-01-19T19:22:45.316059Z"
    }
   },
   "cell_type": "code",
   "source": [
    "if display_model_info:\n",
    "    print(model)"
   ],
   "id": "b797aaae2451b50e",
   "outputs": [
    {
     "name": "stdout",
     "output_type": "stream",
     "text": [
      "T5ForConditionalGeneration(\n",
      "  (shared): Embedding(32128, 1024)\n",
      "  (encoder): T5Stack(\n",
      "    (embed_tokens): Embedding(32128, 1024)\n",
      "    (block): ModuleList(\n",
      "      (0): T5Block(\n",
      "        (layer): ModuleList(\n",
      "          (0): T5LayerSelfAttention(\n",
      "            (SelfAttention): T5Attention(\n",
      "              (q): Linear(in_features=1024, out_features=1024, bias=False)\n",
      "              (k): Linear(in_features=1024, out_features=1024, bias=False)\n",
      "              (v): Linear(in_features=1024, out_features=1024, bias=False)\n",
      "              (o): Linear(in_features=1024, out_features=1024, bias=False)\n",
      "              (relative_attention_bias): Embedding(32, 16)\n",
      "            )\n",
      "            (layer_norm): T5LayerNorm()\n",
      "            (dropout): Dropout(p=0.1, inplace=False)\n",
      "          )\n",
      "          (1): T5LayerFF(\n",
      "            (DenseReluDense): T5DenseActDense(\n",
      "              (wi): Linear(in_features=1024, out_features=4096, bias=False)\n",
      "              (wo): Linear(in_features=4096, out_features=1024, bias=False)\n",
      "              (dropout): Dropout(p=0.1, inplace=False)\n",
      "              (act): ReLU()\n",
      "            )\n",
      "            (layer_norm): T5LayerNorm()\n",
      "            (dropout): Dropout(p=0.1, inplace=False)\n",
      "          )\n",
      "        )\n",
      "      )\n",
      "      (1-23): 23 x T5Block(\n",
      "        (layer): ModuleList(\n",
      "          (0): T5LayerSelfAttention(\n",
      "            (SelfAttention): T5Attention(\n",
      "              (q): Linear(in_features=1024, out_features=1024, bias=False)\n",
      "              (k): Linear(in_features=1024, out_features=1024, bias=False)\n",
      "              (v): Linear(in_features=1024, out_features=1024, bias=False)\n",
      "              (o): Linear(in_features=1024, out_features=1024, bias=False)\n",
      "            )\n",
      "            (layer_norm): T5LayerNorm()\n",
      "            (dropout): Dropout(p=0.1, inplace=False)\n",
      "          )\n",
      "          (1): T5LayerFF(\n",
      "            (DenseReluDense): T5DenseActDense(\n",
      "              (wi): Linear(in_features=1024, out_features=4096, bias=False)\n",
      "              (wo): Linear(in_features=4096, out_features=1024, bias=False)\n",
      "              (dropout): Dropout(p=0.1, inplace=False)\n",
      "              (act): ReLU()\n",
      "            )\n",
      "            (layer_norm): T5LayerNorm()\n",
      "            (dropout): Dropout(p=0.1, inplace=False)\n",
      "          )\n",
      "        )\n",
      "      )\n",
      "    )\n",
      "    (final_layer_norm): T5LayerNorm()\n",
      "    (dropout): Dropout(p=0.1, inplace=False)\n",
      "  )\n",
      "  (decoder): T5Stack(\n",
      "    (embed_tokens): Embedding(32128, 1024)\n",
      "    (block): ModuleList(\n",
      "      (0): T5Block(\n",
      "        (layer): ModuleList(\n",
      "          (0): T5LayerSelfAttention(\n",
      "            (SelfAttention): T5Attention(\n",
      "              (q): Linear(in_features=1024, out_features=1024, bias=False)\n",
      "              (k): Linear(in_features=1024, out_features=1024, bias=False)\n",
      "              (v): Linear(in_features=1024, out_features=1024, bias=False)\n",
      "              (o): Linear(in_features=1024, out_features=1024, bias=False)\n",
      "              (relative_attention_bias): Embedding(32, 16)\n",
      "            )\n",
      "            (layer_norm): T5LayerNorm()\n",
      "            (dropout): Dropout(p=0.1, inplace=False)\n",
      "          )\n",
      "          (1): T5LayerCrossAttention(\n",
      "            (EncDecAttention): T5Attention(\n",
      "              (q): Linear(in_features=1024, out_features=1024, bias=False)\n",
      "              (k): Linear(in_features=1024, out_features=1024, bias=False)\n",
      "              (v): Linear(in_features=1024, out_features=1024, bias=False)\n",
      "              (o): Linear(in_features=1024, out_features=1024, bias=False)\n",
      "            )\n",
      "            (layer_norm): T5LayerNorm()\n",
      "            (dropout): Dropout(p=0.1, inplace=False)\n",
      "          )\n",
      "          (2): T5LayerFF(\n",
      "            (DenseReluDense): T5DenseActDense(\n",
      "              (wi): Linear(in_features=1024, out_features=4096, bias=False)\n",
      "              (wo): Linear(in_features=4096, out_features=1024, bias=False)\n",
      "              (dropout): Dropout(p=0.1, inplace=False)\n",
      "              (act): ReLU()\n",
      "            )\n",
      "            (layer_norm): T5LayerNorm()\n",
      "            (dropout): Dropout(p=0.1, inplace=False)\n",
      "          )\n",
      "        )\n",
      "      )\n",
      "      (1-23): 23 x T5Block(\n",
      "        (layer): ModuleList(\n",
      "          (0): T5LayerSelfAttention(\n",
      "            (SelfAttention): T5Attention(\n",
      "              (q): Linear(in_features=1024, out_features=1024, bias=False)\n",
      "              (k): Linear(in_features=1024, out_features=1024, bias=False)\n",
      "              (v): Linear(in_features=1024, out_features=1024, bias=False)\n",
      "              (o): Linear(in_features=1024, out_features=1024, bias=False)\n",
      "            )\n",
      "            (layer_norm): T5LayerNorm()\n",
      "            (dropout): Dropout(p=0.1, inplace=False)\n",
      "          )\n",
      "          (1): T5LayerCrossAttention(\n",
      "            (EncDecAttention): T5Attention(\n",
      "              (q): Linear(in_features=1024, out_features=1024, bias=False)\n",
      "              (k): Linear(in_features=1024, out_features=1024, bias=False)\n",
      "              (v): Linear(in_features=1024, out_features=1024, bias=False)\n",
      "              (o): Linear(in_features=1024, out_features=1024, bias=False)\n",
      "            )\n",
      "            (layer_norm): T5LayerNorm()\n",
      "            (dropout): Dropout(p=0.1, inplace=False)\n",
      "          )\n",
      "          (2): T5LayerFF(\n",
      "            (DenseReluDense): T5DenseActDense(\n",
      "              (wi): Linear(in_features=1024, out_features=4096, bias=False)\n",
      "              (wo): Linear(in_features=4096, out_features=1024, bias=False)\n",
      "              (dropout): Dropout(p=0.1, inplace=False)\n",
      "              (act): ReLU()\n",
      "            )\n",
      "            (layer_norm): T5LayerNorm()\n",
      "            (dropout): Dropout(p=0.1, inplace=False)\n",
      "          )\n",
      "        )\n",
      "      )\n",
      "    )\n",
      "    (final_layer_norm): T5LayerNorm()\n",
      "    (dropout): Dropout(p=0.1, inplace=False)\n",
      "  )\n",
      "  (lm_head): Linear(in_features=1024, out_features=32128, bias=False)\n",
      ")\n"
     ]
    }
   ],
   "execution_count": 14
  },
  {
   "metadata": {},
   "cell_type": "markdown",
   "source": "Model presents 24x Encoder blocks and 24x Decoder blocks.",
   "id": "aec9d2f79fd221a1"
  },
  {
   "metadata": {
    "ExecuteTime": {
     "end_time": "2025-01-19T19:22:45.461026Z",
     "start_time": "2025-01-19T19:22:45.362102Z"
    }
   },
   "cell_type": "code",
   "source": [
    "if display_model_info:\n",
    "    print(model.config)"
   ],
   "id": "b46b4c15c7baa76",
   "outputs": [
    {
     "name": "stdout",
     "output_type": "stream",
     "text": [
      "T5Config {\n",
      "  \"_attn_implementation_autoset\": true,\n",
      "  \"_name_or_path\": \"t5-large\",\n",
      "  \"architectures\": [\n",
      "    \"T5ForConditionalGeneration\"\n",
      "  ],\n",
      "  \"classifier_dropout\": 0.0,\n",
      "  \"d_ff\": 4096,\n",
      "  \"d_kv\": 64,\n",
      "  \"d_model\": 1024,\n",
      "  \"decoder_start_token_id\": 0,\n",
      "  \"dense_act_fn\": \"relu\",\n",
      "  \"dropout_rate\": 0.1,\n",
      "  \"eos_token_id\": 1,\n",
      "  \"feed_forward_proj\": \"relu\",\n",
      "  \"initializer_factor\": 1.0,\n",
      "  \"is_encoder_decoder\": true,\n",
      "  \"is_gated_act\": false,\n",
      "  \"layer_norm_epsilon\": 1e-06,\n",
      "  \"model_type\": \"t5\",\n",
      "  \"n_positions\": 512,\n",
      "  \"num_decoder_layers\": 24,\n",
      "  \"num_heads\": 16,\n",
      "  \"num_layers\": 24,\n",
      "  \"output_past\": true,\n",
      "  \"pad_token_id\": 0,\n",
      "  \"relative_attention_max_distance\": 128,\n",
      "  \"relative_attention_num_buckets\": 32,\n",
      "  \"task_specific_params\": {\n",
      "    \"summarization\": {\n",
      "      \"early_stopping\": true,\n",
      "      \"length_penalty\": 2.0,\n",
      "      \"max_length\": 200,\n",
      "      \"min_length\": 30,\n",
      "      \"no_repeat_ngram_size\": 3,\n",
      "      \"num_beams\": 4,\n",
      "      \"prefix\": \"summarize: \"\n",
      "    },\n",
      "    \"translation_en_to_de\": {\n",
      "      \"early_stopping\": true,\n",
      "      \"max_length\": 300,\n",
      "      \"num_beams\": 4,\n",
      "      \"prefix\": \"translate English to German: \"\n",
      "    },\n",
      "    \"translation_en_to_fr\": {\n",
      "      \"early_stopping\": true,\n",
      "      \"max_length\": 300,\n",
      "      \"num_beams\": 4,\n",
      "      \"prefix\": \"translate English to French: \"\n",
      "    },\n",
      "    \"translation_en_to_ro\": {\n",
      "      \"early_stopping\": true,\n",
      "      \"max_length\": 300,\n",
      "      \"num_beams\": 4,\n",
      "      \"prefix\": \"translate English to Romanian: \"\n",
      "    }\n",
      "  },\n",
      "  \"transformers_version\": \"4.47.1\",\n",
      "  \"use_cache\": true,\n",
      "  \"vocab_size\": 32128\n",
      "}\n",
      "\n"
     ]
    }
   ],
   "execution_count": 15
  },
  {
   "metadata": {
    "ExecuteTime": {
     "end_time": "2025-01-19T19:22:45.558840Z",
     "start_time": "2025-01-19T19:22:45.497446Z"
    }
   },
   "cell_type": "code",
   "source": [
    "special_tokens = tokenizer.special_tokens_map\n",
    "special_tokens.pop('additional_special_tokens')\n",
    "print(special_tokens)"
   ],
   "id": "6924cba6dc7cf286",
   "outputs": [
    {
     "name": "stdout",
     "output_type": "stream",
     "text": [
      "{'eos_token': '</s>', 'unk_token': '<unk>', 'pad_token': '<pad>'}\n"
     ]
    }
   ],
   "execution_count": 16
  },
  {
   "metadata": {
    "ExecuteTime": {
     "end_time": "2025-01-19T19:22:45.656612Z",
     "start_time": "2025-01-19T19:22:45.564517Z"
    }
   },
   "cell_type": "code",
   "source": "import textwrap",
   "id": "65fd6650576496bd",
   "outputs": [],
   "execution_count": 17
  },
  {
   "metadata": {
    "ExecuteTime": {
     "end_time": "2025-01-19T19:32:40.929595Z",
     "start_time": "2025-01-19T19:32:40.925411Z"
    }
   },
   "cell_type": "code",
   "source": [
    "def get_title_for_news(article, max_length=30, min_length=5, trim_period=True):\n",
    "    t5_input = \"summarize: \" + article# + \" </s>\"\n",
    "    tokenized_t5_input = tokenizer.encode(t5_input,\n",
    "                                          return_tensors=\"pt\",\n",
    "                                          truncation=True,\n",
    "                                          max_length=model.config.n_positions\n",
    "                                          ).to(device)\n",
    "    title_ids = model.generate(tokenized_t5_input,\n",
    "                               max_length=max_length,\n",
    "                               min_length=min_length,\n",
    "                               num_beams=4,\n",
    "                               early_stopping=True)\n",
    "    title = tokenizer.decode(title_ids[0], skip_special_tokens=True)\n",
    "    if trim_period:\n",
    "        titles = title.split('.')\n",
    "        title = titles[0]\n",
    "    return title"
   ],
   "id": "793f86d9ebbfd4f",
   "outputs": [],
   "execution_count": 52
  },
  {
   "metadata": {
    "ExecuteTime": {
     "end_time": "2025-01-19T19:29:56.906184Z",
     "start_time": "2025-01-19T19:29:56.900710Z"
    }
   },
   "cell_type": "code",
   "source": [
    "def print_article_titles(article_idx):\n",
    "    article = df_train['pr-article'].iloc[article_idx]\n",
    "    official_title = df_train['pr-title'].iloc[article_idx]\n",
    "\n",
    "    print('Article:')\n",
    "    print(textwrap.fill(article, 120, initial_indent='    ', subsequent_indent='    '))\n",
    "    print('\\nOfficial title:')\n",
    "    print(textwrap.fill(official_title, 120, initial_indent='    ', subsequent_indent='    '))\n",
    "\n",
    "    model_title = get_title_for_news(article,\n",
    "                                     min_length=5,\n",
    "                                     max_length=30)\n",
    "\n",
    "    print('\\nModel title:')\n",
    "    print(textwrap.fill(model_title, 120, initial_indent='    ', subsequent_indent='    '))\n"
   ],
   "id": "e3caebb9018c3e69",
   "outputs": [],
   "execution_count": 43
  },
  {
   "metadata": {
    "ExecuteTime": {
     "end_time": "2025-01-19T19:30:00.313370Z",
     "start_time": "2025-01-19T19:29:58.611018Z"
    }
   },
   "cell_type": "code",
   "source": "print_article_titles(500)",
   "id": "77144e1dd38bf4de",
   "outputs": [
    {
     "name": "stdout",
     "output_type": "stream",
     "text": [
      "Article:\n",
      "    More than half of IT workers in the UK and Ireland say their companies are trying to tackle gender diversity in IT\n",
      "    departments, according to research by Computer Weekly. The annual Computer Weekly/TechTarget IT salary survey asked\n",
      "    IT workers which topics related to diversity their IT departments were working to address in 2020 and found 67% said\n",
      "    their firms were working on gender diversity . But only 29% said their company had a plan in place to help improve\n",
      "    the balance of men and women in their tech teams. Ruth Blanco, communications director for WISE, the campaign for\n",
      "    greater gender balance in science, technology, engineering and mathematics (STEM), which has resources available to\n",
      "    help companies address diversity better, said: \"While it is reassuring that the majority of IT workers say gender\n",
      "    diversity is something their workplace is addressing, it is telling that only 29% say there is a plan in place. We\n",
      "    know that diversity and inclusion should have a plan, just like any other business project.\" Recent research by BCS\n",
      "    found a lack of diversity in the UK's tech sector , with women accounting for 17% of IT specialists in the region,\n",
      "    about 8% of IT specialists are of Indian ethnicity, 2% from a black, African, Caribbean or black British background,\n",
      "    and 2% from a Pakistani or Bangladeshi background. Computer Weekly's own research found women accounted for an\n",
      "    average of 22% of IT staff. Almost 60% of IT workers questioned in the Computer Weekly/TechTarget IT salary survey\n",
      "    said ethnicity was a topic their IT teams were currently working to address, 34% said their IT department was\n",
      "    currently addressing the topic of sexuality, 34% of tech departments were working on addressing disability-related\n",
      "    diversity issues, and 48% were looking into age discrepancies. But diversity isn't something that happens by itself\n",
      "    in businesses - experts have agreed in the past that if firms cannot find diverse talent, it is likely that they\n",
      "    have hiring and culture issues , and others have claimed that a push for diversity should come from the top of an\n",
      "    organisation . When it comes to addressing the lack of women in tech, almost 40% of IT staff said there was no plan\n",
      "    in place to address the gender balance in their IT teams. Less than 30% of IT workers said men and women with\n",
      "    similar qualifications received the same pay in their firm - there is a significant gender pay gap in the UK's tech\n",
      "    sector, with research finding that women made about 9% less than their male counterparts in 2016 . Russ Shaw,\n",
      "    founder of Global Tech Advocates and Tech London Advocates, encouraged the sector to \"reset\" its thinking and work\n",
      "    towards making tech workplaces more diverse and inclusive to promote industry growth. \"These figures show that a\n",
      "    lack of diversity stubbornly remains a serious problem for the UK tech sector,\" he said. \"While there is a growing\n",
      "    awareness of the scale of this challenge and an increasing number of tech companies are taking action, this research\n",
      "    shows that more needs to be done and that change needs to happen faster. \"In 2021, it is simply unacceptable that\n",
      "    two-thirds of tech companies are not actively addressing the gender pay gap or equal gender representation. On the\n",
      "    one hand, we have tech companies desperate for talent and on the other hand, growing unemployment as a result of the\n",
      "    pandemic.\" Some have claimed that addressing diversity in organisations could help tackle skills shortages because\n",
      "    it widens the pool in which businesses look for talent . But Computer Weekly's research has found there are\n",
      "    differences in opinion when it comes to recruiting women into tech teams. In the UK and Ireland in 2020, 37% if IT\n",
      "    workers believed recruiting more women into their IT departments would reduce skills shortages, but the same\n",
      "    percentage thought skills shortages would not be affected by recruiting more women. Only about a quarter of IT\n",
      "    workers said women in their company had similar opportunities to men, with 38% saying that wasn't true at all, and\n",
      "    42% didn't think men needed to be more involved in helping women integrate into IT departments, despite 40% saying\n",
      "    this was important. \"Solving the lack of diversity and equality is too often left to be the responsibility of under-\n",
      "    represented groups, and this is a big challenge that slows down progress across the board,\" said Debbie Forster, CEO\n",
      "    of industry collaborative Tech Talent Charter. \"This data, showing that 42% didn't think men needed to be more\n",
      "    involved in helping women integrate into IT departments, shows how pervasive this kind of thinking is. \"Ultimately,\n",
      "    diversity benefits everyone, so should be seen as everyone's responsibility. With men usually in the majority and\n",
      "    often in positions of power, it is easy to see how this point of view prevents progress being made. Only when people\n",
      "    work together can real solutions be found.\"\n",
      "\n",
      "Official title:\n",
      "    Almost 70% of IT Staff Say Firms Working on Tech Gender Diversity\n",
      "\n",
      "Model title:\n",
      "    67% of IT workers said their firms were working on gender diversity\n"
     ]
    }
   ],
   "execution_count": 44
  },
  {
   "metadata": {
    "ExecuteTime": {
     "end_time": "2025-01-19T19:30:01.562384Z",
     "start_time": "2025-01-19T19:30:00.323663Z"
    }
   },
   "cell_type": "code",
   "source": "print_article_titles(1310)",
   "id": "e388660b39f7c977",
   "outputs": [
    {
     "name": "stdout",
     "output_type": "stream",
     "text": [
      "Article:\n",
      "    \"Pre-pandemic, people might have thought we were automating too much,\" said Richard Pak, a professor at Clemson\n",
      "    University who researches the psychological factors around automation. \"This event is going to push people to think\n",
      "    what more should be automated.\" The grocery industry is leaning more on automation to free up employees to deal with\n",
      "    the crush of demand during the pandemic. Brain Corp, a San Diego company that makes software used in automated floor\n",
      "    cleaners, said retailers were using the cleaners 13 percent more than they were just two months ago. The \"autonomous\n",
      "    floor care robots\" are doing about 8,000 hours of daily work \"that otherwise would have been done by an essential\n",
      "    worker,\" the company said.\n",
      "\n",
      "Official title:\n",
      "    Robots Welcome to Take Over, as Pandemic Accelerates Automation\n",
      "\n",
      "Model title:\n",
      "    \"pre-pandemic, people might have thought we were automating too much,\" professor says\n"
     ]
    }
   ],
   "execution_count": 45
  },
  {
   "metadata": {
    "ExecuteTime": {
     "end_time": "2025-01-19T19:31:23.731873Z",
     "start_time": "2025-01-19T19:31:21.956920Z"
    }
   },
   "cell_type": "code",
   "source": "print_article_titles(1106)",
   "id": "829a9ffdbc1ec476",
   "outputs": [
    {
     "name": "stdout",
     "output_type": "stream",
     "text": [
      "Article:\n",
      "    As people age, cognitive decline can happen in subtle ways that are not always immediately obvious to family members\n",
      "    or friends. One solution for better detecting these subtle changes, however, could already be in the homes of many\n",
      "    people, in the form of a smart home device. In a recent study , researchers demonstrate that it's possible to use\n",
      "    data from smart home devices to detect behavioral differences between people who are experiencing cognitive decline\n",
      "    and healthy individuals. The results, which could have broader implications for the monitoring of many different\n",
      "    health conditions, were published 3 June in IEEE Journal of Biomedical and Health Informatics . Gina Sprint, an\n",
      "    Assistant Professor of Computer Science at Gonzaga University, is one of the researchers involved in the study.\n",
      "    Sprint and her collaborators at Washington State University developed a novel algorithm for analyzing data from\n",
      "    smart home devices; it's called Behavior Change Detection for Groups (BCD-G). In particular, the algorithm analyzes\n",
      "    behavioral patterns of residents across time. In the study, 14 volunteers were monitored continuously in their homes\n",
      "    for one month. Seven of these volunteers were living with dementia, while the other seven comprised a healthy\n",
      "    control group of similar age and educational background. BCD-G was then used to assess the volunteers as they\n",
      "    engaged in 16 types of activities, such as bathing, cooking, sleeping, working, and taking medications. Using BCD-G\n",
      "    to compare the two groups revealed some intriguing differences in behavior. \"First, the in-home walk speed of the\n",
      "    cognitively impaired group was about half as fast as the age-matched healthy control group,\" says Sprint. \"Also, the\n",
      "    cognitively impaired group had a greater variance in the duration of the activities they performed and what time\n",
      "    they started the activities. They slept more during the day and at night, and lastly, they exhibited large\n",
      "    behavioral differences related to how often and when they would leave their home, take their medications, and get\n",
      "    dressed.\" While BCD-G proved useful for uncovering the behavioral patterns of people with dementia in this study,\n",
      "    Sprint notes that the algorithm can be applied to a number of other health conditions. For example, BCD-G could be\n",
      "    used to monitor patients recovering from a stroke or traumatic brain injury. \"Because BCD-G looks at changes across\n",
      "    time points, it has potential to help with almost any condition where a clinician would want to know if someone is\n",
      "    improving or declining,\" explains Sprint. Moving forward, her team plans to consult with clinicians to gather their\n",
      "    feedback on BCD-G and further expand upon the tool. \"Involving clinicians with frontline experience when creating\n",
      "    algorithms like BCD-G is key to making machine learning applicable in the real-world,\" she says. \"Successful\n",
      "    applications can assist clinicians in treatment planning and ultimately improve patients' health.\"\n",
      "\n",
      "Official title:\n",
      "    Smart Home Devices Can Reveal Behaviors Associated With Dementia\n",
      "\n",
      "Model title:\n",
      "    researchers demonstrate that it's possible to use data from smart home devices to detect behavioral differences\n",
      "    between people who are experiencing cognitive decline and healthy individuals\n"
     ]
    }
   ],
   "execution_count": 46
  },
  {
   "metadata": {},
   "cell_type": "markdown",
   "source": "Down here the models predicts something wrong until the first period:",
   "id": "84f999bf1f8b3ccc"
  },
  {
   "metadata": {
    "ExecuteTime": {
     "end_time": "2025-01-19T19:32:47.562529Z",
     "start_time": "2025-01-19T19:32:45.587593Z"
    }
   },
   "cell_type": "code",
   "source": "print_article_titles(2002)",
   "id": "4aa22355a2d454de",
   "outputs": [
    {
     "name": "stdout",
     "output_type": "stream",
     "text": [
      "Article:\n",
      "    Advocates for closing the gender gap in computer science say part of the solution isn't necessarily increasing the\n",
      "    number of classes that K-12 schools offer - it's getting districts to report who's taking them. The nonprofit Girls\n",
      "    Who Code is working with Sen. Jacky Rosen (D-Nev.) on legislation that would require schools receiving federal\n",
      "    funding for computer science programs to disclose to the Department of Education the number and percentage of\n",
      "    students who participate in computer science courses, as well as their gender, race and other demographic\n",
      "    information. With that transparency, it becomes more clear who's signing up for classes that lay the groundwork for\n",
      "    careers in technology - and whether federal grant programs are making a difference. The broader aim is to help girls\n",
      "    think of themselves as smart at science and tech, defying preconceived notions. \"We have open jobs. If we don't work\n",
      "    harder to include women in tech ... there's no way we can possibly fill that gap,\" said Anna Hughes, spokesperson\n",
      "    for Software.org: the BSA Foundation, a Girls Who Code partner whose aim is to create a more diverse workforce.\n",
      "    \"Typically, if you think of a coder, it's a white male. We're trying to make the tech community look like America.\"\n",
      "    Rosen's forthcoming bill will also call for the reported demographic breakdown to include ethnicity, English learner\n",
      "    status, eligibility for free and reduced lunch, special education status and grade level. Several states have passed\n",
      "    legislation requiring K-12 schools to track and report some of this data already, according to Rosen's office. \"When\n",
      "    we're able to identify disparities in education, we can better determine whether federal grant programs are\n",
      "    effectively reaching our students, allowing us to improve how to distribute and implement these funds across\n",
      "    communities,\" Rosen, a former computer programmer, told POLITICO in a statement. \"The legislation I am developing\n",
      "    with Girls Who Code will help us find and close existing gaps in disparities, while ensuring we are being good\n",
      "    stewards of taxpayer dollars.\" In April, the Nation's Report Card found that girls continued to outperform boys on a\n",
      "    technology and engineering literacy assessment, and that they benefit greatly from taking a class related to science\n",
      "    or engineering. Girls who took a class scored 10 points higher than those who didn't, compared to a 5-point gap for\n",
      "    boys. But a higher percentage of male students reported taking at least one related class: 61 percent of boys\n",
      "    compared to 53 percent of girls. Not surprisingly, fewer than 1 in 5 computer science graduates are women and only\n",
      "    24 percent of computer scientists in 2017 were women, according to Girls Who Code. The policy-setting board for the\n",
      "    Nation's Report Card recently announced that eighth graders will be assessed on technology and engineering literacy\n",
      "    for the first time at the state level - but in 2027. That's too long to wait, said Corinne Roller, director of\n",
      "    advocacy and public policy at GWC. The group has been working with states on legislation to encourage data tracking\n",
      "    for K-12 computer science. \"States and districts and schools are expanding computer science programs by the day and\n",
      "    by 2027 we need to be in a place where our classrooms have reached gender parity,\" Roller said. \"That shouldn't be\n",
      "    our starting point for just looking at this data.\" A report Girls Who Code released in July, looking at available\n",
      "    data from 12 states over the 2016-17 to 2017-18 school years, found that policies aimed at increasing the number of\n",
      "    computer science classrooms had little impact on girls' participation rates, which in some cases declined. Along\n",
      "    with tracking data on computer science participation, the group recommends policies that increase girls' exposure to\n",
      "    women and other underrepresented minorities in tech, funding gender inclusion training for teachers and expanding\n",
      "    computer science courses to all middle schools to expose girls to the program at younger ages. While Rosen's data-\n",
      "    tracking bill is still in the works, Girls Who Code is also backing other legislation, including Rosen's bipartisan\n",
      "    Building Blocks of STEM Act, S. 737 (116), to create new research grants to increase girls' participation in\n",
      "    computer science. A version passed the House last month. The group is also supporting a bill by Democratic\n",
      "    presidential candidate Sen. Kamala Harris, (D-Calif.) - the 21st Century STEM for Girls and Underrepresented\n",
      "    Minorities Act - to encourage STEM education for girls, students of color, LGBTQ students and students with\n",
      "    disabilities. Roller said she is also watching the bipartisan Teacher Education for Computer Science Act that would\n",
      "    establish \"Centers of Excellence\" for teacher education programs in computer science. Given that the teaching\n",
      "    profession is predominantly made up of women, training more teachers would automatically increase female role models\n",
      "    for girls in tech, Roller said. \"You can't be what you can't see,\" she said. \"So much of our work focuses really on\n",
      "    the culture change and making sure that girls have diverse female role models to look up to. So increasing the\n",
      "    teacher pipeline will hopefully automatically and organically do that.\" The Bureau of Labor Statistics projects\n",
      "    there will be more than 500,000 new jobs in computer and information technology by 2026 as the emphasis on cloud\n",
      "    computing, the collection and storage of big data and information security increases. This summer, the Software.org\n",
      "    foundation sponsored a Girls Who Code summer immersion program in D.C., where high school girls from the area spent\n",
      "    seven weeks learning coding and web development. They even programmed a robot to dance. \"[The robot] could do one\n",
      "    verse of the Cha-Cha Slide ,\" said Grace McGuire, 16, of Bethesda, Md. Grace and her classmate, Sarah Ahmed, 16,\n",
      "    from Chantilly, Va., worked together to create an app called \"Teengage,\" allowing teens to find petitions, protests\n",
      "    and volunteer opportunities. Sarah said the program was a \"bonding experience.\" Both said they've had the feeling of\n",
      "    being outnumbered as girls in advanced math classes, and they saw themselves in other majors before taking the\n",
      "    immersion program. In fact, half of the girls in the class raised their hands when asked if they could see\n",
      "    themselves pursuing computer science as a major. \"It's crazy,\" Grace said. \"Now I know how to code. I'm good at it.\n",
      "    I feel confident.\"\n",
      "\n",
      "Official title:\n",
      "    'Typically, If You Think of a Coder, It's a White Male'\n",
      "\n",
      "Model title:\n",
      "    girls who code and sen\n"
     ]
    }
   ],
   "execution_count": 53
  },
  {
   "metadata": {
    "ExecuteTime": {
     "end_time": "2025-01-19T19:33:27.987805Z",
     "start_time": "2025-01-19T19:33:26.189812Z"
    }
   },
   "cell_type": "code",
   "source": "print_article_titles(2004)",
   "id": "23a9b3336d11d21c",
   "outputs": [
    {
     "name": "stdout",
     "output_type": "stream",
     "text": [
      "Article:\n",
      "    Annie Slattery's start-up ConX connects contractors in the construction industry online and enables them to find\n",
      "    work. Annie Slattery, an entrepreneur who is originally from Clontarf in north Dublin, has received a top award in\n",
      "    Australia for women in tech start-ups. Slattery was presented with the award at Hopper Down Under, which was held in\n",
      "    Australia for the first time last week. The event is part of the Grace Hopper Celebration , which is named after\n",
      "    computer scientist Grace Hopper and is the world's largest gathering of women in computing and tech. Slattery\n",
      "    received the award for her start-up ConX, which connects contractors in the construction industry online, with the\n",
      "    aim of changing how construction contractors can find and win work. Siliconrepublic.com spoke to ConX's former CIO ,\n",
      "    David Stenson, about the technology behind the start-up in September 2015. The award was part of a pitch\n",
      "    competition, which saw more than 100 women pitching ideas in Brisbane on 2 August for a share in more than $100,000\n",
      "    in business support services, and the potential for further venture capital funding to grow their global businesses.\n",
      "    The business services will be provided by companies such as IBM and Alibaba Cloud, with mentoring opportunities from\n",
      "    Main Sequence Ventures, manager of the Commonwealth Scientific and Industrial Research Organisation Innovation Fund.\n",
      "    Eleven entrants made it to the final, which was hosted by the Australian Government's lead agency for international\n",
      "    trade promotion and investment attraction, Austrade. Austrade's CEO, Dr Stephanie Fahey, said that the agency is\n",
      "    committed to driving higher representation of women in international business: \"Elevating women entrepreneurs and\n",
      "    innovators is critical to Australia's ability to compete in international markets, creating new opportunities for\n",
      "    industries and supporting high standards of living.\" Slattery said that following this award, she hopes to secure\n",
      "    funding to make ConX a success in other parts of the world. \"This prize represents a fantastic opportunity for ConX\n",
      "    to expand into global markets, with the United States top of our list in terms of the size of the market and the\n",
      "    potential for digitisation in the construction sector,\" she said. \"Keith Moore - my husband - and I settled in\n",
      "    Australia by chance some 10 years ago. I was originally working in corporate finance and Keith had his own carpet\n",
      "    business. We quickly identified an opening in the market for a 'tradies' recruitment site, dedicated to SME\n",
      "    contractors. Now we have expanded into specialist services across a range of areas including online tendering. \"The\n",
      "    market is now ripe for transformation and ConX is at the forefront, which was recognised by judges this week.\" The\n",
      "    start-up's core team consists entirely of Irish-born individuals. Apart from co-founders Slattery and Moore, the\n",
      "    team's CTO Jonathan Clarke hails from Kerry, while its digital marketing director Jonathan Slattery is also Irish.\n",
      "    The company employs 12 people from its head office in Sydney. ConX has now expanded its range of services to include\n",
      "    tender management and automated take-offs, targeted at SME building contractors in Australia, but the company is\n",
      "    also setting its sights on the US, with south-east Asia and China serving as follow-on markets. There are also a\n",
      "    number of Irish SME customers using the company's software.\n",
      "\n",
      "Official title:\n",
      "    Dubliner Wins Australia's Top Award for Women in Tech Start-Ups\n",
      "\n",
      "Model title:\n",
      "    Annie Slattery has received a top award in australia for women in tech start-ups\n"
     ]
    }
   ],
   "execution_count": 54
  },
  {
   "metadata": {
    "ExecuteTime": {
     "end_time": "2025-01-19T19:32:01.514013Z",
     "start_time": "2025-01-19T19:32:01.493994Z"
    }
   },
   "cell_type": "code",
   "source": "torch.cuda.empty_cache()",
   "id": "4a6703cc99cacc3",
   "outputs": [],
   "execution_count": 48
  },
  {
   "metadata": {
    "ExecuteTime": {
     "end_time": "2025-01-19T19:22:45.894958006Z",
     "start_time": "2025-01-19T19:14:54.582297Z"
    }
   },
   "cell_type": "code",
   "source": "",
   "id": "a67f9bdd55549451",
   "outputs": [],
   "execution_count": null
  }
 ],
 "metadata": {
  "kernelspec": {
   "display_name": "Python 3",
   "language": "python",
   "name": "python3"
  },
  "language_info": {
   "codemirror_mode": {
    "name": "ipython",
    "version": 2
   },
   "file_extension": ".py",
   "mimetype": "text/x-python",
   "name": "python",
   "nbconvert_exporter": "python",
   "pygments_lexer": "ipython2",
   "version": "2.7.6"
  }
 },
 "nbformat": 4,
 "nbformat_minor": 5
}
