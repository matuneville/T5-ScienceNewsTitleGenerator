{
 "cells": [
  {
   "metadata": {},
   "cell_type": "markdown",
   "source": "## Getting Data",
   "id": "fc221bf7ea6050bf"
  },
  {
   "cell_type": "code",
   "id": "initial_id",
   "metadata": {
    "collapsed": true,
    "ExecuteTime": {
     "end_time": "2025-01-17T20:09:07.964083Z",
     "start_time": "2025-01-17T20:09:07.501249Z"
    }
   },
   "source": [
    "import pandas as pd\n",
    "import random"
   ],
   "outputs": [],
   "execution_count": 1
  },
  {
   "metadata": {
    "ExecuteTime": {
     "end_time": "2025-01-17T20:09:08.808375Z",
     "start_time": "2025-01-17T20:09:07.986137Z"
    }
   },
   "cell_type": "code",
   "source": [
    "# Dataset source: https://huggingface.co/datasets/ronaldahmed/scitechnews\n",
    "df_train = pd.read_json('data/train.json', lines=True)\n",
    "df_train"
   ],
   "id": "8ec881a4dc6ad8c8",
   "outputs": [
    {
     "data": {
      "text/plain": [
       "          id                                           pr-title  \\\n",
       "0          0  New York City's Vaccine Passport Plan Renews O...   \n",
       "1          1  Facebook Disables Accounts Tied to NYU Researc...   \n",
       "2          2  Teenage Girls in Northern Nigeria 'Open Their ...   \n",
       "3          3  3D 'Heat Map' Animation Shows How Seizures Spr...   \n",
       "4          4  Endlessly Changing Playground Teaches AIs to M...   \n",
       "...      ...                                                ...   \n",
       "26633  29065  Young People Get Their Knowledge of Tech From ...   \n",
       "26634  29067  TUM Team ASIC Implements Post-Quantum Cryptogr...   \n",
       "26635  29070  3D Concrete Printing Robots Cut Rail Construct...   \n",
       "26636   6496  'Listening' Drone Helps Find Victims Needing R...   \n",
       "26637  29072  Kaseya Ransomware Attack Sets Off Race to Hack...   \n",
       "\n",
       "                                              pr-article  \\\n",
       "0      When New York City announced on Tuesday that i...   \n",
       "1      Facebook Inc. has disabled the personal accoun...   \n",
       "2      KANO, Nigeria, Aug 2 (Reuters) - Teenage girls...   \n",
       "3      For 29 years, from the time she was 12, Rashet...   \n",
       "4      What did they learn? Some of DeepMind's XLand ...   \n",
       "...                                                  ...   \n",
       "26633                                                      \n",
       "26634                                                      \n",
       "26635                                                      \n",
       "26636  As part of the ImPACT Tough Robotics Challenge...   \n",
       "26637                                                      \n",
       "\n",
       "                                              pr-summary sc-title sc-abstract  \\\n",
       "0      New York's City's mandate that people must sho...                        \n",
       "1      Facebook has disabled the personal accounts of...                        \n",
       "2      The Kabara non-governmental organization (NGO)...                        \n",
       "3      University of California, San Francisco (UCSF)...                        \n",
       "4      Alphabet's DeepMind Technologies has developed...                        \n",
       "...                                                  ...      ...         ...   \n",
       "26633  A survey of 1,000 16- to 21-year-olds in the U...                        \n",
       "26634  A team of researchers at Germany's Technical U...                        \n",
       "26635  Britain will employ robotic three-dimensionall...                        \n",
       "26636  Researchers in Japan say they have developed t...                        \n",
       "26637  Cybersecurity experts warn that July's ransomw...                        \n",
       "\n",
       "      sc-section_names sc-sections sc-article sc-authors  \n",
       "0                   []          []                    []  \n",
       "1                   []          []                    []  \n",
       "2                   []          []                    []  \n",
       "3                   []          []                    []  \n",
       "4                   []          []                    []  \n",
       "...                ...         ...        ...        ...  \n",
       "26633               []          []                    []  \n",
       "26634               []          []                    []  \n",
       "26635               []          []                    []  \n",
       "26636               []          []                    []  \n",
       "26637               []          []                    []  \n",
       "\n",
       "[26638 rows x 10 columns]"
      ],
      "text/html": [
       "<div>\n",
       "<style scoped>\n",
       "    .dataframe tbody tr th:only-of-type {\n",
       "        vertical-align: middle;\n",
       "    }\n",
       "\n",
       "    .dataframe tbody tr th {\n",
       "        vertical-align: top;\n",
       "    }\n",
       "\n",
       "    .dataframe thead th {\n",
       "        text-align: right;\n",
       "    }\n",
       "</style>\n",
       "<table border=\"1\" class=\"dataframe\">\n",
       "  <thead>\n",
       "    <tr style=\"text-align: right;\">\n",
       "      <th></th>\n",
       "      <th>id</th>\n",
       "      <th>pr-title</th>\n",
       "      <th>pr-article</th>\n",
       "      <th>pr-summary</th>\n",
       "      <th>sc-title</th>\n",
       "      <th>sc-abstract</th>\n",
       "      <th>sc-section_names</th>\n",
       "      <th>sc-sections</th>\n",
       "      <th>sc-article</th>\n",
       "      <th>sc-authors</th>\n",
       "    </tr>\n",
       "  </thead>\n",
       "  <tbody>\n",
       "    <tr>\n",
       "      <th>0</th>\n",
       "      <td>0</td>\n",
       "      <td>New York City's Vaccine Passport Plan Renews O...</td>\n",
       "      <td>When New York City announced on Tuesday that i...</td>\n",
       "      <td>New York's City's mandate that people must sho...</td>\n",
       "      <td></td>\n",
       "      <td></td>\n",
       "      <td>[]</td>\n",
       "      <td>[]</td>\n",
       "      <td></td>\n",
       "      <td>[]</td>\n",
       "    </tr>\n",
       "    <tr>\n",
       "      <th>1</th>\n",
       "      <td>1</td>\n",
       "      <td>Facebook Disables Accounts Tied to NYU Researc...</td>\n",
       "      <td>Facebook Inc. has disabled the personal accoun...</td>\n",
       "      <td>Facebook has disabled the personal accounts of...</td>\n",
       "      <td></td>\n",
       "      <td></td>\n",
       "      <td>[]</td>\n",
       "      <td>[]</td>\n",
       "      <td></td>\n",
       "      <td>[]</td>\n",
       "    </tr>\n",
       "    <tr>\n",
       "      <th>2</th>\n",
       "      <td>2</td>\n",
       "      <td>Teenage Girls in Northern Nigeria 'Open Their ...</td>\n",
       "      <td>KANO, Nigeria, Aug 2 (Reuters) - Teenage girls...</td>\n",
       "      <td>The Kabara non-governmental organization (NGO)...</td>\n",
       "      <td></td>\n",
       "      <td></td>\n",
       "      <td>[]</td>\n",
       "      <td>[]</td>\n",
       "      <td></td>\n",
       "      <td>[]</td>\n",
       "    </tr>\n",
       "    <tr>\n",
       "      <th>3</th>\n",
       "      <td>3</td>\n",
       "      <td>3D 'Heat Map' Animation Shows How Seizures Spr...</td>\n",
       "      <td>For 29 years, from the time she was 12, Rashet...</td>\n",
       "      <td>University of California, San Francisco (UCSF)...</td>\n",
       "      <td></td>\n",
       "      <td></td>\n",
       "      <td>[]</td>\n",
       "      <td>[]</td>\n",
       "      <td></td>\n",
       "      <td>[]</td>\n",
       "    </tr>\n",
       "    <tr>\n",
       "      <th>4</th>\n",
       "      <td>4</td>\n",
       "      <td>Endlessly Changing Playground Teaches AIs to M...</td>\n",
       "      <td>What did they learn? Some of DeepMind's XLand ...</td>\n",
       "      <td>Alphabet's DeepMind Technologies has developed...</td>\n",
       "      <td></td>\n",
       "      <td></td>\n",
       "      <td>[]</td>\n",
       "      <td>[]</td>\n",
       "      <td></td>\n",
       "      <td>[]</td>\n",
       "    </tr>\n",
       "    <tr>\n",
       "      <th>...</th>\n",
       "      <td>...</td>\n",
       "      <td>...</td>\n",
       "      <td>...</td>\n",
       "      <td>...</td>\n",
       "      <td>...</td>\n",
       "      <td>...</td>\n",
       "      <td>...</td>\n",
       "      <td>...</td>\n",
       "      <td>...</td>\n",
       "      <td>...</td>\n",
       "    </tr>\n",
       "    <tr>\n",
       "      <th>26633</th>\n",
       "      <td>29065</td>\n",
       "      <td>Young People Get Their Knowledge of Tech From ...</td>\n",
       "      <td></td>\n",
       "      <td>A survey of 1,000 16- to 21-year-olds in the U...</td>\n",
       "      <td></td>\n",
       "      <td></td>\n",
       "      <td>[]</td>\n",
       "      <td>[]</td>\n",
       "      <td></td>\n",
       "      <td>[]</td>\n",
       "    </tr>\n",
       "    <tr>\n",
       "      <th>26634</th>\n",
       "      <td>29067</td>\n",
       "      <td>TUM Team ASIC Implements Post-Quantum Cryptogr...</td>\n",
       "      <td></td>\n",
       "      <td>A team of researchers at Germany's Technical U...</td>\n",
       "      <td></td>\n",
       "      <td></td>\n",
       "      <td>[]</td>\n",
       "      <td>[]</td>\n",
       "      <td></td>\n",
       "      <td>[]</td>\n",
       "    </tr>\n",
       "    <tr>\n",
       "      <th>26635</th>\n",
       "      <td>29070</td>\n",
       "      <td>3D Concrete Printing Robots Cut Rail Construct...</td>\n",
       "      <td></td>\n",
       "      <td>Britain will employ robotic three-dimensionall...</td>\n",
       "      <td></td>\n",
       "      <td></td>\n",
       "      <td>[]</td>\n",
       "      <td>[]</td>\n",
       "      <td></td>\n",
       "      <td>[]</td>\n",
       "    </tr>\n",
       "    <tr>\n",
       "      <th>26636</th>\n",
       "      <td>6496</td>\n",
       "      <td>'Listening' Drone Helps Find Victims Needing R...</td>\n",
       "      <td>As part of the ImPACT Tough Robotics Challenge...</td>\n",
       "      <td>Researchers in Japan say they have developed t...</td>\n",
       "      <td></td>\n",
       "      <td></td>\n",
       "      <td>[]</td>\n",
       "      <td>[]</td>\n",
       "      <td></td>\n",
       "      <td>[]</td>\n",
       "    </tr>\n",
       "    <tr>\n",
       "      <th>26637</th>\n",
       "      <td>29072</td>\n",
       "      <td>Kaseya Ransomware Attack Sets Off Race to Hack...</td>\n",
       "      <td></td>\n",
       "      <td>Cybersecurity experts warn that July's ransomw...</td>\n",
       "      <td></td>\n",
       "      <td></td>\n",
       "      <td>[]</td>\n",
       "      <td>[]</td>\n",
       "      <td></td>\n",
       "      <td>[]</td>\n",
       "    </tr>\n",
       "  </tbody>\n",
       "</table>\n",
       "<p>26638 rows × 10 columns</p>\n",
       "</div>"
      ]
     },
     "execution_count": 2,
     "metadata": {},
     "output_type": "execute_result"
    }
   ],
   "execution_count": 2
  },
  {
   "metadata": {
    "ExecuteTime": {
     "end_time": "2025-01-17T20:09:09.012531Z",
     "start_time": "2025-01-17T20:09:09.003450Z"
    }
   },
   "cell_type": "code",
   "source": [
    "df_train = df_train[['pr-title', 'pr-article']]\n",
    "df_train"
   ],
   "id": "f0cc4555a283f467",
   "outputs": [
    {
     "data": {
      "text/plain": [
       "                                                pr-title  \\\n",
       "0      New York City's Vaccine Passport Plan Renews O...   \n",
       "1      Facebook Disables Accounts Tied to NYU Researc...   \n",
       "2      Teenage Girls in Northern Nigeria 'Open Their ...   \n",
       "3      3D 'Heat Map' Animation Shows How Seizures Spr...   \n",
       "4      Endlessly Changing Playground Teaches AIs to M...   \n",
       "...                                                  ...   \n",
       "26633  Young People Get Their Knowledge of Tech From ...   \n",
       "26634  TUM Team ASIC Implements Post-Quantum Cryptogr...   \n",
       "26635  3D Concrete Printing Robots Cut Rail Construct...   \n",
       "26636  'Listening' Drone Helps Find Victims Needing R...   \n",
       "26637  Kaseya Ransomware Attack Sets Off Race to Hack...   \n",
       "\n",
       "                                              pr-article  \n",
       "0      When New York City announced on Tuesday that i...  \n",
       "1      Facebook Inc. has disabled the personal accoun...  \n",
       "2      KANO, Nigeria, Aug 2 (Reuters) - Teenage girls...  \n",
       "3      For 29 years, from the time she was 12, Rashet...  \n",
       "4      What did they learn? Some of DeepMind's XLand ...  \n",
       "...                                                  ...  \n",
       "26633                                                     \n",
       "26634                                                     \n",
       "26635                                                     \n",
       "26636  As part of the ImPACT Tough Robotics Challenge...  \n",
       "26637                                                     \n",
       "\n",
       "[26638 rows x 2 columns]"
      ],
      "text/html": [
       "<div>\n",
       "<style scoped>\n",
       "    .dataframe tbody tr th:only-of-type {\n",
       "        vertical-align: middle;\n",
       "    }\n",
       "\n",
       "    .dataframe tbody tr th {\n",
       "        vertical-align: top;\n",
       "    }\n",
       "\n",
       "    .dataframe thead th {\n",
       "        text-align: right;\n",
       "    }\n",
       "</style>\n",
       "<table border=\"1\" class=\"dataframe\">\n",
       "  <thead>\n",
       "    <tr style=\"text-align: right;\">\n",
       "      <th></th>\n",
       "      <th>pr-title</th>\n",
       "      <th>pr-article</th>\n",
       "    </tr>\n",
       "  </thead>\n",
       "  <tbody>\n",
       "    <tr>\n",
       "      <th>0</th>\n",
       "      <td>New York City's Vaccine Passport Plan Renews O...</td>\n",
       "      <td>When New York City announced on Tuesday that i...</td>\n",
       "    </tr>\n",
       "    <tr>\n",
       "      <th>1</th>\n",
       "      <td>Facebook Disables Accounts Tied to NYU Researc...</td>\n",
       "      <td>Facebook Inc. has disabled the personal accoun...</td>\n",
       "    </tr>\n",
       "    <tr>\n",
       "      <th>2</th>\n",
       "      <td>Teenage Girls in Northern Nigeria 'Open Their ...</td>\n",
       "      <td>KANO, Nigeria, Aug 2 (Reuters) - Teenage girls...</td>\n",
       "    </tr>\n",
       "    <tr>\n",
       "      <th>3</th>\n",
       "      <td>3D 'Heat Map' Animation Shows How Seizures Spr...</td>\n",
       "      <td>For 29 years, from the time she was 12, Rashet...</td>\n",
       "    </tr>\n",
       "    <tr>\n",
       "      <th>4</th>\n",
       "      <td>Endlessly Changing Playground Teaches AIs to M...</td>\n",
       "      <td>What did they learn? Some of DeepMind's XLand ...</td>\n",
       "    </tr>\n",
       "    <tr>\n",
       "      <th>...</th>\n",
       "      <td>...</td>\n",
       "      <td>...</td>\n",
       "    </tr>\n",
       "    <tr>\n",
       "      <th>26633</th>\n",
       "      <td>Young People Get Their Knowledge of Tech From ...</td>\n",
       "      <td></td>\n",
       "    </tr>\n",
       "    <tr>\n",
       "      <th>26634</th>\n",
       "      <td>TUM Team ASIC Implements Post-Quantum Cryptogr...</td>\n",
       "      <td></td>\n",
       "    </tr>\n",
       "    <tr>\n",
       "      <th>26635</th>\n",
       "      <td>3D Concrete Printing Robots Cut Rail Construct...</td>\n",
       "      <td></td>\n",
       "    </tr>\n",
       "    <tr>\n",
       "      <th>26636</th>\n",
       "      <td>'Listening' Drone Helps Find Victims Needing R...</td>\n",
       "      <td>As part of the ImPACT Tough Robotics Challenge...</td>\n",
       "    </tr>\n",
       "    <tr>\n",
       "      <th>26637</th>\n",
       "      <td>Kaseya Ransomware Attack Sets Off Race to Hack...</td>\n",
       "      <td></td>\n",
       "    </tr>\n",
       "  </tbody>\n",
       "</table>\n",
       "<p>26638 rows × 2 columns</p>\n",
       "</div>"
      ]
     },
     "execution_count": 3,
     "metadata": {},
     "output_type": "execute_result"
    }
   ],
   "execution_count": 3
  },
  {
   "metadata": {
    "ExecuteTime": {
     "end_time": "2025-01-17T20:09:09.242174Z",
     "start_time": "2025-01-17T20:09:09.143539Z"
    }
   },
   "cell_type": "code",
   "source": "df_train.info()",
   "id": "cf7c0b9d942124b4",
   "outputs": [
    {
     "name": "stdout",
     "output_type": "stream",
     "text": [
      "<class 'pandas.core.frame.DataFrame'>\n",
      "RangeIndex: 26638 entries, 0 to 26637\n",
      "Data columns (total 2 columns):\n",
      " #   Column      Non-Null Count  Dtype \n",
      "---  ------      --------------  ----- \n",
      " 0   pr-title    26638 non-null  object\n",
      " 1   pr-article  26638 non-null  object\n",
      "dtypes: object(2)\n",
      "memory usage: 416.3+ KB\n"
     ]
    }
   ],
   "execution_count": 4
  },
  {
   "metadata": {
    "ExecuteTime": {
     "end_time": "2025-01-17T20:09:09.521900Z",
     "start_time": "2025-01-17T20:09:09.511017Z"
    }
   },
   "cell_type": "code",
   "source": [
    "df_train = df_train[df_train['pr-article'] != '']\n",
    "print('Train dataframe size without blanks: ', len(df_train))"
   ],
   "id": "7250fd432b47632c",
   "outputs": [
    {
     "name": "stdout",
     "output_type": "stream",
     "text": [
      "Train dataframe size without blanks:  12735\n"
     ]
    }
   ],
   "execution_count": 5
  },
  {
   "metadata": {
    "ExecuteTime": {
     "end_time": "2025-01-17T20:09:10.047673Z",
     "start_time": "2025-01-17T20:09:10.042933Z"
    }
   },
   "cell_type": "code",
   "source": [
    "random_idx = random.randint(0, len(df_train))\n",
    "row = df_train.iloc[random_idx]\n",
    "print('News example: ', random_idx)\n",
    "print('Title:    \\n', row['pr-title'])\n",
    "print('Article:  \\n', row['pr-article'])"
   ],
   "id": "6c60383bcbdf922f",
   "outputs": [
    {
     "name": "stdout",
     "output_type": "stream",
     "text": [
      "News example:  11203\n",
      "Title:    \n",
      " RIT Scientists Use Supercomputers to 'See' Black Holes\n",
      "Article:  \n",
      " RIT joined the William Warfield Scholarship Fund, The Eastman School of Music of the University of Rochester, and the City of Rochester in a collective celebration earlier this week honoring iconic performer and trailblazer William Warfield with a bronze sculpture.\n"
     ]
    }
   ],
   "execution_count": 6
  },
  {
   "metadata": {
    "ExecuteTime": {
     "end_time": "2025-01-17T20:09:12.111928Z",
     "start_time": "2025-01-17T20:09:10.640074Z"
    }
   },
   "cell_type": "code",
   "source": [
    "df_valid = pd.read_json('data/valid.json', lines=True)\n",
    "df_valid = df_valid[['pr-title', 'pr-article']]\n",
    "\n",
    "df_test = pd.read_json('data/test.json', lines=True)\n",
    "df_test = df_test[['pr-title', 'pr-article']]\n",
    "\n",
    "print('Valid dataframe size: ', len(df_valid))\n",
    "print('Test dataframe size:  ', len(df_test))"
   ],
   "id": "46ec09c086791090",
   "outputs": [
    {
     "name": "stdout",
     "output_type": "stream",
     "text": [
      "Valid dataframe size:  1431\n",
      "Test dataframe size:   1000\n"
     ]
    }
   ],
   "execution_count": 7
  },
  {
   "metadata": {
    "ExecuteTime": {
     "end_time": "2025-01-17T20:09:12.127193Z",
     "start_time": "2025-01-17T20:09:12.120803Z"
    }
   },
   "cell_type": "code",
   "source": [
    "df_valid = df_valid[df_valid['pr-article'] != '']\n",
    "df_valid = df_valid[df_valid['pr-title'] != '']\n",
    "print('Valid dataframe size without blanks: ', len(df_valid))\n",
    "print('Test dataframe size without blanks:  ', len(df_test))"
   ],
   "id": "dc74b09dac19f369",
   "outputs": [
    {
     "name": "stdout",
     "output_type": "stream",
     "text": [
      "Valid dataframe size without blanks:  1405\n",
      "Test dataframe size without blanks:   1000\n"
     ]
    }
   ],
   "execution_count": 8
  },
  {
   "metadata": {
    "ExecuteTime": {
     "end_time": "2025-01-17T20:09:12.724024Z",
     "start_time": "2025-01-17T20:09:12.232302Z"
    }
   },
   "cell_type": "code",
   "source": "import matplotlib.pyplot as plt",
   "id": "41520539a4a08e56",
   "outputs": [],
   "execution_count": 9
  },
  {
   "metadata": {
    "ExecuteTime": {
     "end_time": "2025-01-17T20:09:13.528057Z",
     "start_time": "2025-01-17T20:09:12.742703Z"
    }
   },
   "cell_type": "code",
   "source": [
    "article_lengths = df_train['pr-article'].str.len()\n",
    "\n",
    "plt.hist(article_lengths, bins=500)\n",
    "plt.xlim(0, 1024)"
   ],
   "id": "22f6642e855b0e05",
   "outputs": [
    {
     "data": {
      "text/plain": [
       "(0.0, 1024.0)"
      ]
     },
     "execution_count": 10,
     "metadata": {},
     "output_type": "execute_result"
    },
    {
     "data": {
      "text/plain": [
       "<Figure size 640x480 with 1 Axes>"
      ],
      "image/png": "[encoded data removed]"
     },
     "metadata": {},
     "output_type": "display_data"
    }
   ],
   "execution_count": 10
  },
  {
   "metadata": {},
   "cell_type": "markdown",
   "source": "## Tokenizing and preprocessing data",
   "id": "a0f03704c1747e37"
  },
  {
   "metadata": {
    "ExecuteTime": {
     "end_time": "2025-01-17T20:09:26.760079Z",
     "start_time": "2025-01-17T20:09:22.337985Z"
    }
   },
   "cell_type": "code",
   "source": [
    "from transformers import T5Tokenizer, T5ForConditionalGeneration, Trainer, Seq2SeqTrainingArguments\n",
    "from datasets import Dataset\n",
    "import evaluate\n",
    "\n",
    "# Prepare the data\n",
    "def preprocess_data(df):\n",
    "    return Dataset.from_pandas(df.rename(columns={\"pr-article\": \"input_text\", \"pr-title\": \"target_text\"}))\n",
    "\n",
    "train_data = preprocess_data(df_train)\n",
    "valid_data = preprocess_data(df_valid)"
   ],
   "id": "91e96af2fe139406",
   "outputs": [],
   "execution_count": 11
  },
  {
   "metadata": {
    "ExecuteTime": {
     "end_time": "2025-01-17T20:11:23.926651Z",
     "start_time": "2025-01-17T20:09:28.461741Z"
    }
   },
   "cell_type": "code",
   "source": [
    "# Tokenizer and model (requieres sentencepiece)\n",
    "tokenizer = T5Tokenizer.from_pretrained(\"t5-small\")\n",
    "model = T5ForConditionalGeneration.from_pretrained(\"t5-small\")\n",
    "\n",
    "def tokenize_data(example):\n",
    "    input_encoding = tokenizer(\n",
    "        example[\"input_text\"], truncation=True, padding=\"max_length\", max_length=512 # truncate articles to 512 tokens\n",
    "    )\n",
    "    target_encoding = tokenizer(\n",
    "        example[\"target_text\"], truncation=True, padding=\"max_length\", max_length=64 # truncate titles to 64 tokens\n",
    "    )\n",
    "    return {\n",
    "        \"input_ids\": input_encoding[\"input_ids\"],\n",
    "        \"attention_mask\": input_encoding[\"attention_mask\"],\n",
    "        \"labels\": target_encoding[\"input_ids\"],\n",
    "    }\n",
    "\n",
    "train_data = train_data.map(tokenize_data, batched=True)\n",
    "valid_data = valid_data.map(tokenize_data, batched=True)"
   ],
   "id": "28ebba1572ff5072",
   "outputs": [
    {
     "data": {
      "text/plain": [
       "tokenizer_config.json:   0%|          | 0.00/2.32k [00:00<?, ?B/s]"
      ],
      "application/vnd.jupyter.widget-view+json": {
       "version_major": 2,
       "version_minor": 0,
       "model_id": "ed5a8fddf8eb4c44abdf96f140775993"
      }
     },
     "metadata": {},
     "output_type": "display_data"
    },
    {
     "data": {
      "text/plain": [
       "spiece.model:   0%|          | 0.00/792k [00:00<?, ?B/s]"
      ],
      "application/vnd.jupyter.widget-view+json": {
       "version_major": 2,
       "version_minor": 0,
       "model_id": "8dfad96400f2435bb6d85324729a22af"
      }
     },
     "metadata": {},
     "output_type": "display_data"
    },
    {
     "data": {
      "text/plain": [
       "tokenizer.json:   0%|          | 0.00/1.39M [00:00<?, ?B/s]"
      ],
      "application/vnd.jupyter.widget-view+json": {
       "version_major": 2,
       "version_minor": 0,
       "model_id": "c94680f2d10f479c9fd1d33a23e55f22"
      }
     },
     "metadata": {},
     "output_type": "display_data"
    },
    {
     "name": "stderr",
     "output_type": "stream",
     "text": [
      "You are using the default legacy behaviour of the <class 'transformers.models.t5.tokenization_t5.T5Tokenizer'>. This is expected, and simply means that the `legacy` (previous) behavior will be used so nothing changes for you. If you want to use the new behaviour, set `legacy=False`. This should only be set if you understand what it means, and thoroughly read the reason why this was added as explained in https://github.com/huggingface/transformers/pull/24565\n"
     ]
    },
    {
     "data": {
      "text/plain": [
       "config.json:   0%|          | 0.00/1.21k [00:00<?, ?B/s]"
      ],
      "application/vnd.jupyter.widget-view+json": {
       "version_major": 2,
       "version_minor": 0,
       "model_id": "e3783cfd57e8482d9b084329e4c0c764"
      }
     },
     "metadata": {},
     "output_type": "display_data"
    },
    {
     "data": {
      "text/plain": [
       "model.safetensors:   0%|          | 0.00/242M [00:00<?, ?B/s]"
      ],
      "application/vnd.jupyter.widget-view+json": {
       "version_major": 2,
       "version_minor": 0,
       "model_id": "b43ccfaefa2848a88778754c45f7ada5"
      }
     },
     "metadata": {},
     "output_type": "display_data"
    },
    {
     "data": {
      "text/plain": [
       "generation_config.json:   0%|          | 0.00/147 [00:00<?, ?B/s]"
      ],
      "application/vnd.jupyter.widget-view+json": {
       "version_major": 2,
       "version_minor": 0,
       "model_id": "366d9a5161a546f4aac3b6d61dfbddca"
      }
     },
     "metadata": {},
     "output_type": "display_data"
    },
    {
     "data": {
      "text/plain": [
       "Map:   0%|          | 0/12735 [00:00<?, ? examples/s]"
      ],
      "application/vnd.jupyter.widget-view+json": {
       "version_major": 2,
       "version_minor": 0,
       "model_id": "bf2e7888665947268c3715c6150e703d"
      }
     },
     "metadata": {},
     "output_type": "display_data"
    },
    {
     "data": {
      "text/plain": [
       "Map:   0%|          | 0/1405 [00:00<?, ? examples/s]"
      ],
      "application/vnd.jupyter.widget-view+json": {
       "version_major": 2,
       "version_minor": 0,
       "model_id": "c23e106e38bc4ed3a51a495a3fff6c89"
      }
     },
     "metadata": {},
     "output_type": "display_data"
    }
   ],
   "execution_count": 12
  },
  {
   "metadata": {},
   "cell_type": "markdown",
   "source": [
    "## Selecting metric for out task\n",
    "\n",
    "Generating titles from article content is a text2text generation task, where input text (the article) produces output text (the title). Similar tasks include machine translation, evaluated with BLEU for word precision, and text summarization, evaluated with **ROUGE** for word recall. Title generation is closely related to summarization, as titles should convey the article's essence while sparking curiosity. Therefore, the ROUGE score is used to evaluate title generation models."
   ],
   "id": "8488ffd00b4669f5"
  }
 ],
 "metadata": {
  "kernelspec": {
   "display_name": "Python 3",
   "language": "python",
   "name": "python3"
  },
  "language_info": {
   "codemirror_mode": {
    "name": "ipython",
    "version": 2
   },
   "file_extension": ".py",
   "mimetype": "text/x-python",
   "name": "python",
   "nbconvert_exporter": "python",
   "pygments_lexer": "ipython2",
   "version": "2.7.6"
  }
 },
 "nbformat": 4,
 "nbformat_minor": 5
}
