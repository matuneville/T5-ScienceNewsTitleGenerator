{
 "cells": [
  {
   "metadata": {},
   "cell_type": "markdown",
   "source": "## Loading and cleaning data",
   "id": "fc221bf7ea6050bf"
  },
  {
   "cell_type": "code",
   "id": "initial_id",
   "metadata": {
    "collapsed": true,
    "ExecuteTime": {
     "end_time": "2025-01-21T15:57:29.127466Z",
     "start_time": "2025-01-21T15:57:28.680920Z"
    }
   },
   "source": [
    "import pandas as pd\n",
    "import random"
   ],
   "outputs": [],
   "execution_count": 1
  },
  {
   "metadata": {
    "ExecuteTime": {
     "end_time": "2025-01-21T15:57:29.799534Z",
     "start_time": "2025-01-21T15:57:29.136674Z"
    }
   },
   "cell_type": "code",
   "source": [
    "# Dataset source: https://huggingface.co/datasets/ronaldahmed/scitechnews\n",
    "df_train = pd.read_json('data/train.json', lines=True)\n",
    "df_train.head()"
   ],
   "id": "8ec881a4dc6ad8c8",
   "outputs": [
    {
     "data": {
      "text/plain": [
       "   id                                           pr-title  \\\n",
       "0   0  New York City's Vaccine Passport Plan Renews O...   \n",
       "1   1  Facebook Disables Accounts Tied to NYU Researc...   \n",
       "2   2  Teenage Girls in Northern Nigeria 'Open Their ...   \n",
       "3   3  3D 'Heat Map' Animation Shows How Seizures Spr...   \n",
       "4   4  Endlessly Changing Playground Teaches AIs to M...   \n",
       "\n",
       "                                          pr-article  \\\n",
       "0  When New York City announced on Tuesday that i...   \n",
       "1  Facebook Inc. has disabled the personal accoun...   \n",
       "2  KANO, Nigeria, Aug 2 (Reuters) - Teenage girls...   \n",
       "3  For 29 years, from the time she was 12, Rashet...   \n",
       "4  What did they learn? Some of DeepMind's XLand ...   \n",
       "\n",
       "                                          pr-summary sc-title sc-abstract  \\\n",
       "0  New York's City's mandate that people must sho...                        \n",
       "1  Facebook has disabled the personal accounts of...                        \n",
       "2  The Kabara non-governmental organization (NGO)...                        \n",
       "3  University of California, San Francisco (UCSF)...                        \n",
       "4  Alphabet's DeepMind Technologies has developed...                        \n",
       "\n",
       "  sc-section_names sc-sections sc-article sc-authors  \n",
       "0               []          []                    []  \n",
       "1               []          []                    []  \n",
       "2               []          []                    []  \n",
       "3               []          []                    []  \n",
       "4               []          []                    []  "
      ],
      "text/html": [
       "<div>\n",
       "<style scoped>\n",
       "    .dataframe tbody tr th:only-of-type {\n",
       "        vertical-align: middle;\n",
       "    }\n",
       "\n",
       "    .dataframe tbody tr th {\n",
       "        vertical-align: top;\n",
       "    }\n",
       "\n",
       "    .dataframe thead th {\n",
       "        text-align: right;\n",
       "    }\n",
       "</style>\n",
       "<table border=\"1\" class=\"dataframe\">\n",
       "  <thead>\n",
       "    <tr style=\"text-align: right;\">\n",
       "      <th></th>\n",
       "      <th>id</th>\n",
       "      <th>pr-title</th>\n",
       "      <th>pr-article</th>\n",
       "      <th>pr-summary</th>\n",
       "      <th>sc-title</th>\n",
       "      <th>sc-abstract</th>\n",
       "      <th>sc-section_names</th>\n",
       "      <th>sc-sections</th>\n",
       "      <th>sc-article</th>\n",
       "      <th>sc-authors</th>\n",
       "    </tr>\n",
       "  </thead>\n",
       "  <tbody>\n",
       "    <tr>\n",
       "      <th>0</th>\n",
       "      <td>0</td>\n",
       "      <td>New York City's Vaccine Passport Plan Renews O...</td>\n",
       "      <td>When New York City announced on Tuesday that i...</td>\n",
       "      <td>New York's City's mandate that people must sho...</td>\n",
       "      <td></td>\n",
       "      <td></td>\n",
       "      <td>[]</td>\n",
       "      <td>[]</td>\n",
       "      <td></td>\n",
       "      <td>[]</td>\n",
       "    </tr>\n",
       "    <tr>\n",
       "      <th>1</th>\n",
       "      <td>1</td>\n",
       "      <td>Facebook Disables Accounts Tied to NYU Researc...</td>\n",
       "      <td>Facebook Inc. has disabled the personal accoun...</td>\n",
       "      <td>Facebook has disabled the personal accounts of...</td>\n",
       "      <td></td>\n",
       "      <td></td>\n",
       "      <td>[]</td>\n",
       "      <td>[]</td>\n",
       "      <td></td>\n",
       "      <td>[]</td>\n",
       "    </tr>\n",
       "    <tr>\n",
       "      <th>2</th>\n",
       "      <td>2</td>\n",
       "      <td>Teenage Girls in Northern Nigeria 'Open Their ...</td>\n",
       "      <td>KANO, Nigeria, Aug 2 (Reuters) - Teenage girls...</td>\n",
       "      <td>The Kabara non-governmental organization (NGO)...</td>\n",
       "      <td></td>\n",
       "      <td></td>\n",
       "      <td>[]</td>\n",
       "      <td>[]</td>\n",
       "      <td></td>\n",
       "      <td>[]</td>\n",
       "    </tr>\n",
       "    <tr>\n",
       "      <th>3</th>\n",
       "      <td>3</td>\n",
       "      <td>3D 'Heat Map' Animation Shows How Seizures Spr...</td>\n",
       "      <td>For 29 years, from the time she was 12, Rashet...</td>\n",
       "      <td>University of California, San Francisco (UCSF)...</td>\n",
       "      <td></td>\n",
       "      <td></td>\n",
       "      <td>[]</td>\n",
       "      <td>[]</td>\n",
       "      <td></td>\n",
       "      <td>[]</td>\n",
       "    </tr>\n",
       "    <tr>\n",
       "      <th>4</th>\n",
       "      <td>4</td>\n",
       "      <td>Endlessly Changing Playground Teaches AIs to M...</td>\n",
       "      <td>What did they learn? Some of DeepMind's XLand ...</td>\n",
       "      <td>Alphabet's DeepMind Technologies has developed...</td>\n",
       "      <td></td>\n",
       "      <td></td>\n",
       "      <td>[]</td>\n",
       "      <td>[]</td>\n",
       "      <td></td>\n",
       "      <td>[]</td>\n",
       "    </tr>\n",
       "  </tbody>\n",
       "</table>\n",
       "</div>"
      ]
     },
     "execution_count": 2,
     "metadata": {},
     "output_type": "execute_result"
    }
   ],
   "execution_count": 2
  },
  {
   "metadata": {},
   "cell_type": "markdown",
   "source": "Now keep only pertinent columns:",
   "id": "fd18419a66cb31"
  },
  {
   "metadata": {
    "ExecuteTime": {
     "end_time": "2025-01-21T15:57:29.977787Z",
     "start_time": "2025-01-21T15:57:29.964792Z"
    }
   },
   "cell_type": "code",
   "source": [
    "df_train = df_train[['pr-title', 'pr-article']]\n",
    "\n",
    "df_train['pr-article'] = df_train['pr-article'].astype('string')\n",
    "df_train['pr-title'] = df_train['pr-title'].astype('string')\n",
    "\n",
    "df_train.head()"
   ],
   "id": "f0cc4555a283f467",
   "outputs": [
    {
     "data": {
      "text/plain": [
       "                                            pr-title  \\\n",
       "0  New York City's Vaccine Passport Plan Renews O...   \n",
       "1  Facebook Disables Accounts Tied to NYU Researc...   \n",
       "2  Teenage Girls in Northern Nigeria 'Open Their ...   \n",
       "3  3D 'Heat Map' Animation Shows How Seizures Spr...   \n",
       "4  Endlessly Changing Playground Teaches AIs to M...   \n",
       "\n",
       "                                          pr-article  \n",
       "0  When New York City announced on Tuesday that i...  \n",
       "1  Facebook Inc. has disabled the personal accoun...  \n",
       "2  KANO, Nigeria, Aug 2 (Reuters) - Teenage girls...  \n",
       "3  For 29 years, from the time she was 12, Rashet...  \n",
       "4  What did they learn? Some of DeepMind's XLand ...  "
      ],
      "text/html": [
       "<div>\n",
       "<style scoped>\n",
       "    .dataframe tbody tr th:only-of-type {\n",
       "        vertical-align: middle;\n",
       "    }\n",
       "\n",
       "    .dataframe tbody tr th {\n",
       "        vertical-align: top;\n",
       "    }\n",
       "\n",
       "    .dataframe thead th {\n",
       "        text-align: right;\n",
       "    }\n",
       "</style>\n",
       "<table border=\"1\" class=\"dataframe\">\n",
       "  <thead>\n",
       "    <tr style=\"text-align: right;\">\n",
       "      <th></th>\n",
       "      <th>pr-title</th>\n",
       "      <th>pr-article</th>\n",
       "    </tr>\n",
       "  </thead>\n",
       "  <tbody>\n",
       "    <tr>\n",
       "      <th>0</th>\n",
       "      <td>New York City's Vaccine Passport Plan Renews O...</td>\n",
       "      <td>When New York City announced on Tuesday that i...</td>\n",
       "    </tr>\n",
       "    <tr>\n",
       "      <th>1</th>\n",
       "      <td>Facebook Disables Accounts Tied to NYU Researc...</td>\n",
       "      <td>Facebook Inc. has disabled the personal accoun...</td>\n",
       "    </tr>\n",
       "    <tr>\n",
       "      <th>2</th>\n",
       "      <td>Teenage Girls in Northern Nigeria 'Open Their ...</td>\n",
       "      <td>KANO, Nigeria, Aug 2 (Reuters) - Teenage girls...</td>\n",
       "    </tr>\n",
       "    <tr>\n",
       "      <th>3</th>\n",
       "      <td>3D 'Heat Map' Animation Shows How Seizures Spr...</td>\n",
       "      <td>For 29 years, from the time she was 12, Rashet...</td>\n",
       "    </tr>\n",
       "    <tr>\n",
       "      <th>4</th>\n",
       "      <td>Endlessly Changing Playground Teaches AIs to M...</td>\n",
       "      <td>What did they learn? Some of DeepMind's XLand ...</td>\n",
       "    </tr>\n",
       "  </tbody>\n",
       "</table>\n",
       "</div>"
      ]
     },
     "execution_count": 3,
     "metadata": {},
     "output_type": "execute_result"
    }
   ],
   "execution_count": 3
  },
  {
   "metadata": {
    "ExecuteTime": {
     "end_time": "2025-01-21T15:57:30.094631Z",
     "start_time": "2025-01-21T15:57:30.051554Z"
    }
   },
   "cell_type": "code",
   "source": "df_train.info()",
   "id": "cf7c0b9d942124b4",
   "outputs": [
    {
     "name": "stdout",
     "output_type": "stream",
     "text": [
      "<class 'pandas.core.frame.DataFrame'>\n",
      "RangeIndex: 26638 entries, 0 to 26637\n",
      "Data columns (total 2 columns):\n",
      " #   Column      Non-Null Count  Dtype \n",
      "---  ------      --------------  ----- \n",
      " 0   pr-title    26638 non-null  string\n",
      " 1   pr-article  26638 non-null  string\n",
      "dtypes: string(2)\n",
      "memory usage: 416.3 KB\n"
     ]
    }
   ],
   "execution_count": 4
  },
  {
   "metadata": {},
   "cell_type": "markdown",
   "source": [
    "The dataset has empty article rows, which are not important for our task.\n",
    "\n",
    "Remove empty articles (articles where title is all the info., so they don't need a new title)"
   ],
   "id": "97ecde408eaef660"
  },
  {
   "metadata": {
    "ExecuteTime": {
     "end_time": "2025-01-21T15:57:30.289402Z",
     "start_time": "2025-01-21T15:57:30.276106Z"
    }
   },
   "cell_type": "code",
   "source": [
    "df_train = df_train[df_train['pr-article'] != '']\n",
    "print('Train dataframe size without blanks: ', len(df_train))"
   ],
   "id": "7250fd432b47632c",
   "outputs": [
    {
     "name": "stdout",
     "output_type": "stream",
     "text": [
      "Train dataframe size without blanks:  12735\n"
     ]
    }
   ],
   "execution_count": 5
  },
  {
   "metadata": {},
   "cell_type": "markdown",
   "source": "Print a random article and title:",
   "id": "c12192393ff2e987"
  },
  {
   "metadata": {
    "ExecuteTime": {
     "end_time": "2025-01-21T15:57:30.504494Z",
     "start_time": "2025-01-21T15:57:30.408133Z"
    }
   },
   "cell_type": "code",
   "source": [
    "random_article_idx = random.randint(0, len(df_train))\n",
    "row = df_train.iloc[random_article_idx]\n",
    "print('News example: ', random_article_idx)\n",
    "print('Title:    \\n', row['pr-title'])\n",
    "print('Article:  \\n', row['pr-article'])"
   ],
   "id": "6c60383bcbdf922f",
   "outputs": [
    {
     "name": "stdout",
     "output_type": "stream",
     "text": [
      "News example:  7727\n",
      "Title:    \n",
      " TC Study Finds MOOC Reality Not Yet Meeting High Expectations\n",
      "Article:  \n",
      " The rollout of MOOCs, or massive open online courses, three years ago by some of the country's leading universities triggered predictions that bricks-and-mortar campuses would soon be obsolete and that learning would be forever changed.\n",
      "Well, maybe - but not any time soon, according to one of the first comprehensive studies of MOOCs from the perspective of institutions, just released by researchers at Teachers College. The study is based on 83 interviews with faculty members, administrators, researchers, and other actors in the MOOCspace from 62 institutions, mostly in the U.S. It includes 13 case studies to illustrate how MOOCs are successfully being used to address institutional goals.\n",
      "The study finds that a primary goal for institutions offering MOOCs is to extend institutional reach and access to education. \"MOOCs are providing educational opportunities to millions of individuals across the world,\" write Fiona M. Hollands (Ph.D. '03) and Devayani Tirthali (Ed.D. '13, Ed.M. '12), respectively of the College's Center for Benefit-Cost Studies of Education and Institute for Learning Technologies, in their report, \"MOOCs: Expectations and Reality.\" However, to date, \"most MOOC participants are already well-educated and employed.\" Consequently, \"the evidence suggests that MOOCs currently are falling far short of 'democratizing' education and may, for now, be doing more to increase gaps in access to education than to diminish them.\"\n",
      "Using MOOCs to \"build and maintain brand\" is another frequently mentioned institutional goal, but while MOOCs often generate media attention, \"isolating and measuring impact of any new initiative on brand is a difficult exercise,\" the report suggests. Indeed, increasing access to online offerings and enhancing brand may be contradictory goals, because the former can be seen as diminishing the selectiveness of the offering institution.\n",
      "Hollands and Tirthali report that it is still too early to know whether MOOCs can live up to the hype of providing a cost-effective means for producing better educational outcomes on a mass scale. Cost analyses of MOOC production and delivery at four different institutions found that costs ranged from $39,000 to $325,000 per MOOC. \"MOOCs have, so far, proved to be a significant drain on time and money for institutions,\" Hollands and Tirthali write. That picture could change as institutions reuse MOOC materials, share them with each other, develop common courses, replace on-campus courses with MOOCs, and save on faculty teaching time and facilities costs. Revenue streams from MOOCs have been slow in materializing. Unless costs of MOOC production can be recovered through fees, Hollands and Tirthali speculate that \"free, non-credit bearing MOOCs are likely to remain available only from the wealthiest institutions that can subsidize the costs from other sources of funds.\"\n",
      "As for improving learning outcomes, MOOCs, on the whole, cannot yet make that claim. \"While interviewees provided many examples of how MOOCs have been used to change instruction, for the most part, actual impact on educational outcomes has not been documented in any rigorous fashion,\" the report asserts. However, two cases highlighted in the report provide examples of positive effects on student performance as a result of adopting MOOC-inspired strategies such as frequent assessment and automatic feedback, or of integrating MOOCs into flipped on-campus courses. Hollands and Tirthali conclude that \"while the potential for MOOCs to contribute significantly to the development of personalized and adaptive learning is high, the reality is far from being achieved.\" To get there, \"a great deal of coordination and collaboration among content experts, instructors, researchers, instructional designers, and programmers will be necessary.\"\n",
      "Hollands and Tirthali make several recommendations to institutions for increasing the value of MOOCs to improve access and educational outcomes, and to reduce the costs of higher education. These include:\n",
      "Hollands is the Associate Director at the Center for Benefit-Cost Studies of Education at Teachers College, Columbia University. Devayani Tirthali is a Research Associate at TC's Institute for Learning Technologies.\n",
      "The Center for Benefit-Cost Studies of Education (CBCSE) seeks to improve the efficiency with which public and private resources are employed in education. The center conducts research to determine the costs of educational programs as well as the economic value of program impacts in order to encourage educators, evaluators, and policymakers to consider these factors in conjunction with program effectiveness in addressing educational goals. CBCSE is co-directed by Henry M. Levin, TC's William Heard Kilpatrick Professor of Economics and Education, and Clive Belfield, Associate Professor of Economics at Queens College, City University of New York.\n",
      "Published Thursday, May. 15, 2014\n"
     ]
    }
   ],
   "execution_count": 6
  },
  {
   "metadata": {},
   "cell_type": "markdown",
   "source": "See article lengths distribution (in chars and words):",
   "id": "32561a6dcab5a38c"
  },
  {
   "metadata": {
    "ExecuteTime": {
     "end_time": "2025-01-21T15:57:32.380449Z",
     "start_time": "2025-01-21T15:57:30.602468Z"
    }
   },
   "cell_type": "code",
   "source": [
    "import matplotlib.pyplot as plt\n",
    "\n",
    "article_lengths = df_train['pr-article'].str.len()\n",
    "article_word_counts = df_train['pr-article'].str.split().str.len()\n",
    "\n",
    "fig, ax = plt.subplots(1, 2, figsize=(15, 5))\n",
    "\n",
    "ax[0].hist(article_lengths, bins=150, color='orange')\n",
    "ax[0].set_xlim(0, 15000)\n",
    "ax[0].set_xlabel('Article length (characters)')\n",
    "ax[0].set_ylabel('Counts')\n",
    "\n",
    "ax[1].hist(article_word_counts, bins=150, color='blue')\n",
    "ax[1].set_xlim(0, 3000)\n",
    "ax[1].set_xlabel('Article length (words)')\n",
    "ax[1].set_ylabel('Counts')"
   ],
   "id": "22f6642e855b0e05",
   "outputs": [
    {
     "data": {
      "text/plain": [
       "Text(0, 0.5, 'Counts')"
      ]
     },
     "execution_count": 7,
     "metadata": {},
     "output_type": "execute_result"
    },
    {
     "data": {
      "text/plain": [
       "<Figure size 1500x500 with 2 Axes>"
      ],
      "image/png": "[encoded data removed]"
     },
     "metadata": {},
     "output_type": "display_data"
    }
   ],
   "execution_count": 7
  },
  {
   "metadata": {},
   "cell_type": "markdown",
   "source": "Repeat cleaning process for valid and test datasets",
   "id": "8ea533082d43f725"
  },
  {
   "metadata": {
    "ExecuteTime": {
     "end_time": "2025-01-21T15:57:33.621720Z",
     "start_time": "2025-01-21T15:57:32.401136Z"
    }
   },
   "cell_type": "code",
   "source": [
    "df_valid = pd.read_json('data/valid.json', lines=True)\n",
    "df_valid = df_valid[['pr-title', 'pr-article']]\n",
    "df_valid['pr-article'] = df_valid['pr-article'].astype('string')\n",
    "df_valid['pr-title'] = df_valid['pr-title'].astype('string')\n",
    "\n",
    "df_test = pd.read_json('data/test.json', lines=True)\n",
    "df_test = df_test[['pr-title', 'pr-article']]\n",
    "df_test['pr-article'] = df_test['pr-article'].astype('string')\n",
    "df_test['pr-title'] = df_test['pr-title'].astype('string')\n",
    "\n",
    "print('Valid dataframe size: ', len(df_valid))\n",
    "print('Test dataframe size:  ', len(df_test))"
   ],
   "id": "46ec09c086791090",
   "outputs": [
    {
     "name": "stdout",
     "output_type": "stream",
     "text": [
      "Valid dataframe size:  1431\n",
      "Test dataframe size:   1000\n"
     ]
    }
   ],
   "execution_count": 8
  },
  {
   "metadata": {
    "ExecuteTime": {
     "end_time": "2025-01-21T15:57:33.658190Z",
     "start_time": "2025-01-21T15:57:33.650278Z"
    }
   },
   "cell_type": "code",
   "source": [
    "df_valid = df_valid[df_valid['pr-article'] != '']\n",
    "df_valid = df_valid[df_valid['pr-title'] != '']\n",
    "print('Valid dataframe size without blanks: ', len(df_valid))\n",
    "print('Test dataframe size without blanks:  ', len(df_test))"
   ],
   "id": "dc74b09dac19f369",
   "outputs": [
    {
     "name": "stdout",
     "output_type": "stream",
     "text": [
      "Valid dataframe size without blanks:  1405\n",
      "Test dataframe size without blanks:   1000\n"
     ]
    }
   ],
   "execution_count": 9
  },
  {
   "metadata": {},
   "cell_type": "markdown",
   "source": [
    "## Fine-tuning T5\n",
    "\n",
    "### Defininf model and loading tokenizer"
   ],
   "id": "3700b62f0c079c8a"
  },
  {
   "metadata": {
    "ExecuteTime": {
     "end_time": "2025-01-21T15:57:37.671280Z",
     "start_time": "2025-01-21T15:57:33.690396Z"
    }
   },
   "cell_type": "code",
   "source": [
    "from transformers import AutoProcessor\n",
    "import torch\n",
    "\n",
    "model_name = \"t5-small\"\n",
    "\n",
    "device = torch.device(\"cuda\" if torch.cuda.is_available() else \"cpu\")\n",
    "print(device)"
   ],
   "id": "484dd196ffd22276",
   "outputs": [
    {
     "name": "stdout",
     "output_type": "stream",
     "text": [
      "cuda\n"
     ]
    }
   ],
   "execution_count": 10
  },
  {
   "metadata": {
    "ExecuteTime": {
     "end_time": "2025-01-21T15:57:38.883705Z",
     "start_time": "2025-01-21T15:57:37.688055Z"
    }
   },
   "cell_type": "code",
   "source": "tokenizer = AutoProcessor.from_pretrained(model_name)",
   "id": "433d1b38b46cea97",
   "outputs": [],
   "execution_count": 11
  },
  {
   "metadata": {},
   "cell_type": "markdown",
   "source": "### Preprocess data for model function",
   "id": "ca34ecef27d37bc1"
  },
  {
   "metadata": {
    "ExecuteTime": {
     "end_time": "2025-01-21T15:57:38.904583Z",
     "start_time": "2025-01-21T15:57:38.900120Z"
    }
   },
   "cell_type": "code",
   "source": [
    "max_article_length = 512\n",
    "max_title_length = 64\n",
    "\n",
    "def preprocess_data(batch):\n",
    "    \"\"\"preprocess a batch of data for T5 title generation task\"\"\"\n",
    "    input_texts = ['summarize: ' + article for article in batch['pr-article']]\n",
    "    target_texts = batch['pr-title']\n",
    "\n",
    "    # tokenize input and target texts with padding to ensure consistent shape\n",
    "    tokenized_inputs = tokenizer(input_texts,\n",
    "                                  max_length=max_article_length,\n",
    "                                  truncation=True,\n",
    "                                 padding=True,\n",
    "                                  return_tensors=\"pt\")\n",
    "    tokenized_targets = tokenizer(target_texts,\n",
    "                               max_length=max_title_length,\n",
    "                               truncation=True,\n",
    "                                  padding=True,\n",
    "                               return_tensors=\"pt\")\n",
    "\n",
    "    # convert to dictionary compatible for Hugging Face Datasets\n",
    "    return {\n",
    "        \"input_ids\": tokenized_inputs[\"input_ids\"],\n",
    "        \"attention_mask\": tokenized_inputs[\"attention_mask\"],\n",
    "        \"labels\": tokenized_targets[\"input_ids\"]\n",
    "    }"
   ],
   "id": "e2996cf1cda9b648",
   "outputs": [],
   "execution_count": 12
  },
  {
   "metadata": {},
   "cell_type": "markdown",
   "source": "Now apply preprocess function to all datasets:",
   "id": "32a05d1071686549"
  },
  {
   "metadata": {
    "ExecuteTime": {
     "end_time": "2025-01-21T15:57:39.047553Z",
     "start_time": "2025-01-21T15:57:38.946879Z"
    }
   },
   "cell_type": "code",
   "source": [
    "sample_batch = df_train.sample(2).to_dict('list')  # Sample 2 rows from the training dataset\n",
    "print(\"Sample Batch:\\n\", sample_batch)\n",
    "preprocessed_batch = preprocess_data({\n",
    "    'pr-article': sample_batch['pr-article'],\n",
    "    'pr-title': sample_batch['pr-title']\n",
    "})\n",
    "\n",
    "# Print input IDs, attention masks, and labels\n",
    "print(\"Input IDs:\\n\", preprocessed_batch[\"input_ids\"])\n",
    "print(\"Attention Masks:\\n\", preprocessed_batch[\"attention_mask\"])\n",
    "print(\"Labels:\\n\", preprocessed_batch[\"labels\"])"
   ],
   "id": "a382a8403c1d81b8",
   "outputs": [
    {
     "name": "stdout",
     "output_type": "stream",
     "text": [
      "Sample Batch:\n",
      " {'pr-title': ['Tiny Quantum Computer Solves Real Optimization Problem', 'Walk This Way: Novel Method Enables Infinite Walking in VR'], 'pr-article': ['Quantum computers have already managed to surpass ordinary computers in solving certain tasks - unfortunately, totally useless ones. The next milestone is to get them to do useful things. Researchers at Chalmers University of Technology, Sweden, have now shown that they can solve a small part of a real logistics problem with their small, but well-functioning quantum computer.\\nInterest in building quantum computers has gained considerable momentum in recent years, and feverish work is underway in many parts of the world. In 2019, Google\\'s research team made a major breakthrough when their quantum computer managed to solve a task far more quickly than the world\\'s best supercomputer. The downside is that the solved task had no practical use whatsoever - it was chosen because it was judged to be easy to solve for a quantum computer, yet very difficult for a conventional computer.\\nTherefore, an important task is now to find useful, relevant problems that are beyond the reach of ordinary computers, but which a relatively small quantum computer could solve.\\n\"We want to be sure that the quantum computer we are developing can help solve relevant problems early on. Therefore, we work in close collaboration with industrial companies,\" says theoretical physicist Giulia Ferrini, one of the leaders of Chalmers University of Technology\\'s quantum computer project, which began in 2018.\\nTogether with Göran Johansson, Giulia Ferrini led the theoretical work when a team of researchers at Chalmers, including an industrial doctoral student from the aviation logistics company Jeppesen, recently showed that a quantum computer can solve an instance of a real problem in the aviation industry.\\nThe algorithm proven on two qubits \\xad All airlines are faced with scheduling problems. For example, assigning individual aircraft to different routes represents an optimisation problem, one that grows very rapidly in size and complexity as the number of routes and aircraft increases.\\nResearchers hope that quantum computers will eventually be better at handling such problems than today\\'s computers. The basic building block of the quantum computer - the qubit - is based on completely different principles than the building blocks of today\\'s computers, allowing them to handle enormous amounts of information with relatively few qubits.\\nHowever, due to their different structure and function, quantum computers must be programmed in other ways than conventional computers. One proposed algorithm that is believed to be useful on early quantum computers is the so-called Quantum Approximate Optimization Algorithm (QAOA).\\nThe Chalmers research team has now successfully executed said algorithm on their quantum computer - a processor with two qubits - and they showed that it can successfully solve the problem of assigning aircraft to routes. In this first demonstration, the result could be easily verified as the scale was very small - it involved only two airplanes.\\nPotential to handle many aircraft With this feat, the researchers were first to show that the QAOA algorithm can solve the problem of assigning aircraft to routes in practice. They also managed to run the algorithm one level further than anyone before, an achievement that requires very good hardware and accurate control.\\n\"We have shown that we have the ability to map relevant problems onto our quantum processor. We still have a small number of qubits, but they work well. Our plan has been to first make everything work very well on a small scale, before scaling up,\" says Jonas Bylander, senior researcher responsible for the experimental design, and one of the leaders of the project of building a quantum computer at Chalmers.\\nThe theorists in the research team also simulated solving the same optimisation problem for up to 278 aircraft, which would require a quantum computer with 25 qubits.\\n\"The results remained good as we scaled up. This suggests that the QAOA algorithm has the potential to solve this type of problem at even larger scales,\" says Giulia Ferrini.\\nSurpassing today\\'s best computers would, however, require much larger devices. The researchers at Chalmers have now begun scaling up and are currently working with five quantum bits. The plan is to reach at least 20 qubits by 2021 while maintaining the high quality.\\nThe research results have been published in two articles in Physical Review Applied :\\nImproved Success Probability with Greater Circuit Depth for the Quantum Approximate Optimization Algorithm and\\nApplying the Quantum Approximate Optimization Algorithm to the Tail-Assignment Problem\\nMore about: The Swedish quest for a quantum computer The research is part of the Wallenberg Centre for Quantum Technology (WACQT), a twelve-year, billion-dollar investment with two main purposes: to develop Swedish expertise in quantum technology, and to build a useful quantum computer with at least one hundred quantum bits. The research centre is mainly funded by the Knut and Alice Wallenberg Foundation. Read more here:\\nEngineering of a Swedish quantum computer set to start (initial press release from 2017)\\nDiscover quantum technology (introduction to quantum technology)\\nQuantum computing (introduction to quantum computing)\\nWallenberg Centre for Quantum Technology (WACQT)\\nResearch in quantum computing and simulation (about quantum computing research within WACQT)\\nContact: Giulia Ferrini, Assistant Professor in Applied Quantum Physics, Chalmers University of Technology, ferrini@chalmers.se , +46-31-772 64 17 Jonas Bylander, Associate Professor in Quantum Technology, Chalmers University of Technology, jonas.bylander@chalmers.se , +46-31-772 51 32\\nChristian Borg Head of media relations\\n+46-31-772 3395\\nchristian.borg@chalmers.se\\n________________\\nChalmers University of Technology in Gothenburg, Sweden, conducts research and education in technology and natural sciences at a high international level. The university has 3100 employees and 10,000 students, and offers education in engineering, science, shipping and architecture.\\nWith scientific excellence as a basis, Chalmers promotes knowledge and technical solutions for a sustainable world. Through global commitment and entrepreneurship, we foster an innovative spirit, in close collaboration with wider society.The EU\\'s biggest research initiative - the Graphene Flagship - is coordinated by Chalmers. We are also leading the development of a Swedish quantum computer.\\nChalmers was founded in 1829 and has the same motto today as it did then: Avancez - forward.', 'In the ever-evolving landscape of virtual reality (VR) technology, a number of key hurdles remain. But a team of computer scientists have tackled one of the major challenges in VR that will greatly improve user experience--enabling an immersive virtual experience while being physically limited to one\\'s actual, real-world space. The research team will present their work at SIGGRAPH 2018.\\nComputer scientists from Stony Brook University, NVIDIA and Adobe have collaborated on a computational framework that gives VR users the perception of infinite walking in the virtual world--while limited to a small physical space. The framework also enables this free-walking experience for users without causing dizziness, shakiness, or discomfort typically tied to physical movement in VR. And, users avoid bumping into objects in the physical space while in the VR world.\\nTo do this, the researchers focused on manipulating a user\\'s walking direction by working with a basic natural phenomenon of the human eye, called saccade. Saccades are quick eye movements that occur when we look at a different point in our field of vision, like when scanning a room or viewing a painting. Saccades occur without our control and generally several times per second. During that time, our brains largely ignore visual input in a phenomenon known as \"saccadic suppression\"--leaving us completely oblivious to our temporary blindness, and the motion that our eyes performed.\\n\"In VR, we can display vast universes; however, the physical spaces in our homes and offices are much smaller,\" says lead author of the work, Qi Sun, a PhD student at Stony Brook University and former research intern at Adobe Research and NVIDIA. \"It\\'s the nature of the human eye to scan a scene by moving rapidly between points of fixation. We realized that if we rotate the virtual camera just slightly during saccades, we can redirect a user\\'s walking direction to simulate a larger walking space.\"\\nUsing a head- and eye-tracking VR headset, the researchers\\' new method detects saccadic suppression and redirects users during the resulting temporary blindness. When more redirection is required, researchers attempt to encourage saccades using a tailored version of subtle gaze direction--a method that can dynamically encourage saccades by creating points of contrast in our visual periphery.\\nThe team who authored the research, titled \"Towards Virtual Reality Infinite Walking: Dynamic Saccade Redirection,\" will present their work at SIGGRAPH 2018, held 12-16 August in Vancouver, British Columbia. The annual conference and exhibition showcases the world\\'s leading professionals, academics, and creative minds at the forefront of computer graphics and interactive techniques.\\nTo date, existing methods addressing infinite walking in VR have limited redirection capabilities or cause undesirable scene distortions; they have also been unable to avoid obstacles in the physical world, like desks and chairs. The team\\'s new method dynamically redirects the user away from these objects. The method runs fast, so it is able to avoid moving objects as well, such as other people in the same room.\\nThe researchers ran user studies and simulations to validate their new computational system, including having participants perform game-like search and retrieval tasks. Overall, virtual camera rotation was unnoticeable to users during episodes of saccadic suppression; they could not tell that they were being automatically redirected via camera manipulation. Additionally, in testing the team\\'s method for dynamic path planning in real-time, users were able to walk without running into walls and furniture, or moving objects like fellow VR users.\\n\"Currently in VR, it is still difficult to deliver a completely natural walking experience to VR users,\" says Sun. \"That is the primary motivation behind our work--to eliminate this constraint and enable fully immersive experiences in large virtual worlds.\"\\nThough mostly applicable to VR gaming, the new system could potentially be applied to other industries, including architectural design, education, and film production.\\n###\\nFor the full paper and video, visit the project page. Coauthors include Qi Sun (Stony Brook University, NVIDIA, Adobe), Anjul Patney (NVIDIA), Li-Yi Wei (Adobe), Omer Shapira (NVIDIA), Jingwan Lu (Adobe), Paul Asente (Adobe), Suwen Zhu (Stony Brook University), Morgan McGuire (NVIDIA), David Luebke (NVIDIA), and Arie Kaufman (Stony Brook University).\\nAbout ACM, ACM SIGGRAPH, and SIGGRAPH 2018 ACM, the Association for Computing Machinery, is the world\\'s largest educational and scientific computing society, uniting educators, researchers, and professionals to inspire dialogue, share resources, and address the field\\'s challenges. ACM SIGGRAPH is a special interest group within ACM that serves as an interdisciplinary community for members in research, technology, and applications in computer graphics and interactive techniques. SIGGRAPH is the world\\'s leading annual interdisciplinary educational experience showcasing the latest in computer graphics and interactive techniques. SIGGRAPH 2018, marking the 45th annual conference hosted by ACM SIGGRAPH, will take place from 12-16 August at the Vancouver Convention Centre in Vancouver, B.C. To register for SIGGRAPH 2018 and hear from the authors themselves, visit s2018.siggraph.org/attend/register .']}\n",
      "Input IDs:\n",
      " tensor([[21603,    10, 12716,  ...,  5058, 29044,     1],\n",
      "        [21603,    10,    86,  ...,     7,    57,     1]])\n",
      "Attention Masks:\n",
      " tensor([[1, 1, 1,  ..., 1, 1, 1],\n",
      "        [1, 1, 1,  ..., 1, 1, 1]])\n",
      "Labels:\n",
      " tensor([[ 7138,    63, 12716,   440,  5491,   264,  8391,  2977, 29044,  5289,\n",
      "             1,     0,     0,     0,     0,     0,     0],\n",
      "        [10801,   100,  5994,    10, 24388,  7717,   695,   179,     7,    86,\n",
      "          5582,    17,    15, 19525,    16, 13893,     1]])\n"
     ]
    }
   ],
   "execution_count": 13
  },
  {
   "metadata": {
    "ExecuteTime": {
     "end_time": "2025-01-21T15:58:15.585891Z",
     "start_time": "2025-01-21T15:57:39.072737Z"
    }
   },
   "cell_type": "code",
   "source": [
    "from datasets import Dataset\n",
    "\n",
    "batch_size = 4\n",
    "\n",
    "tokenized_train_ds = Dataset.from_pandas(df_train).map(preprocess_data, batched=True, batch_size=batch_size)\n",
    "tokenized_valid_ds = Dataset.from_pandas(df_valid).map(preprocess_data, batched=True, batch_size=batch_size)\n",
    "tokenized_test_ds = Dataset.from_pandas(df_test).map(preprocess_data, batched=True, batch_size=batch_size)"
   ],
   "id": "b7503a1595a9529a",
   "outputs": [
    {
     "data": {
      "text/plain": [
       "Map:   0%|          | 0/12735 [00:00<?, ? examples/s]"
      ],
      "application/vnd.jupyter.widget-view+json": {
       "version_major": 2,
       "version_minor": 0,
       "model_id": "f5b2831294db4cb785da85dda276084b"
      }
     },
     "metadata": {},
     "output_type": "display_data"
    },
    {
     "data": {
      "text/plain": [
       "Map:   0%|          | 0/1405 [00:00<?, ? examples/s]"
      ],
      "application/vnd.jupyter.widget-view+json": {
       "version_major": 2,
       "version_minor": 0,
       "model_id": "77ff9413e4664531a3cb8f48f3d10b73"
      }
     },
     "metadata": {},
     "output_type": "display_data"
    },
    {
     "data": {
      "text/plain": [
       "Map:   0%|          | 0/1000 [00:00<?, ? examples/s]"
      ],
      "application/vnd.jupyter.widget-view+json": {
       "version_major": 2,
       "version_minor": 0,
       "model_id": "d889016f49fa4c42996c53c8bee306e6"
      }
     },
     "metadata": {},
     "output_type": "display_data"
    }
   ],
   "execution_count": 14
  },
  {
   "metadata": {
    "ExecuteTime": {
     "end_time": "2025-01-21T15:58:15.613926Z",
     "start_time": "2025-01-21T15:58:15.609703Z"
    }
   },
   "cell_type": "code",
   "source": "tokenized_train_ds.features",
   "id": "567e34181868da57",
   "outputs": [
    {
     "data": {
      "text/plain": [
       "{'pr-title': Value(dtype='string', id=None),\n",
       " 'pr-article': Value(dtype='string', id=None),\n",
       " '__index_level_0__': Value(dtype='int64', id=None),\n",
       " 'input_ids': Sequence(feature=Value(dtype='int32', id=None), length=-1, id=None),\n",
       " 'attention_mask': Sequence(feature=Value(dtype='int8', id=None), length=-1, id=None),\n",
       " 'labels': Sequence(feature=Value(dtype='int64', id=None), length=-1, id=None)}"
      ]
     },
     "execution_count": 15,
     "metadata": {},
     "output_type": "execute_result"
    }
   ],
   "execution_count": 15
  },
  {
   "metadata": {},
   "cell_type": "markdown",
   "source": "### Prepare trainer",
   "id": "b4cf0810b03e87f3"
  },
  {
   "metadata": {
    "ExecuteTime": {
     "end_time": "2025-01-21T15:58:15.885459Z",
     "start_time": "2025-01-21T15:58:15.653993Z"
    }
   },
   "cell_type": "code",
   "source": [
    "from transformers import Seq2SeqTrainingArguments\n",
    "\n",
    "model_folder = './T5-title-generator/'\n",
    "\n",
    "batch_size = 8\n",
    "\n",
    "training_args = Seq2SeqTrainingArguments(\n",
    "    # Training-specific configurations\n",
    "    num_train_epochs=1,  # Total number of training epochs\n",
    "    weight_decay=0.01,  # Apply L2 regularization to prevent overfitting\n",
    "    learning_rate=3e-5,  # Step size for the optimizer during training\n",
    "    optim=\"adamw_torch\",  # Optimizer,\n",
    "    warmup_steps=10,\n",
    "    predict_with_generate=True,\n",
    "    per_device_train_batch_size=batch_size,\n",
    "    per_device_eval_batch_size=batch_size,  # Number of samples per eval batch for each device\n",
    "\n",
    "    # memory related settings\n",
    "    gradient_accumulation_steps=1,  # memory\n",
    "    gradient_checkpointing=True,  # memory\n",
    "    fp16 = False, # Speed\n",
    "    bf16=True,\n",
    "    tf32=False, # speed\n",
    "\n",
    "    # evaluation settings\n",
    "    output_dir=str(model_folder),  # Directory to save model checkpoints\n",
    "    eval_strategy=\"steps\",  # Evaluate model at specified step intervals\n",
    "    eval_steps=50,  # Perform evaluation every 100 training steps\n",
    "\n",
    "    # Checkpoint settings\n",
    "    save_strategy=\"steps\",  # Save model checkpoint at specified step intervals\n",
    "    save_steps=500,  # Save a model checkpoint every 500 training steps\n",
    "    load_best_model_at_end=True,  # Reload the best model at the end of training\n",
    "    save_total_limit=2,  # Retain only the best and the most recent model checkpoints\n",
    "    metric_for_best_model='eval_loss',\n",
    "    greater_is_better=False,\n",
    "\n",
    "    # Experiment logging configurations\n",
    "    logging_strategy=\"steps\",\n",
    "    logging_steps=50, # Log metrics each 100 steps\n",
    ")"
   ],
   "id": "eab151bec01b86c",
   "outputs": [],
   "execution_count": 16
  },
  {
   "metadata": {},
   "cell_type": "markdown",
   "source": "Data collator for the trainer:",
   "id": "46248450ecb1b3f2"
  },
  {
   "metadata": {
    "ExecuteTime": {
     "end_time": "2025-01-21T15:58:15.920730Z",
     "start_time": "2025-01-21T15:58:15.906222Z"
    }
   },
   "cell_type": "code",
   "source": [
    "from transformers import DataCollatorForSeq2Seq\n",
    "\n",
    "data_collator = DataCollatorForSeq2Seq(tokenizer=tokenizer,\n",
    "                                       label_pad_token_id=-100)"
   ],
   "id": "d3b2cbd5fb58169c",
   "outputs": [],
   "execution_count": 17
  },
  {
   "metadata": {},
   "cell_type": "markdown",
   "source": "### Metric selection",
   "id": "19048e84d8fd9c41"
  },
  {
   "metadata": {
    "ExecuteTime": {
     "end_time": "2025-01-21T15:58:17.342057Z",
     "start_time": "2025-01-21T15:58:15.949206Z"
    }
   },
   "cell_type": "code",
   "source": [
    "from evaluate import load\n",
    "\n",
    "metric = load(\"rouge\")\n",
    "metric"
   ],
   "id": "c5bd5da779b048df",
   "outputs": [
    {
     "data": {
      "text/plain": [
       "EvaluationModule(name: \"rouge\", module_type: \"metric\", features: [{'predictions': Value(dtype='string', id='sequence'), 'references': Sequence(feature=Value(dtype='string', id='sequence'), length=-1, id=None)}, {'predictions': Value(dtype='string', id='sequence'), 'references': Value(dtype='string', id='sequence')}], usage: \"\"\"\n",
       "Calculates average rouge scores for a list of hypotheses and references\n",
       "Args:\n",
       "    predictions: list of predictions to score. Each prediction\n",
       "        should be a string with tokens separated by spaces.\n",
       "    references: list of reference for each prediction. Each\n",
       "        reference should be a string with tokens separated by spaces.\n",
       "    rouge_types: A list of rouge types to calculate.\n",
       "        Valid names:\n",
       "        `\"rouge{n}\"` (e.g. `\"rouge1\"`, `\"rouge2\"`) where: {n} is the n-gram based scoring,\n",
       "        `\"rougeL\"`: Longest common subsequence based scoring.\n",
       "        `\"rougeLsum\"`: rougeLsum splits text using `\"\n",
       "\"`.\n",
       "        See details in https://github.com/huggingface/datasets/issues/617\n",
       "    use_stemmer: Bool indicating whether Porter stemmer should be used to strip word suffixes.\n",
       "    use_aggregator: Return aggregates if this is set to True\n",
       "Returns:\n",
       "    rouge1: rouge_1 (f1),\n",
       "    rouge2: rouge_2 (f1),\n",
       "    rougeL: rouge_l (f1),\n",
       "    rougeLsum: rouge_lsum (f1)\n",
       "Examples:\n",
       "\n",
       "    >>> rouge = evaluate.load('rouge')\n",
       "    >>> predictions = [\"hello there\", \"general kenobi\"]\n",
       "    >>> references = [\"hello there\", \"general kenobi\"]\n",
       "    >>> results = rouge.compute(predictions=predictions, references=references)\n",
       "    >>> print(results)\n",
       "    {'rouge1': 1.0, 'rouge2': 1.0, 'rougeL': 1.0, 'rougeLsum': 1.0}\n",
       "\"\"\", stored examples: 0)"
      ]
     },
     "execution_count": 18,
     "metadata": {},
     "output_type": "execute_result"
    }
   ],
   "execution_count": 18
  },
  {
   "metadata": {
    "ExecuteTime": {
     "end_time": "2025-01-21T15:58:17.523047Z",
     "start_time": "2025-01-21T15:58:17.366309Z"
    }
   },
   "cell_type": "code",
   "source": [
    "import numpy as np\n",
    "import nltk\n",
    "nltk.download('punkt')\n",
    "\n",
    "# function source: https://discuss.huggingface.co/t/trainer-warning-with-the-new-version/115446\n",
    "def compute_metrics(eval_pred):\n",
    "    predictions, labels = eval_pred\n",
    "\n",
    "    # Clip predictions to ensure they are within valid token ID range\n",
    "    predictions = np.clip(predictions, 0, tokenizer.vocab_size - 1)\n",
    "\n",
    "    decoded_preds = tokenizer.batch_decode(predictions, skip_special_tokens=True)\n",
    "\n",
    "    # Replace -100 in the labels as we can't decode them.\n",
    "    labels = np.where(labels != -100, labels, tokenizer.pad_token_id)\n",
    "    decoded_labels = tokenizer.batch_decode(labels, skip_special_tokens=True)\n",
    "\n",
    "    # Rouge expects a newline after each sentence\n",
    "    decoded_preds = [\"\\n\".join(nltk.sent_tokenize(pred.strip()))\n",
    "                     for pred in decoded_preds]\n",
    "    decoded_labels = [\"\\n\".join(nltk.sent_tokenize(label.strip()))\n",
    "                      for label in decoded_labels]\n",
    "\n",
    "    # Compute ROUGE scores\n",
    "    result = metric.compute(predictions=decoded_preds, references=decoded_labels,\n",
    "                            use_stemmer=True)\n",
    "\n",
    "    # Extract ROUGE f1 scores (fix applied here)\n",
    "    result = {key: value * 100 for key, value in result.items()}\n",
    "\n",
    "    # Add mean generated length to metrics\n",
    "    prediction_lens = [np.count_nonzero(pred != tokenizer.pad_token_id)\n",
    "                       for pred in predictions]\n",
    "    result[\"gen_len\"] = np.mean(prediction_lens)\n",
    "\n",
    "    return {k: round(v, 4) for k, v in result.items()}"
   ],
   "id": "cefb07c20c1a92f",
   "outputs": [
    {
     "name": "stderr",
     "output_type": "stream",
     "text": [
      "[nltk_data] Downloading package punkt to /home/neville/nltk_data...\n",
      "[nltk_data]   Package punkt is already up-to-date!\n"
     ]
    }
   ],
   "execution_count": 19
  },
  {
   "metadata": {
    "ExecuteTime": {
     "end_time": "2025-01-21T15:58:17.792483Z",
     "start_time": "2025-01-21T15:58:17.545279Z"
    }
   },
   "cell_type": "code",
   "source": [
    "# Example to test the `compute_metrics` function\n",
    "test_predictions = torch.tensor([[21603, 10, 2372, 3, 1, 0, 0, 0], [21603, 10, 94, 123, 1, 0, 0, 0]])\n",
    "test_labels = torch.tensor([[21603, 10, 2372, 3, -100, -100, -100, -100], [21603, 10, 94, 123, -100, -100, -100, -100]])\n",
    "\n",
    "# Call the function with example inputs\n",
    "example_metrics = compute_metrics((test_predictions, test_labels))\n",
    "\n",
    "# Print out the metrics results\n",
    "print(\"Example metrics:\\n\", example_metrics)"
   ],
   "id": "e70b60641421eb09",
   "outputs": [
    {
     "name": "stdout",
     "output_type": "stream",
     "text": [
      "Example metrics:\n",
      " {'rouge1': 100.0, 'rouge2': 100.0, 'rougeL': 100.0, 'rougeLsum': 100.0, 'gen_len': 5.0}\n"
     ]
    }
   ],
   "execution_count": 20
  },
  {
   "metadata": {},
   "cell_type": "markdown",
   "source": "### Start trainer",
   "id": "576f94ac6faffe50"
  },
  {
   "metadata": {
    "ExecuteTime": {
     "end_time": "2025-01-21T15:58:18.493866Z",
     "start_time": "2025-01-21T15:58:17.815396Z"
    }
   },
   "cell_type": "code",
   "source": [
    "from transformers import AutoModelForSeq2SeqLM, Seq2SeqTrainer\n",
    "\n",
    "model = AutoModelForSeq2SeqLM.from_pretrained(model_name).to(device)"
   ],
   "id": "f3f7a33890894f0",
   "outputs": [],
   "execution_count": 21
  },
  {
   "metadata": {
    "ExecuteTime": {
     "end_time": "2025-01-21T15:58:18.524890Z",
     "start_time": "2025-01-21T15:58:18.520793Z"
    }
   },
   "cell_type": "code",
   "source": "print(model.config)",
   "id": "7233b359fe460d40",
   "outputs": [
    {
     "name": "stdout",
     "output_type": "stream",
     "text": [
      "T5Config {\n",
      "  \"_attn_implementation_autoset\": true,\n",
      "  \"_name_or_path\": \"t5-small\",\n",
      "  \"architectures\": [\n",
      "    \"T5ForConditionalGeneration\"\n",
      "  ],\n",
      "  \"classifier_dropout\": 0.0,\n",
      "  \"d_ff\": 2048,\n",
      "  \"d_kv\": 64,\n",
      "  \"d_model\": 512,\n",
      "  \"decoder_start_token_id\": 0,\n",
      "  \"dense_act_fn\": \"relu\",\n",
      "  \"dropout_rate\": 0.1,\n",
      "  \"eos_token_id\": 1,\n",
      "  \"feed_forward_proj\": \"relu\",\n",
      "  \"initializer_factor\": 1.0,\n",
      "  \"is_encoder_decoder\": true,\n",
      "  \"is_gated_act\": false,\n",
      "  \"layer_norm_epsilon\": 1e-06,\n",
      "  \"model_type\": \"t5\",\n",
      "  \"n_positions\": 512,\n",
      "  \"num_decoder_layers\": 6,\n",
      "  \"num_heads\": 8,\n",
      "  \"num_layers\": 6,\n",
      "  \"output_past\": true,\n",
      "  \"pad_token_id\": 0,\n",
      "  \"relative_attention_max_distance\": 128,\n",
      "  \"relative_attention_num_buckets\": 32,\n",
      "  \"task_specific_params\": {\n",
      "    \"summarization\": {\n",
      "      \"early_stopping\": true,\n",
      "      \"length_penalty\": 2.0,\n",
      "      \"max_length\": 200,\n",
      "      \"min_length\": 30,\n",
      "      \"no_repeat_ngram_size\": 3,\n",
      "      \"num_beams\": 4,\n",
      "      \"prefix\": \"summarize: \"\n",
      "    },\n",
      "    \"translation_en_to_de\": {\n",
      "      \"early_stopping\": true,\n",
      "      \"max_length\": 300,\n",
      "      \"num_beams\": 4,\n",
      "      \"prefix\": \"translate English to German: \"\n",
      "    },\n",
      "    \"translation_en_to_fr\": {\n",
      "      \"early_stopping\": true,\n",
      "      \"max_length\": 300,\n",
      "      \"num_beams\": 4,\n",
      "      \"prefix\": \"translate English to French: \"\n",
      "    },\n",
      "    \"translation_en_to_ro\": {\n",
      "      \"early_stopping\": true,\n",
      "      \"max_length\": 300,\n",
      "      \"num_beams\": 4,\n",
      "      \"prefix\": \"translate English to Romanian: \"\n",
      "    }\n",
      "  },\n",
      "  \"transformers_version\": \"4.48.1\",\n",
      "  \"use_cache\": true,\n",
      "  \"vocab_size\": 32128\n",
      "}\n",
      "\n"
     ]
    }
   ],
   "execution_count": 22
  },
  {
   "metadata": {
    "ExecuteTime": {
     "end_time": "2025-01-21T15:58:18.630466Z",
     "start_time": "2025-01-21T15:58:18.589968Z"
    }
   },
   "cell_type": "code",
   "source": "print(model)",
   "id": "888b2a0cc3b146fa",
   "outputs": [
    {
     "name": "stdout",
     "output_type": "stream",
     "text": [
      "T5ForConditionalGeneration(\n",
      "  (shared): Embedding(32128, 512)\n",
      "  (encoder): T5Stack(\n",
      "    (embed_tokens): Embedding(32128, 512)\n",
      "    (block): ModuleList(\n",
      "      (0): T5Block(\n",
      "        (layer): ModuleList(\n",
      "          (0): T5LayerSelfAttention(\n",
      "            (SelfAttention): T5Attention(\n",
      "              (q): Linear(in_features=512, out_features=512, bias=False)\n",
      "              (k): Linear(in_features=512, out_features=512, bias=False)\n",
      "              (v): Linear(in_features=512, out_features=512, bias=False)\n",
      "              (o): Linear(in_features=512, out_features=512, bias=False)\n",
      "              (relative_attention_bias): Embedding(32, 8)\n",
      "            )\n",
      "            (layer_norm): T5LayerNorm()\n",
      "            (dropout): Dropout(p=0.1, inplace=False)\n",
      "          )\n",
      "          (1): T5LayerFF(\n",
      "            (DenseReluDense): T5DenseActDense(\n",
      "              (wi): Linear(in_features=512, out_features=2048, bias=False)\n",
      "              (wo): Linear(in_features=2048, out_features=512, bias=False)\n",
      "              (dropout): Dropout(p=0.1, inplace=False)\n",
      "              (act): ReLU()\n",
      "            )\n",
      "            (layer_norm): T5LayerNorm()\n",
      "            (dropout): Dropout(p=0.1, inplace=False)\n",
      "          )\n",
      "        )\n",
      "      )\n",
      "      (1-5): 5 x T5Block(\n",
      "        (layer): ModuleList(\n",
      "          (0): T5LayerSelfAttention(\n",
      "            (SelfAttention): T5Attention(\n",
      "              (q): Linear(in_features=512, out_features=512, bias=False)\n",
      "              (k): Linear(in_features=512, out_features=512, bias=False)\n",
      "              (v): Linear(in_features=512, out_features=512, bias=False)\n",
      "              (o): Linear(in_features=512, out_features=512, bias=False)\n",
      "            )\n",
      "            (layer_norm): T5LayerNorm()\n",
      "            (dropout): Dropout(p=0.1, inplace=False)\n",
      "          )\n",
      "          (1): T5LayerFF(\n",
      "            (DenseReluDense): T5DenseActDense(\n",
      "              (wi): Linear(in_features=512, out_features=2048, bias=False)\n",
      "              (wo): Linear(in_features=2048, out_features=512, bias=False)\n",
      "              (dropout): Dropout(p=0.1, inplace=False)\n",
      "              (act): ReLU()\n",
      "            )\n",
      "            (layer_norm): T5LayerNorm()\n",
      "            (dropout): Dropout(p=0.1, inplace=False)\n",
      "          )\n",
      "        )\n",
      "      )\n",
      "    )\n",
      "    (final_layer_norm): T5LayerNorm()\n",
      "    (dropout): Dropout(p=0.1, inplace=False)\n",
      "  )\n",
      "  (decoder): T5Stack(\n",
      "    (embed_tokens): Embedding(32128, 512)\n",
      "    (block): ModuleList(\n",
      "      (0): T5Block(\n",
      "        (layer): ModuleList(\n",
      "          (0): T5LayerSelfAttention(\n",
      "            (SelfAttention): T5Attention(\n",
      "              (q): Linear(in_features=512, out_features=512, bias=False)\n",
      "              (k): Linear(in_features=512, out_features=512, bias=False)\n",
      "              (v): Linear(in_features=512, out_features=512, bias=False)\n",
      "              (o): Linear(in_features=512, out_features=512, bias=False)\n",
      "              (relative_attention_bias): Embedding(32, 8)\n",
      "            )\n",
      "            (layer_norm): T5LayerNorm()\n",
      "            (dropout): Dropout(p=0.1, inplace=False)\n",
      "          )\n",
      "          (1): T5LayerCrossAttention(\n",
      "            (EncDecAttention): T5Attention(\n",
      "              (q): Linear(in_features=512, out_features=512, bias=False)\n",
      "              (k): Linear(in_features=512, out_features=512, bias=False)\n",
      "              (v): Linear(in_features=512, out_features=512, bias=False)\n",
      "              (o): Linear(in_features=512, out_features=512, bias=False)\n",
      "            )\n",
      "            (layer_norm): T5LayerNorm()\n",
      "            (dropout): Dropout(p=0.1, inplace=False)\n",
      "          )\n",
      "          (2): T5LayerFF(\n",
      "            (DenseReluDense): T5DenseActDense(\n",
      "              (wi): Linear(in_features=512, out_features=2048, bias=False)\n",
      "              (wo): Linear(in_features=2048, out_features=512, bias=False)\n",
      "              (dropout): Dropout(p=0.1, inplace=False)\n",
      "              (act): ReLU()\n",
      "            )\n",
      "            (layer_norm): T5LayerNorm()\n",
      "            (dropout): Dropout(p=0.1, inplace=False)\n",
      "          )\n",
      "        )\n",
      "      )\n",
      "      (1-5): 5 x T5Block(\n",
      "        (layer): ModuleList(\n",
      "          (0): T5LayerSelfAttention(\n",
      "            (SelfAttention): T5Attention(\n",
      "              (q): Linear(in_features=512, out_features=512, bias=False)\n",
      "              (k): Linear(in_features=512, out_features=512, bias=False)\n",
      "              (v): Linear(in_features=512, out_features=512, bias=False)\n",
      "              (o): Linear(in_features=512, out_features=512, bias=False)\n",
      "            )\n",
      "            (layer_norm): T5LayerNorm()\n",
      "            (dropout): Dropout(p=0.1, inplace=False)\n",
      "          )\n",
      "          (1): T5LayerCrossAttention(\n",
      "            (EncDecAttention): T5Attention(\n",
      "              (q): Linear(in_features=512, out_features=512, bias=False)\n",
      "              (k): Linear(in_features=512, out_features=512, bias=False)\n",
      "              (v): Linear(in_features=512, out_features=512, bias=False)\n",
      "              (o): Linear(in_features=512, out_features=512, bias=False)\n",
      "            )\n",
      "            (layer_norm): T5LayerNorm()\n",
      "            (dropout): Dropout(p=0.1, inplace=False)\n",
      "          )\n",
      "          (2): T5LayerFF(\n",
      "            (DenseReluDense): T5DenseActDense(\n",
      "              (wi): Linear(in_features=512, out_features=2048, bias=False)\n",
      "              (wo): Linear(in_features=2048, out_features=512, bias=False)\n",
      "              (dropout): Dropout(p=0.1, inplace=False)\n",
      "              (act): ReLU()\n",
      "            )\n",
      "            (layer_norm): T5LayerNorm()\n",
      "            (dropout): Dropout(p=0.1, inplace=False)\n",
      "          )\n",
      "        )\n",
      "      )\n",
      "    )\n",
      "    (final_layer_norm): T5LayerNorm()\n",
      "    (dropout): Dropout(p=0.1, inplace=False)\n",
      "  )\n",
      "  (lm_head): Linear(in_features=512, out_features=32128, bias=False)\n",
      ")\n"
     ]
    }
   ],
   "execution_count": 23
  },
  {
   "metadata": {
    "ExecuteTime": {
     "end_time": "2025-01-21T15:58:18.740065Z",
     "start_time": "2025-01-21T15:58:18.658461Z"
    }
   },
   "cell_type": "code",
   "source": "model.num_parameters()",
   "id": "597526f38c21b107",
   "outputs": [
    {
     "data": {
      "text/plain": [
       "60506624"
      ]
     },
     "execution_count": 24,
     "metadata": {},
     "output_type": "execute_result"
    }
   ],
   "execution_count": 24
  },
  {
   "metadata": {},
   "cell_type": "markdown",
   "source": "The model has 6x Encoders and 6x Decoders",
   "id": "4d7ff8db843d53a2"
  },
  {
   "metadata": {
    "ExecuteTime": {
     "end_time": "2025-01-21T15:58:18.895312Z",
     "start_time": "2025-01-21T15:58:18.746778Z"
    }
   },
   "cell_type": "code",
   "source": [
    "trainer = Seq2SeqTrainer(\n",
    "    model=model,\n",
    "    args=training_args,\n",
    "    train_dataset=tokenized_train_ds,\n",
    "    eval_dataset=tokenized_valid_ds,\n",
    "    processing_class=tokenizer,\n",
    "    data_collator=data_collator,\n",
    "    compute_metrics=compute_metrics\n",
    ")"
   ],
   "id": "351ec7772a889e6",
   "outputs": [
    {
     "name": "stderr",
     "output_type": "stream",
     "text": [
      "/tmp/ipykernel_113110/4080436188.py:1: FutureWarning: `tokenizer` is deprecated and will be removed in version 5.0.0 for `Seq2SeqTrainer.__init__`. Use `processing_class` instead.\n",
      "  trainer = Seq2SeqTrainer(\n"
     ]
    }
   ],
   "execution_count": 25
  },
  {
   "metadata": {
    "ExecuteTime": {
     "end_time": "2025-01-21T16:45:21.899086Z",
     "start_time": "2025-01-21T15:58:18.944546Z"
    }
   },
   "cell_type": "code",
   "source": [
    "%time\n",
    "trainer.train()"
   ],
   "id": "ae52617556a91a49",
   "outputs": [
    {
     "name": "stdout",
     "output_type": "stream",
     "text": [
      "CPU times: user 4 μs, sys: 0 ns, total: 4 μs\n",
      "Wall time: 9.54 μs\n"
     ]
    },
    {
     "name": "stderr",
     "output_type": "stream",
     "text": [
      "`use_cache=True` is incompatible with gradient checkpointing. Setting `use_cache=False`...\n"
     ]
    },
    {
     "data": {
      "text/plain": [
       "<IPython.core.display.HTML object>"
      ],
      "text/html": [
       "\n",
       "    <div>\n",
       "      \n",
       "      <progress value='544' max='1592' style='width:300px; height:20px; vertical-align: middle;'></progress>\n",
       "      [ 544/1592 46:58 < 1:30:49, 0.19 it/s, Epoch 0.34/1]\n",
       "    </div>\n",
       "    <table border=\"1\" class=\"dataframe\">\n",
       "  <thead>\n",
       " <tr style=\"text-align: left;\">\n",
       "      <th>Step</th>\n",
       "      <th>Training Loss</th>\n",
       "      <th>Validation Loss</th>\n",
       "      <th>Rouge1</th>\n",
       "      <th>Rouge2</th>\n",
       "      <th>Rougel</th>\n",
       "      <th>Rougelsum</th>\n",
       "      <th>Gen Len</th>\n",
       "    </tr>\n",
       "  </thead>\n",
       "  <tbody>\n",
       "    <tr>\n",
       "      <td>50</td>\n",
       "      <td>7.168100</td>\n",
       "      <td>4.621975</td>\n",
       "      <td>16.142000</td>\n",
       "      <td>4.043200</td>\n",
       "      <td>14.135500</td>\n",
       "      <td>14.286500</td>\n",
       "      <td>18.460500</td>\n",
       "    </tr>\n",
       "    <tr>\n",
       "      <td>100</td>\n",
       "      <td>4.125000</td>\n",
       "      <td>2.962558</td>\n",
       "      <td>1.282800</td>\n",
       "      <td>0.252600</td>\n",
       "      <td>1.065000</td>\n",
       "      <td>1.101700</td>\n",
       "      <td>1.555200</td>\n",
       "    </tr>\n",
       "    <tr>\n",
       "      <td>150</td>\n",
       "      <td>3.355300</td>\n",
       "      <td>2.636554</td>\n",
       "      <td>2.873000</td>\n",
       "      <td>0.660300</td>\n",
       "      <td>2.532000</td>\n",
       "      <td>2.577500</td>\n",
       "      <td>3.218500</td>\n",
       "    </tr>\n",
       "    <tr>\n",
       "      <td>200</td>\n",
       "      <td>3.201900</td>\n",
       "      <td>2.490908</td>\n",
       "      <td>3.984200</td>\n",
       "      <td>0.964900</td>\n",
       "      <td>3.468700</td>\n",
       "      <td>3.533500</td>\n",
       "      <td>4.005000</td>\n",
       "    </tr>\n",
       "    <tr>\n",
       "      <td>250</td>\n",
       "      <td>2.924800</td>\n",
       "      <td>2.403152</td>\n",
       "      <td>9.159100</td>\n",
       "      <td>2.205700</td>\n",
       "      <td>8.114300</td>\n",
       "      <td>8.186800</td>\n",
       "      <td>7.903200</td>\n",
       "    </tr>\n",
       "    <tr>\n",
       "      <td>300</td>\n",
       "      <td>2.802800</td>\n",
       "      <td>2.357736</td>\n",
       "      <td>13.925800</td>\n",
       "      <td>3.533400</td>\n",
       "      <td>12.502900</td>\n",
       "      <td>12.560700</td>\n",
       "      <td>10.760900</td>\n",
       "    </tr>\n",
       "    <tr>\n",
       "      <td>350</td>\n",
       "      <td>2.730000</td>\n",
       "      <td>2.326510</td>\n",
       "      <td>17.362000</td>\n",
       "      <td>4.797700</td>\n",
       "      <td>15.795300</td>\n",
       "      <td>15.833000</td>\n",
       "      <td>12.645600</td>\n",
       "    </tr>\n",
       "    <tr>\n",
       "      <td>400</td>\n",
       "      <td>2.599000</td>\n",
       "      <td>2.309196</td>\n",
       "      <td>19.912200</td>\n",
       "      <td>5.332700</td>\n",
       "      <td>18.091900</td>\n",
       "      <td>18.112400</td>\n",
       "      <td>13.842000</td>\n",
       "    </tr>\n",
       "    <tr>\n",
       "      <td>450</td>\n",
       "      <td>2.699200</td>\n",
       "      <td>2.294737</td>\n",
       "      <td>20.136300</td>\n",
       "      <td>5.408200</td>\n",
       "      <td>18.259600</td>\n",
       "      <td>18.296100</td>\n",
       "      <td>13.655500</td>\n",
       "    </tr>\n",
       "    <tr>\n",
       "      <td>500</td>\n",
       "      <td>2.624600</td>\n",
       "      <td>2.281069</td>\n",
       "      <td>21.208800</td>\n",
       "      <td>5.749700</td>\n",
       "      <td>19.061800</td>\n",
       "      <td>19.098500</td>\n",
       "      <td>14.620600</td>\n",
       "    </tr>\n",
       "  </tbody>\n",
       "</table><p>"
      ]
     },
     "metadata": {},
     "output_type": "display_data"
    },
    {
     "name": "stderr",
     "output_type": "stream",
     "text": [
      "Passing a tuple of `past_key_values` is deprecated and will be removed in Transformers v4.48.0. You should pass an instance of `EncoderDecoderCache` instead, e.g. `past_key_values=EncoderDecoderCache.from_legacy_cache(past_key_values)`.\n"
     ]
    },
    {
     "ename": "KeyboardInterrupt",
     "evalue": "",
     "output_type": "error",
     "traceback": [
      "\u001B[0;31m---------------------------------------------------------------------------\u001B[0m",
      "\u001B[0;31mKeyboardInterrupt\u001B[0m                         Traceback (most recent call last)",
      "Cell \u001B[0;32mIn[26], line 2\u001B[0m\n\u001B[1;32m      1\u001B[0m get_ipython()\u001B[38;5;241m.\u001B[39mrun_line_magic(\u001B[38;5;124m'\u001B[39m\u001B[38;5;124mtime\u001B[39m\u001B[38;5;124m'\u001B[39m, \u001B[38;5;124m'\u001B[39m\u001B[38;5;124m'\u001B[39m)\n\u001B[0;32m----> 2\u001B[0m \u001B[43mtrainer\u001B[49m\u001B[38;5;241;43m.\u001B[39;49m\u001B[43mtrain\u001B[49m\u001B[43m(\u001B[49m\u001B[43m)\u001B[49m\n",
      "File \u001B[0;32m~/.venv/lib/python3.12/site-packages/transformers/trainer.py:2171\u001B[0m, in \u001B[0;36mTrainer.train\u001B[0;34m(self, resume_from_checkpoint, trial, ignore_keys_for_eval, **kwargs)\u001B[0m\n\u001B[1;32m   2169\u001B[0m         hf_hub_utils\u001B[38;5;241m.\u001B[39menable_progress_bars()\n\u001B[1;32m   2170\u001B[0m \u001B[38;5;28;01melse\u001B[39;00m:\n\u001B[0;32m-> 2171\u001B[0m     \u001B[38;5;28;01mreturn\u001B[39;00m \u001B[43minner_training_loop\u001B[49m\u001B[43m(\u001B[49m\n\u001B[1;32m   2172\u001B[0m \u001B[43m        \u001B[49m\u001B[43margs\u001B[49m\u001B[38;5;241;43m=\u001B[39;49m\u001B[43margs\u001B[49m\u001B[43m,\u001B[49m\n\u001B[1;32m   2173\u001B[0m \u001B[43m        \u001B[49m\u001B[43mresume_from_checkpoint\u001B[49m\u001B[38;5;241;43m=\u001B[39;49m\u001B[43mresume_from_checkpoint\u001B[49m\u001B[43m,\u001B[49m\n\u001B[1;32m   2174\u001B[0m \u001B[43m        \u001B[49m\u001B[43mtrial\u001B[49m\u001B[38;5;241;43m=\u001B[39;49m\u001B[43mtrial\u001B[49m\u001B[43m,\u001B[49m\n\u001B[1;32m   2175\u001B[0m \u001B[43m        \u001B[49m\u001B[43mignore_keys_for_eval\u001B[49m\u001B[38;5;241;43m=\u001B[39;49m\u001B[43mignore_keys_for_eval\u001B[49m\u001B[43m,\u001B[49m\n\u001B[1;32m   2176\u001B[0m \u001B[43m    \u001B[49m\u001B[43m)\u001B[49m\n",
      "File \u001B[0;32m~/.venv/lib/python3.12/site-packages/transformers/trainer.py:2536\u001B[0m, in \u001B[0;36mTrainer._inner_training_loop\u001B[0;34m(self, batch_size, args, resume_from_checkpoint, trial, ignore_keys_for_eval)\u001B[0m\n\u001B[1;32m   2530\u001B[0m \u001B[38;5;28;01mwith\u001B[39;00m context():\n\u001B[1;32m   2531\u001B[0m     tr_loss_step \u001B[38;5;241m=\u001B[39m \u001B[38;5;28mself\u001B[39m\u001B[38;5;241m.\u001B[39mtraining_step(model, inputs, num_items_in_batch)\n\u001B[1;32m   2533\u001B[0m \u001B[38;5;28;01mif\u001B[39;00m (\n\u001B[1;32m   2534\u001B[0m     args\u001B[38;5;241m.\u001B[39mlogging_nan_inf_filter\n\u001B[1;32m   2535\u001B[0m     \u001B[38;5;129;01mand\u001B[39;00m \u001B[38;5;129;01mnot\u001B[39;00m is_torch_xla_available()\n\u001B[0;32m-> 2536\u001B[0m     \u001B[38;5;129;01mand\u001B[39;00m (torch\u001B[38;5;241m.\u001B[39misnan(tr_loss_step) \u001B[38;5;129;01mor\u001B[39;00m \u001B[43mtorch\u001B[49m\u001B[38;5;241;43m.\u001B[39;49m\u001B[43misinf\u001B[49m\u001B[43m(\u001B[49m\u001B[43mtr_loss_step\u001B[49m\u001B[43m)\u001B[49m)\n\u001B[1;32m   2537\u001B[0m ):\n\u001B[1;32m   2538\u001B[0m     \u001B[38;5;66;03m# if loss is nan or inf simply add the average of previous logged losses\u001B[39;00m\n\u001B[1;32m   2539\u001B[0m     tr_loss \u001B[38;5;241m=\u001B[39m tr_loss \u001B[38;5;241m+\u001B[39m tr_loss \u001B[38;5;241m/\u001B[39m (\u001B[38;5;241m1\u001B[39m \u001B[38;5;241m+\u001B[39m \u001B[38;5;28mself\u001B[39m\u001B[38;5;241m.\u001B[39mstate\u001B[38;5;241m.\u001B[39mglobal_step \u001B[38;5;241m-\u001B[39m \u001B[38;5;28mself\u001B[39m\u001B[38;5;241m.\u001B[39m_globalstep_last_logged)\n\u001B[1;32m   2540\u001B[0m \u001B[38;5;28;01melse\u001B[39;00m:\n",
      "\u001B[0;31mKeyboardInterrupt\u001B[0m: "
     ]
    }
   ],
   "execution_count": 26
  },
  {
   "metadata": {},
   "cell_type": "markdown",
   "source": [
    "Model training saved at 500 steps.\n",
    "\n",
    "**TODO**: Train some more steps"
   ],
   "id": "3d835c318e669106"
  },
  {
   "metadata": {},
   "cell_type": "code",
   "outputs": [],
   "execution_count": null,
   "source": "",
   "id": "5f34d6fcb732dd6a"
  }
 ],
 "metadata": {
  "kernelspec": {
   "display_name": "Python 3",
   "language": "python",
   "name": "python3"
  },
  "language_info": {
   "codemirror_mode": {
    "name": "ipython",
    "version": 2
   },
   "file_extension": ".py",
   "mimetype": "text/x-python",
   "name": "python",
   "nbconvert_exporter": "python",
   "pygments_lexer": "ipython2",
   "version": "2.7.6"
  }
 },
 "nbformat": 4,
 "nbformat_minor": 5
}
